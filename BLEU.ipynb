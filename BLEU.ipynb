{
  "nbformat": 4,
  "nbformat_minor": 0,
  "metadata": {
    "colab": {
      "name": "BLEU.ipynb",
      "provenance": [],
      "collapsed_sections": [],
      "authorship_tag": "ABX9TyMzmls6PWbn0xP460ghG0V/",
      "include_colab_link": true
    },
    "kernelspec": {
      "name": "python3",
      "display_name": "Python 3"
    },
    "language_info": {
      "name": "python"
    }
  },
  "cells": [
    {
      "cell_type": "markdown",
      "metadata": {
        "id": "view-in-github",
        "colab_type": "text"
      },
      "source": [
        "<a href=\"https://colab.research.google.com/github/KRiver28/TIL/blob/master/BLEU.ipynb\" target=\"_parent\"><img src=\"https://colab.research.google.com/assets/colab-badge.svg\" alt=\"Open In Colab\"/></a>"
      ]
    },
    {
      "cell_type": "code",
      "execution_count": 1,
      "metadata": {
        "id": "PAzl1DncQo_-"
      },
      "outputs": [],
      "source": [
        "from nltk.translate.bleu_score import sentence_bleu\n",
        "import numpy as np\n",
        "\n",
        "# https://www.nltk.org/_modules/nltk/translate/bleu_score.html"
      ]
    },
    {
      "cell_type": "code",
      "source": [
        "reference = ['It is a guide to action that ensures that the military will forever heed Party commands'.split()]\n",
        "candidate = 'It is a guide to action which ensures that the military always obeys the commands of the party'.split()"
      ],
      "metadata": {
        "id": "USC1JeT4QvYV"
      },
      "execution_count": 2,
      "outputs": []
    },
    {
      "cell_type": "code",
      "source": [
        "bleu = sentence_bleu(reference, candidate, weights=(1, 0, 0, 0))   # unigram: 11 / 18 = 0.61\n",
        "print('unigram BLEU score = {}'.format(bleu))\n",
        "\n",
        "bleu = sentence_bleu(reference, candidate, weights=(0, 1, 0, 0))   # bigram : 8 / 17 = 0.47\n",
        "print('bigram BLEU score = {}'.format(bleu))\n",
        "\n",
        "bleu = sentence_bleu(reference, candidate, weights=(0, 0, 1, 0))   # bigram : 6 / 16 = 0.375\n",
        "print('trigram BLEU score = {}'.format(bleu))\n",
        "\n",
        "bleu = sentence_bleu(reference, candidate, weights=(0, 0, 0, 1))   # bigram : 4 / 15 = 0.2667\n",
        "print('4-grams BLEU score = {}'.format(bleu))\n",
        "\n",
        "bleu = sentence_bleu(reference, candidate, weights=(0.5, 0.5, 0, 0))   # unigram과 bigram의 가중 평균\n",
        "print('unigrams-bigrams BLEU score = {}'.format(bleu))\n",
        "\n",
        "\n",
        "\n"
      ],
      "metadata": {
        "colab": {
          "base_uri": "https://localhost:8080/"
        },
        "id": "gRLtIuAeQvSn",
        "outputId": "8ae7f1b6-5770-45ff-8f47-d520c1049384"
      },
      "execution_count": 3,
      "outputs": [
        {
          "output_type": "stream",
          "name": "stdout",
          "text": [
            "unigram BLEU score = 0.6111111111111112\n",
            "bigram BLEU score = 0.47058823529411764\n",
            "trigram BLEU score = 0.375\n",
            "4-grams BLEU score = 0.26666666666666666\n",
            "unigrams-bigrams BLEU score = 0.5362664443598958\n"
          ]
        }
      ]
    },
    {
      "cell_type": "code",
      "source": [
        "bleu = np.exp(0.5 * np.log(0.6111111111111112) + 0.5 * np.log(0.47058823529411764))\n",
        "print('unigrams-bigrams BLEU score = {}'.format(bleu))\n",
        "\n",
        "# w1 = w2 = w3 = ... 일 때는 기하평균과 동일함.\n",
        "print('geometric mean =', np.sqrt(0.6111111111111112 * 0.47058823529411764))"
      ],
      "metadata": {
        "colab": {
          "base_uri": "https://localhost:8080/"
        },
        "id": "nk-Lj3_7QvLi",
        "outputId": "bce95db6-714a-40b3-fdda-6c28c82e7525"
      },
      "execution_count": 4,
      "outputs": [
        {
          "output_type": "stream",
          "name": "stdout",
          "text": [
            "unigrams-bigrams BLEU score = 0.5362664443598958\n",
            "geometric mean = 0.5362664443598958\n"
          ]
        }
      ]
    },
    {
      "cell_type": "code",
      "source": [
        "# reference가 여러 개일 경우는 candidate의 단어가 reference 중 한개라도 있으면 count.\n",
        "reference = ['It is a guide to action that ensures that the military will forever heed Party commands'.split(),\n",
        "             'It is the guiding principle which guarantees the military forces always being under the command of the Party'.split(),\n",
        "             'It is the practical guide for the army always to heed the directions of the party'.split()]\n",
        "candidate = 'It is a guide to action which ensures that the military always obeys the commands of the party'.split()"
      ],
      "metadata": {
        "id": "IWFu7B1_Qus0"
      },
      "execution_count": 5,
      "outputs": []
    },
    {
      "cell_type": "code",
      "source": [
        "bleu = sentence_bleu(reference, candidate, weights=(1, 0, 0, 0))   # unigram: (17 / 18) = 0.9444\n",
        "print('unigram BLEU score = {}'.format(bleu))\n",
        "\n",
        "bleu = sentence_bleu(reference, candidate)   # default : weights=(0.25, 0.25, 0.25, 0.25)\n",
        "print('unigram ~ 4-grams : BLEU score = {}'.format(bleu))"
      ],
      "metadata": {
        "colab": {
          "base_uri": "https://localhost:8080/"
        },
        "id": "0m1pSi2SQ5ZX",
        "outputId": "32aeed7c-de87-471a-9718-d7d2a8e5deba"
      },
      "execution_count": 6,
      "outputs": [
        {
          "output_type": "stream",
          "name": "stdout",
          "text": [
            "unigram BLEU score = 0.9444444444444444\n",
            "unigram ~ 4-grams : BLEU score = 0.5045666840058485\n"
          ]
        }
      ]
    }
  ]
}