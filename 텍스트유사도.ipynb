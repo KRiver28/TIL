{
  "nbformat": 4,
  "nbformat_minor": 0,
  "metadata": {
    "colab": {
      "name": "텍스트유사도.ipynb",
      "provenance": [],
      "collapsed_sections": [],
      "authorship_tag": "ABX9TyOT54o6UgTOiDMhpYw/mili",
      "include_colab_link": true
    },
    "kernelspec": {
      "name": "python3",
      "display_name": "Python 3"
    },
    "language_info": {
      "name": "python"
    }
  },
  "cells": [
    {
      "cell_type": "markdown",
      "metadata": {
        "id": "view-in-github",
        "colab_type": "text"
      },
      "source": [
        "<a href=\"https://colab.research.google.com/github/KRiver28/TIL/blob/master/%ED%85%8D%EC%8A%A4%ED%8A%B8%EC%9C%A0%EC%82%AC%EB%8F%84.ipynb\" target=\"_parent\"><img src=\"https://colab.research.google.com/assets/colab-badge.svg\" alt=\"Open In Colab\"/></a>"
      ]
    },
    {
      "cell_type": "code",
      "execution_count": 1,
      "metadata": {
        "id": "2H660CS-GPEg"
      },
      "outputs": [],
      "source": [
        "# Tfidf를 이용한 유사도 측정 예시\n",
        "# 유사도 : 자카드, 코사인, 유클리디언, 맨하탄 유사도\n",
        "# ------------------------------------------------\n",
        "import numpy as np\n",
        "from sklearn.feature_extraction.text import TfidfVectorizer"
      ]
    },
    {
      "cell_type": "code",
      "source": [
        "sent = (\"휴일 인 오늘 도 서쪽 을 중심 으로 폭염 이 이어졌는데요, 내일 은 반가운 비 소식 이 있습니다.\", \n",
        "        \"폭염 을 피해서 휴일 에 놀러왔다가 갑작스런 비 로 인해 망연자실 하고 있습니다.\")"
      ],
      "metadata": {
        "id": "tpNgAnk7HWfC"
      },
      "execution_count": 2,
      "outputs": []
    },
    {
      "cell_type": "code",
      "source": [
        "# 1. 자카드 유사도\n",
        "# ----------------\n",
        "sent_1 = set(sent[0].split())\n",
        "sent_2 = set(sent[1].split())\n",
        "print(sent_1)\n",
        "print(sent_2)"
      ],
      "metadata": {
        "colab": {
          "base_uri": "https://localhost:8080/"
        },
        "id": "6xOV04KJHVHQ",
        "outputId": "67c080ac-7db8-4f50-85a4-a71072395044"
      },
      "execution_count": 3,
      "outputs": [
        {
          "output_type": "stream",
          "name": "stdout",
          "text": [
            "{'오늘', '폭염', '있습니다.', '인', '비', '소식', '반가운', '도', '으로', '내일', '이어졌는데요,', '서쪽', '을', '중심', '이', '은', '휴일'}\n",
            "{'폭염', '하고', '있습니다.', '비', '망연자실', '로', '피해서', '갑작스런', '을', '에', '놀러왔다가', '휴일', '인해'}\n"
          ]
        }
      ]
    },
    {
      "cell_type": "code",
      "source": [
        "# 합집합과 교집합을 구한다.\n",
        "hap_set = sent_1 | sent_2\n",
        "gyo_set = sent_1 & sent_2\n",
        "print()\n",
        "print(hap_set, '\\n')\n",
        "print(gyo_set, '\\n')\n",
        "\n",
        "jaccard = len(gyo_set) / len(hap_set)\n",
        "print(jaccard)\n",
        "\n",
        "tfidf_vectorizer = TfidfVectorizer()\n",
        "tfidf_matrix = tfidf_vectorizer.fit_transform(sent).toarray()\n",
        "print(np.round(tfidf_matrix, 3))\n",
        "\n",
        "idf = tfidf_vectorizer.idf_\n",
        "print(dict(zip(tfidf_vectorizer.get_feature_names(), idf))) # 각 수치에 대한 값 시각화"
      ],
      "metadata": {
        "colab": {
          "base_uri": "https://localhost:8080/"
        },
        "id": "0Z6WUHOqHT4A",
        "outputId": "5029404a-412a-4823-a525-7f5e23a08b84"
      },
      "execution_count": 4,
      "outputs": [
        {
          "output_type": "stream",
          "name": "stdout",
          "text": [
            "\n",
            "{'오늘', '하고', '인', '비', '로', '도', '으로', '피해서', '휴일', '서쪽', '을', '중심', '이', '에', '소식', '인해', '폭염', '있습니다.', '망연자실', '반가운', '내일', '갑작스런', '이어졌는데요,', '놀러왔다가', '은'} \n",
            "\n",
            "{'폭염', '있습니다.', '비', '을', '휴일'} \n",
            "\n",
            "0.2\n",
            "[[0.    0.324 0.    0.    0.324 0.324 0.324 0.324 0.324 0.324 0.    0.231\n",
            "  0.324 0.231 0.    0.    0.231]\n",
            " [0.365 0.    0.365 0.365 0.    0.    0.    0.    0.    0.    0.365 0.259\n",
            "  0.    0.259 0.365 0.365 0.259]]\n",
            "{'갑작스런': 1.4054651081081644, '내일': 1.4054651081081644, '놀러왔다가': 1.4054651081081644, '망연자실': 1.4054651081081644, '반가운': 1.4054651081081644, '서쪽': 1.4054651081081644, '소식': 1.4054651081081644, '오늘': 1.4054651081081644, '으로': 1.4054651081081644, '이어졌는데요': 1.4054651081081644, '인해': 1.4054651081081644, '있습니다': 1.0, '중심': 1.4054651081081644, '폭염': 1.0, '피해서': 1.4054651081081644, '하고': 1.4054651081081644, '휴일': 1.0}\n"
          ]
        },
        {
          "output_type": "stream",
          "name": "stderr",
          "text": [
            "/usr/local/lib/python3.7/dist-packages/sklearn/utils/deprecation.py:87: FutureWarning: Function get_feature_names is deprecated; get_feature_names is deprecated in 1.0 and will be removed in 1.2. Please use get_feature_names_out instead.\n",
            "  warnings.warn(msg, category=FutureWarning)\n"
          ]
        }
      ]
    },
    {
      "cell_type": "code",
      "source": [
        "# 2. 코사인 유사도\n",
        "# ---------------\n",
        "from sklearn.metrics.pairwise import cosine_similarity\n",
        "\n",
        "d = cosine_similarity(tfidf_matrix[0:1], tfidf_matrix[1:2])\n",
        "print(d)"
      ],
      "metadata": {
        "colab": {
          "base_uri": "https://localhost:8080/"
        },
        "id": "8V4vkYyKHNQb",
        "outputId": "9e87fe55-5a47-4b14-c16f-1ef7c7d2b33e"
      },
      "execution_count": 5,
      "outputs": [
        {
          "output_type": "stream",
          "name": "stdout",
          "text": [
            "[[0.17952266]]\n"
          ]
        }
      ]
    },
    {
      "cell_type": "code",
      "source": [
        "# 3. 유클리디안 유사도\n",
        "# -------------------\n",
        "from sklearn.metrics.pairwise import euclidean_distances\n",
        "\n",
        "euclidean_distances(tfidf_matrix[0:1], tfidf_matrix[1:2])"
      ],
      "metadata": {
        "colab": {
          "base_uri": "https://localhost:8080/"
        },
        "id": "TJDa9_3_HNJ_",
        "outputId": "d79ee3e8-7468-487d-8105-c5dec17416f2"
      },
      "execution_count": 6,
      "outputs": [
        {
          "output_type": "execute_result",
          "data": {
            "text/plain": [
              "array([[1.28099753]])"
            ]
          },
          "metadata": {},
          "execution_count": 6
        }
      ]
    },
    {
      "cell_type": "code",
      "source": [
        "# 정규화\n",
        "def l1_normalize(v):\n",
        "    return v / np.sum(v)\n",
        "\n",
        "tfidf_norm_l1 = l1_normalize(tfidf_matrix)\n",
        "euclidean_distances(tfidf_norm_l1[0:1], tfidf_norm_l1[1:2])"
      ],
      "metadata": {
        "colab": {
          "base_uri": "https://localhost:8080/"
        },
        "id": "xN3W2fMdHNDf",
        "outputId": "6c8ae558-218f-4aa8-d3d0-8d52b9d60486"
      },
      "execution_count": 7,
      "outputs": [
        {
          "output_type": "execute_result",
          "data": {
            "text/plain": [
              "array([[0.20491229]])"
            ]
          },
          "metadata": {},
          "execution_count": 7
        }
      ]
    },
    {
      "cell_type": "code",
      "source": [
        "# 4. 맨하탄 유사도\n",
        "# ---------------\n",
        "from sklearn.metrics.pairwise import manhattan_distances\n",
        "\n",
        "manhattan_distances(tfidf_norm_l1[0:1], tfidf_norm_l1[1:2])"
      ],
      "metadata": {
        "colab": {
          "base_uri": "https://localhost:8080/"
        },
        "id": "CPWSA9WmHSCP",
        "outputId": "35019889-35e3-4b7e-bf04-266d44dafdfc"
      },
      "execution_count": 8,
      "outputs": [
        {
          "output_type": "execute_result",
          "data": {
            "text/plain": [
              "array([[0.77865927]])"
            ]
          },
          "metadata": {},
          "execution_count": 8
        }
      ]
    }
  ]
}