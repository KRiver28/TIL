{
  "nbformat": 4,
  "nbformat_minor": 0,
  "metadata": {
    "colab": {
      "name": "popcorn(CNN).ipynb",
      "provenance": [],
      "mount_file_id": "1QmN-e85E_ZrkXAr4a5qNEOzaLcbGAjn1",
      "authorship_tag": "ABX9TyMqucRJ01nnrqTy3ld5fAoM",
      "include_colab_link": true
    },
    "kernelspec": {
      "name": "python3",
      "display_name": "Python 3"
    },
    "language_info": {
      "name": "python"
    }
  },
  "cells": [
    {
      "cell_type": "markdown",
      "metadata": {
        "id": "view-in-github",
        "colab_type": "text"
      },
      "source": [
        "<a href=\"https://colab.research.google.com/github/KRiver28/TIL/blob/master/popcorn(CNN).ipynb\" target=\"_parent\"><img src=\"https://colab.research.google.com/assets/colab-badge.svg\" alt=\"Open In Colab\"/></a>"
      ]
    },
    {
      "cell_type": "code",
      "execution_count": 4,
      "metadata": {
        "id": "vREEH1p2qMo9"
      },
      "outputs": [],
      "source": [
        "# Word Embedding & CNN을 이용한 감성분석\n",
        "from tensorflow.keras.preprocessing.sequence import pad_sequences\n",
        "from tensorflow.keras.preprocessing.text import Tokenizer\n",
        "from tensorflow.keras.layers import Input, Embedding, Dense, Dropout\n",
        "from tensorflow.keras.layers import Conv1D, GlobalMaxPool1D, Concatenate\n",
        "from sklearn.model_selection import train_test_split\n",
        "from tensorflow.keras.models import Model\n",
        "from tensorflow.keras.optimizers import Adam\n",
        "from tensorflow.keras import regularizers\n",
        "import matplotlib.pyplot as plt\n",
        "from scipy import stats\n",
        "import numpy as np\n",
        "import pickle\n"
      ]
    },
    {
      "cell_type": "code",
      "source": [
        "DATA_PATH = '/content/drive/MyDrive/'\n",
        "\n",
        "# 학습 데이터를 읽어온다.\n",
        "with open(DATA_PATH + 'popcorn.pkl', 'rb') as f:\n",
        "    x_text, _, y_target, _ = pickle.load(f)\n",
        "\n",
        "y_target = np.array(y_target).reshape(-1,1)"
      ],
      "metadata": {
        "id": "J1K_OgHWqRlL"
      },
      "execution_count": 3,
      "outputs": []
    },
    {
      "cell_type": "code",
      "source": [
        "\n",
        "# 사전이 너무 크다. 줄여보자.\n",
        "VOCAB_SIZE = 20000\n",
        "tokenizer = Tokenizer(num_words = VOCAB_SIZE, oov_token='<OOV>')\n",
        "tokenizer.fit_on_texts(x_text)\n",
        "x_feat = tokenizer.texts_to_sequences(x_text)\n",
        "word2idx = {k:v for k, v in tokenizer.word_index.items() if v < VOCAB_SIZE}\n",
        "word2idx['<PAD>'] = 0\n",
        "\n",
        "# 각 리뷰의 길이를 max_seq_len로 맞춘다. 길면 자르고, 짧으면 padding을 추가한다.\n",
        "MAX_SEQ_LEN = 174\n",
        "x_data_pad = pad_sequences(x_feat, maxlen=MAX_SEQ_LEN, padding='post', truncating='post')\n",
        "\n",
        "# 학습 데이터와 시험 데이터로 분리한다.\n",
        "x_train, x_test, y_train, y_test = train_test_split(x_data_pad, y_target, test_size=0.2)\n",
        "x_train.shape, x_test.shape, y_train.shape, y_test.shape"
      ],
      "metadata": {
        "colab": {
          "base_uri": "https://localhost:8080/"
        },
        "id": "thGewPuPqRjc",
        "outputId": "672306a1-357f-4008-e4f8-65bbee890ad2"
      },
      "execution_count": 5,
      "outputs": [
        {
          "output_type": "execute_result",
          "data": {
            "text/plain": [
              "((20000, 174), (5000, 174), (20000, 1), (5000, 1))"
            ]
          },
          "metadata": {},
          "execution_count": 5
        }
      ]
    },
    {
      "cell_type": "code",
      "source": [
        "# CNN 모델을 빌드한다.\n",
        "VOCAB_SIZE = len(word2idx)\n",
        "EMB_SIZE = 32\n",
        "NUM_FILTER = 32\n",
        "\n",
        "# Convolution & Pooling\n",
        "def conv1d_maxpool(x, k):\n",
        "    conv = Conv1D(filters=NUM_FILTER, kernel_size=k, activation='relu',\n",
        "               kernel_regularizer=regularizers.l2(0.005))(x)\n",
        "    return GlobalMaxPool1D()(conv)\n",
        "\n",
        "x_input = Input(batch_shape=(None, x_train.shape[1]))\n",
        "emb = Embedding(input_dim=VOCAB_SIZE, output_dim=EMB_SIZE)(x_input)\n",
        "emb = Dropout(rate=0.5)(emb)\n",
        "\n",
        "pool1 = conv1d_maxpool(emb, k=3)  # 3-gram\n",
        "pool2 = conv1d_maxpool(emb, k=4)  # 4-gram\n",
        "pool3 = conv1d_maxpool(emb, k=5)  # 5-gram\n",
        "concat = Concatenate()([pool1, pool2, pool3])\n",
        "y_output = Dense(1, activation='sigmoid')(concat)\n",
        "\n",
        "model = Model(x_input, y_output)\n",
        "model.compile(loss='binary_crossentropy', optimizer=Adam(learning_rate=0.0005))\n",
        "model.summary()"
      ],
      "metadata": {
        "colab": {
          "base_uri": "https://localhost:8080/"
        },
        "id": "eio_VVj9qRiU",
        "outputId": "7b731928-01c0-49b4-b7c7-f07932a4eb18"
      },
      "execution_count": 6,
      "outputs": [
        {
          "output_type": "stream",
          "name": "stdout",
          "text": [
            "Model: \"model\"\n",
            "__________________________________________________________________________________________________\n",
            " Layer (type)                   Output Shape         Param #     Connected to                     \n",
            "==================================================================================================\n",
            " input_1 (InputLayer)           [(None, 174)]        0           []                               \n",
            "                                                                                                  \n",
            " embedding (Embedding)          (None, 174, 32)      640000      ['input_1[0][0]']                \n",
            "                                                                                                  \n",
            " dropout (Dropout)              (None, 174, 32)      0           ['embedding[0][0]']              \n",
            "                                                                                                  \n",
            " conv1d (Conv1D)                (None, 172, 32)      3104        ['dropout[0][0]']                \n",
            "                                                                                                  \n",
            " conv1d_1 (Conv1D)              (None, 171, 32)      4128        ['dropout[0][0]']                \n",
            "                                                                                                  \n",
            " conv1d_2 (Conv1D)              (None, 170, 32)      5152        ['dropout[0][0]']                \n",
            "                                                                                                  \n",
            " global_max_pooling1d (GlobalMa  (None, 32)          0           ['conv1d[0][0]']                 \n",
            " xPooling1D)                                                                                      \n",
            "                                                                                                  \n",
            " global_max_pooling1d_1 (Global  (None, 32)          0           ['conv1d_1[0][0]']               \n",
            " MaxPooling1D)                                                                                    \n",
            "                                                                                                  \n",
            " global_max_pooling1d_2 (Global  (None, 32)          0           ['conv1d_2[0][0]']               \n",
            " MaxPooling1D)                                                                                    \n",
            "                                                                                                  \n",
            " concatenate (Concatenate)      (None, 96)           0           ['global_max_pooling1d[0][0]',   \n",
            "                                                                  'global_max_pooling1d_1[0][0]', \n",
            "                                                                  'global_max_pooling1d_2[0][0]'] \n",
            "                                                                                                  \n",
            " dense (Dense)                  (None, 1)            97          ['concatenate[0][0]']            \n",
            "                                                                                                  \n",
            "==================================================================================================\n",
            "Total params: 652,481\n",
            "Trainable params: 652,481\n",
            "Non-trainable params: 0\n",
            "__________________________________________________________________________________________________\n"
          ]
        }
      ]
    },
    {
      "cell_type": "code",
      "source": [
        "# 학습\n",
        "hist = model.fit(x_train, y_train, validation_data = (x_test, y_test), batch_size = 1024, epochs = 30)\n",
        "\n",
        "# Loss history를 그린다\n",
        "plt.plot(hist.history['loss'], label='Train loss')\n",
        "plt.plot(hist.history['val_loss'], label = 'Test loss')\n",
        "plt.legend()\n",
        "plt.title(\"Loss history\")\n",
        "plt.xlabel(\"epoch\")\n",
        "plt.ylabel(\"loss\")\n",
        "plt.show()"
      ],
      "metadata": {
        "colab": {
          "base_uri": "https://localhost:8080/",
          "height": 1000
        },
        "id": "L4V8le57qRfv",
        "outputId": "12ac33e1-bd0c-49a9-e993-3cffc480a386"
      },
      "execution_count": 7,
      "outputs": [
        {
          "output_type": "stream",
          "name": "stdout",
          "text": [
            "Epoch 1/30\n",
            "20/20 [==============================] - 14s 614ms/step - loss: 1.1376 - val_loss: 1.0907\n",
            "Epoch 2/30\n",
            "20/20 [==============================] - 12s 600ms/step - loss: 1.0549 - val_loss: 1.0157\n",
            "Epoch 3/30\n",
            "20/20 [==============================] - 12s 600ms/step - loss: 0.9856 - val_loss: 0.9530\n",
            "Epoch 4/30\n",
            "20/20 [==============================] - 12s 599ms/step - loss: 0.9278 - val_loss: 0.9004\n",
            "Epoch 5/30\n",
            "20/20 [==============================] - 12s 598ms/step - loss: 0.8788 - val_loss: 0.8554\n",
            "Epoch 6/30\n",
            "20/20 [==============================] - 12s 597ms/step - loss: 0.8357 - val_loss: 0.8147\n",
            "Epoch 7/30\n",
            "20/20 [==============================] - 12s 613ms/step - loss: 0.7946 - val_loss: 0.7743\n",
            "Epoch 8/30\n",
            "20/20 [==============================] - 12s 595ms/step - loss: 0.7508 - val_loss: 0.7303\n",
            "Epoch 9/30\n",
            "20/20 [==============================] - 12s 595ms/step - loss: 0.7008 - val_loss: 0.6820\n",
            "Epoch 10/30\n",
            "20/20 [==============================] - 12s 594ms/step - loss: 0.6484 - val_loss: 0.6340\n",
            "Epoch 11/30\n",
            "20/20 [==============================] - 12s 595ms/step - loss: 0.6015 - val_loss: 0.5941\n",
            "Epoch 12/30\n",
            "20/20 [==============================] - 12s 596ms/step - loss: 0.5627 - val_loss: 0.5647\n",
            "Epoch 13/30\n",
            "20/20 [==============================] - 13s 632ms/step - loss: 0.5333 - val_loss: 0.5409\n",
            "Epoch 14/30\n",
            "20/20 [==============================] - 12s 595ms/step - loss: 0.5115 - val_loss: 0.5222\n",
            "Epoch 15/30\n",
            "20/20 [==============================] - 12s 596ms/step - loss: 0.4911 - val_loss: 0.5070\n",
            "Epoch 16/30\n",
            "20/20 [==============================] - 12s 595ms/step - loss: 0.4754 - val_loss: 0.4954\n",
            "Epoch 17/30\n",
            "20/20 [==============================] - 12s 599ms/step - loss: 0.4579 - val_loss: 0.4844\n",
            "Epoch 18/30\n",
            "20/20 [==============================] - 12s 602ms/step - loss: 0.4450 - val_loss: 0.4755\n",
            "Epoch 19/30\n",
            "20/20 [==============================] - 12s 598ms/step - loss: 0.4331 - val_loss: 0.4673\n",
            "Epoch 20/30\n",
            "20/20 [==============================] - 12s 597ms/step - loss: 0.4195 - val_loss: 0.4607\n",
            "Epoch 21/30\n",
            "20/20 [==============================] - 12s 597ms/step - loss: 0.4066 - val_loss: 0.4545\n",
            "Epoch 22/30\n",
            "20/20 [==============================] - 12s 596ms/step - loss: 0.3945 - val_loss: 0.4493\n",
            "Epoch 23/30\n",
            "20/20 [==============================] - 12s 599ms/step - loss: 0.3862 - val_loss: 0.4448\n",
            "Epoch 24/30\n",
            "20/20 [==============================] - 12s 601ms/step - loss: 0.3734 - val_loss: 0.4412\n",
            "Epoch 25/30\n",
            "20/20 [==============================] - 12s 603ms/step - loss: 0.3626 - val_loss: 0.4379\n",
            "Epoch 26/30\n",
            "20/20 [==============================] - 12s 599ms/step - loss: 0.3530 - val_loss: 0.4350\n",
            "Epoch 27/30\n",
            "20/20 [==============================] - 12s 598ms/step - loss: 0.3467 - val_loss: 0.4319\n",
            "Epoch 28/30\n",
            "20/20 [==============================] - 12s 601ms/step - loss: 0.3350 - val_loss: 0.4301\n",
            "Epoch 29/30\n",
            "20/20 [==============================] - 12s 599ms/step - loss: 0.3273 - val_loss: 0.4278\n",
            "Epoch 30/30\n",
            "20/20 [==============================] - 12s 597ms/step - loss: 0.3202 - val_loss: 0.4263\n"
          ]
        },
        {
          "output_type": "display_data",
          "data": {
            "text/plain": [
              "<Figure size 432x288 with 1 Axes>"
            ],
            "image/png": "[encoded data removed]"
          },
          "metadata": {
            "needs_background": "light"
          }
        }
      ]
    },
    {
      "cell_type": "code",
      "source": [
        "# 시험 데이터로 학습 성능을 평가한다\n",
        "pred = model.predict(x_test)\n",
        "y_pred = np.where(pred > 0.5, 1, 0)\n",
        "accuracy = (y_pred == y_test).mean()\n",
        "print(\"\\nAccuracy = %.2f %s\" % (accuracy * 100, '%'))"
      ],
      "metadata": {
        "colab": {
          "base_uri": "https://localhost:8080/"
        },
        "id": "7nVaY8XvqYxa",
        "outputId": "0dfc6e46-5b4d-4461-e7e5-3e8a7fdce9ba"
      },
      "execution_count": 8,
      "outputs": [
        {
          "output_type": "stream",
          "name": "stdout",
          "text": [
            "\n",
            "Accuracy = 83.90 %\n"
          ]
        }
      ]
    }
  ]
}