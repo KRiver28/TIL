{
  "nbformat": 4,
  "nbformat_minor": 0,
  "metadata": {
    "colab": {
      "name": "nltk.ipynb",
      "provenance": [],
      "collapsed_sections": [],
      "authorship_tag": "ABX9TyNa6to2CdL0zkLy7PcLtbOO",
      "include_colab_link": true
    },
    "kernelspec": {
      "name": "python3",
      "display_name": "Python 3"
    },
    "language_info": {
      "name": "python"
    }
  },
  "cells": [
    {
      "cell_type": "markdown",
      "metadata": {
        "id": "view-in-github",
        "colab_type": "text"
      },
      "source": [
        "<a href=\"https://colab.research.google.com/github/KRiver28/TIL/blob/master/nltk.ipynb\" target=\"_parent\"><img src=\"https://colab.research.google.com/assets/colab-badge.svg\" alt=\"Open In Colab\"/></a>"
      ]
    },
    {
      "cell_type": "code",
      "source": [
        "import nltk\n",
        "nltk.download('punkt')\n",
        "nltk.download('stopwords') #불용어 목록"
      ],
      "metadata": {
        "colab": {
          "base_uri": "https://localhost:8080/"
        },
        "id": "WzNO5E42ebM2",
        "outputId": "eebe55a0-b72d-4378-cf4e-ea9fdbcda556"
      },
      "execution_count": 1,
      "outputs": [
        {
          "output_type": "stream",
          "name": "stdout",
          "text": [
            "[nltk_data] Downloading package punkt to /root/nltk_data...\n",
            "[nltk_data]   Unzipping tokenizers/punkt.zip.\n",
            "[nltk_data] Downloading package stopwords to /root/nltk_data...\n",
            "[nltk_data]   Unzipping corpora/stopwords.zip.\n"
          ]
        },
        {
          "output_type": "execute_result",
          "data": {
            "text/plain": [
              "True"
            ]
          },
          "metadata": {},
          "execution_count": 1
        }
      ]
    },
    {
      "cell_type": "code",
      "execution_count": 2,
      "metadata": {
        "colab": {
          "base_uri": "https://localhost:8080/"
        },
        "id": "mlhc24R_eXjm",
        "outputId": "22c211b6-0e7a-4d9f-c29a-44605c998904"
      },
      "outputs": [
        {
          "output_type": "stream",
          "name": "stdout",
          "text": [
            "['Natural', 'language', 'processing', '(', 'NLP', ')', 'is', 'a', 'subfield', 'of', 'computer', 'science', ',', 'information', 'engineering', ',', 'and', 'artificial', 'intelligence', 'concerned', 'with', 'the', 'interactions', 'between', 'computers', 'and', 'human', '(', 'natural', ')', 'languages', ',', 'in', 'particular', 'how', 'to', 'program', 'computers', 'to', 'process', 'and', 'analyze', 'large', 'amounts', 'of', 'natural', 'language', 'data', '.']\n"
          ]
        }
      ],
      "source": [
        "from nltk.tokenize import word_tokenize\n",
        "\n",
        "sentence = \"\"\"\n",
        "Natural language processing (NLP) is a subfield of computer science, information engineering, \n",
        "and artificial intelligence concerned with the interactions between computers and human (natural) languages, \n",
        "in particular how to program computers to process and analyze large amounts of natural language data.\n",
        "\"\"\"\n",
        "\n",
        "print(word_tokenize(sentence))\n"
      ]
    },
    {
      "cell_type": "markdown",
      "source": [
        "#paragraph"
      ],
      "metadata": {
        "id": "dvChH0VpwWlm"
      }
    },
    {
      "cell_type": "code",
      "source": [
        "from nltk.tokenize import sent_tokenize\n",
        "\n",
        "paragraph = \"\"\"\n",
        "Natural language processing (NLP) is a subfield of computer science, information engineering, \n",
        "and artificial intelligence concerned with the interactions between computers and human (natural) languages, \n",
        "in particular how to program computers to process and analyze large amounts of natural language data. \n",
        "Challenges in natural language processing frequently involve speech recognition, natural language understanding, \n",
        "and natural language generation.\n",
        "\"\"\"\n",
        "\n",
        "print(sent_tokenize(paragraph))\n"
      ],
      "metadata": {
        "colab": {
          "base_uri": "https://localhost:8080/"
        },
        "id": "VR4k-GJfwUQ4",
        "outputId": "a7c1fa8f-0bbf-4c3d-fd28-7a3a93a81e2b"
      },
      "execution_count": 5,
      "outputs": [
        {
          "output_type": "stream",
          "name": "stdout",
          "text": [
            "['\\nNatural language processing (NLP) is a subfield of computer science, information engineering, \\nand artificial intelligence concerned with the interactions between computers and human (natural) languages, \\nin particular how to program computers to process and analyze large amounts of natural language data.', 'Challenges in natural language processing frequently involve speech recognition, natural language understanding, \\nand natural language generation.']\n"
          ]
        }
      ]
    },
    {
      "cell_type": "code",
      "source": [
        "word_tokens = [word_tokenize(x) for x in sent_tokenize(paragraph)]\n",
        "word_tokens[0]"
      ],
      "metadata": {
        "colab": {
          "base_uri": "https://localhost:8080/"
        },
        "id": "S3Jl3UqOwcoC",
        "outputId": "d632ff87-6331-41ac-af9c-056039733e99"
      },
      "execution_count": 48,
      "outputs": [
        {
          "output_type": "execute_result",
          "data": {
            "text/plain": [
              "['Natural',\n",
              " 'language',\n",
              " 'processing',\n",
              " '(',\n",
              " 'NLP',\n",
              " ')',\n",
              " 'is',\n",
              " 'a',\n",
              " 'subfield',\n",
              " 'of',\n",
              " 'computer',\n",
              " 'science',\n",
              " ',',\n",
              " 'information',\n",
              " 'engineering',\n",
              " ',',\n",
              " 'and',\n",
              " 'artificial',\n",
              " 'intelligence',\n",
              " 'concerned',\n",
              " 'with',\n",
              " 'the',\n",
              " 'interactions',\n",
              " 'between',\n",
              " 'computers',\n",
              " 'and',\n",
              " 'human',\n",
              " '(',\n",
              " 'natural',\n",
              " ')',\n",
              " 'languages',\n",
              " ',',\n",
              " 'in',\n",
              " 'particular',\n",
              " 'how',\n",
              " 'to',\n",
              " 'program',\n",
              " 'computers',\n",
              " 'to',\n",
              " 'process',\n",
              " 'and',\n",
              " 'analyze',\n",
              " 'large',\n",
              " 'amounts',\n",
              " 'of',\n",
              " 'natural',\n",
              " 'language',\n",
              " 'data',\n",
              " '.']"
            ]
          },
          "metadata": {},
          "execution_count": 48
        }
      ]
    },
    {
      "cell_type": "code",
      "source": [
        "# stop words 제거\n",
        "stopwords = nltk.corpus.stopwords.words('english')\n",
        "stopwords.append(',')\n",
        "print(stopwords)"
      ],
      "metadata": {
        "colab": {
          "base_uri": "https://localhost:8080/"
        },
        "id": "dBetEf9Xwjg9",
        "outputId": "3120d5aa-6d4f-4884-f11d-1032328e4eb5"
      },
      "execution_count": 7,
      "outputs": [
        {
          "output_type": "stream",
          "name": "stdout",
          "text": [
            "['i', 'me', 'my', 'myself', 'we', 'our', 'ours', 'ourselves', 'you', \"you're\", \"you've\", \"you'll\", \"you'd\", 'your', 'yours', 'yourself', 'yourselves', 'he', 'him', 'his', 'himself', 'she', \"she's\", 'her', 'hers', 'herself', 'it', \"it's\", 'its', 'itself', 'they', 'them', 'their', 'theirs', 'themselves', 'what', 'which', 'who', 'whom', 'this', 'that', \"that'll\", 'these', 'those', 'am', 'is', 'are', 'was', 'were', 'be', 'been', 'being', 'have', 'has', 'had', 'having', 'do', 'does', 'did', 'doing', 'a', 'an', 'the', 'and', 'but', 'if', 'or', 'because', 'as', 'until', 'while', 'of', 'at', 'by', 'for', 'with', 'about', 'against', 'between', 'into', 'through', 'during', 'before', 'after', 'above', 'below', 'to', 'from', 'up', 'down', 'in', 'out', 'on', 'off', 'over', 'under', 'again', 'further', 'then', 'once', 'here', 'there', 'when', 'where', 'why', 'how', 'all', 'any', 'both', 'each', 'few', 'more', 'most', 'other', 'some', 'such', 'no', 'nor', 'not', 'only', 'own', 'same', 'so', 'than', 'too', 'very', 's', 't', 'can', 'will', 'just', 'don', \"don't\", 'should', \"should've\", 'now', 'd', 'll', 'm', 'o', 're', 've', 'y', 'ain', 'aren', \"aren't\", 'couldn', \"couldn't\", 'didn', \"didn't\", 'doesn', \"doesn't\", 'hadn', \"hadn't\", 'hasn', \"hasn't\", 'haven', \"haven't\", 'isn', \"isn't\", 'ma', 'mightn', \"mightn't\", 'mustn', \"mustn't\", 'needn', \"needn't\", 'shan', \"shan't\", 'shouldn', \"shouldn't\", 'wasn', \"wasn't\", 'weren', \"weren't\", 'won', \"won't\", 'wouldn', \"wouldn't\", ',']\n"
          ]
        }
      ]
    },
    {
      "cell_type": "code",
      "source": [
        "# 불용어를 제거한다.\n",
        "all_tokens = []\n",
        "for sent in word_tokens:\n",
        "  all_tokens.append([word for word in sent if word.lower() not in stopwords])\n",
        "  \n",
        "all_tokens"
      ],
      "metadata": {
        "colab": {
          "base_uri": "https://localhost:8080/"
        },
        "id": "fapv4ptryuf9",
        "outputId": "06ea4f34-1773-46ae-998f-eb2ac841ed96"
      },
      "execution_count": 9,
      "outputs": [
        {
          "output_type": "execute_result",
          "data": {
            "text/plain": [
              "[['Natural',\n",
              "  'language',\n",
              "  'processing',\n",
              "  '(',\n",
              "  'NLP',\n",
              "  ')',\n",
              "  'subfield',\n",
              "  'computer',\n",
              "  'science',\n",
              "  'information',\n",
              "  'engineering',\n",
              "  'artificial',\n",
              "  'intelligence',\n",
              "  'concerned',\n",
              "  'interactions',\n",
              "  'computers',\n",
              "  'human',\n",
              "  '(',\n",
              "  'natural',\n",
              "  ')',\n",
              "  'languages',\n",
              "  'particular',\n",
              "  'program',\n",
              "  'computers',\n",
              "  'process',\n",
              "  'analyze',\n",
              "  'large',\n",
              "  'amounts',\n",
              "  'natural',\n",
              "  'language',\n",
              "  'data',\n",
              "  '.'],\n",
              " ['Challenges',\n",
              "  'natural',\n",
              "  'language',\n",
              "  'processing',\n",
              "  'frequently',\n",
              "  'involve',\n",
              "  'speech',\n",
              "  'recognition',\n",
              "  'natural',\n",
              "  'language',\n",
              "  'understanding',\n",
              "  'natural',\n",
              "  'language',\n",
              "  'generation',\n",
              "  '.']]"
            ]
          },
          "metadata": {},
          "execution_count": 9
        }
      ]
    },
    {
      "cell_type": "markdown",
      "source": [
        "# Stemming (어간)"
      ],
      "metadata": {
        "id": "tvqozss90tNq"
      }
    },
    {
      "cell_type": "code",
      "source": [
        "from nltk.stem import LancasterStemmer\n",
        "stemmer = LancasterStemmer()\n",
        "for word in ['working','works','worked', 'having', 'had']:\n",
        "  print(stemmer.stem(word))"
      ],
      "metadata": {
        "colab": {
          "base_uri": "https://localhost:8080/"
        },
        "id": "WTWz6DVny_CR",
        "outputId": "84453a85-559a-40c7-d223-272e907e9cec"
      },
      "execution_count": 13,
      "outputs": [
        {
          "output_type": "stream",
          "name": "stdout",
          "text": [
            "work\n",
            "work\n",
            "work\n",
            "hav\n",
            "had\n"
          ]
        }
      ]
    },
    {
      "cell_type": "markdown",
      "source": [
        "# Lemmatization (표제어)"
      ],
      "metadata": {
        "id": "0EGPkx6x07oa"
      }
    },
    {
      "cell_type": "code",
      "source": [
        "from nltk.stem import WordNetLemmatizer\n",
        "nltk.download('wordnet')\n",
        "\n",
        "lemma = WordNetLemmatizer()\n",
        "for word in ['working','works','worked', 'having', 'had']:\n",
        "  print(lemma.lemmatize(word,'v')) # v =  동사로 사용 될 때의 기본형\n",
        "\n",
        "for word in ['happier', 'happiest']:\n",
        "  print(lemma.lemmatize(word,'a')) # a = 형용사로 사용 될 때의 기본형"
      ],
      "metadata": {
        "colab": {
          "base_uri": "https://localhost:8080/"
        },
        "id": "Wtc3Vly306JV",
        "outputId": "ae5f949e-a60a-4548-e07d-be6da7635125"
      },
      "execution_count": 14,
      "outputs": [
        {
          "output_type": "stream",
          "name": "stdout",
          "text": [
            "[nltk_data] Downloading package wordnet to /root/nltk_data...\n",
            "[nltk_data]   Package wordnet is already up-to-date!\n",
            "work\n",
            "work\n",
            "work\n",
            "have\n",
            "have\n",
            "happy\n",
            "happy\n"
          ]
        }
      ]
    },
    {
      "cell_type": "code",
      "source": [
        "for word in all_tokens[0]:\n",
        "  print(stemmer.stem(word))"
      ],
      "metadata": {
        "colab": {
          "base_uri": "https://localhost:8080/"
        },
        "id": "inOg0ugV5kDF",
        "outputId": "da261f95-5b8b-44e0-e279-65fb9473ac21"
      },
      "execution_count": 19,
      "outputs": [
        {
          "output_type": "stream",
          "name": "stdout",
          "text": [
            "nat\n",
            "langu\n",
            "process\n",
            "(\n",
            "nlp\n",
            ")\n",
            "subfield\n",
            "comput\n",
            "sci\n",
            "inform\n",
            "engin\n",
            "art\n",
            "intellig\n",
            "concern\n",
            "interact\n",
            "comput\n",
            "hum\n",
            "(\n",
            "nat\n",
            ")\n",
            "langu\n",
            "particul\n",
            "program\n",
            "comput\n",
            "process\n",
            "analys\n",
            "larg\n",
            "amount\n",
            "nat\n",
            "langu\n",
            "dat\n",
            ".\n"
          ]
        }
      ]
    },
    {
      "cell_type": "code",
      "source": [
        "lemma = WordNetLemmatizer()\n",
        "for word in all_tokens[0]:\n",
        "  print(lemma.lemmatize(word,'a'))"
      ],
      "metadata": {
        "colab": {
          "base_uri": "https://localhost:8080/"
        },
        "id": "Yvv7jUEJ1Y2d",
        "outputId": "6dd47852-fea9-4226-a8be-6c4c93f52ab8"
      },
      "execution_count": 17,
      "outputs": [
        {
          "output_type": "stream",
          "name": "stdout",
          "text": [
            "Natural\n",
            "language\n",
            "processing\n",
            "(\n",
            "NLP\n",
            ")\n",
            "subfield\n",
            "computer\n",
            "science\n",
            "information\n",
            "engineering\n",
            "artificial\n",
            "intelligence\n",
            "concerned\n",
            "interactions\n",
            "computers\n",
            "human\n",
            "(\n",
            "natural\n",
            ")\n",
            "languages\n",
            "particular\n",
            "program\n",
            "computers\n",
            "process\n",
            "analyze\n",
            "large\n",
            "amounts\n",
            "natural\n",
            "language\n",
            "data\n",
            ".\n"
          ]
        }
      ]
    },
    {
      "cell_type": "markdown",
      "source": [
        "# 사전 (vocabulary) 생성"
      ],
      "metadata": {
        "id": "85-uehSc-8wz"
      }
    },
    {
      "cell_type": "code",
      "source": [
        "word2idx = {}\n",
        "n_idx =0"
      ],
      "metadata": {
        "id": "epYC-mqf-8fz"
      },
      "execution_count": 20,
      "outputs": []
    },
    {
      "cell_type": "code",
      "source": [
        "for sent in all_tokens:\n",
        "  for word in sent:\n",
        "    if word.lower() not in word2idx:\n",
        "      word2idx[word.lower()] = n_idx\n",
        "      n_idx += 1\n",
        "\n",
        "idx2word = {v:k for k, v in word2idx.items()}   "
      ],
      "metadata": {
        "id": "1iGFdXU_5VPE"
      },
      "execution_count": 21,
      "outputs": []
    },
    {
      "cell_type": "code",
      "source": [
        "word2idx"
      ],
      "metadata": {
        "colab": {
          "base_uri": "https://localhost:8080/"
        },
        "id": "I9UPE-xW_V4D",
        "outputId": "1468d4eb-cf0c-4e47-edc0-3a87dfdc0ca4"
      },
      "execution_count": 22,
      "outputs": [
        {
          "output_type": "execute_result",
          "data": {
            "text/plain": [
              "{'(': 3,\n",
              " ')': 5,\n",
              " '.': 25,\n",
              " 'amounts': 23,\n",
              " 'analyze': 21,\n",
              " 'artificial': 11,\n",
              " 'challenges': 26,\n",
              " 'computer': 7,\n",
              " 'computers': 15,\n",
              " 'concerned': 13,\n",
              " 'data': 24,\n",
              " 'engineering': 10,\n",
              " 'frequently': 27,\n",
              " 'generation': 32,\n",
              " 'human': 16,\n",
              " 'information': 9,\n",
              " 'intelligence': 12,\n",
              " 'interactions': 14,\n",
              " 'involve': 28,\n",
              " 'language': 1,\n",
              " 'languages': 17,\n",
              " 'large': 22,\n",
              " 'natural': 0,\n",
              " 'nlp': 4,\n",
              " 'particular': 18,\n",
              " 'process': 20,\n",
              " 'processing': 2,\n",
              " 'program': 19,\n",
              " 'recognition': 30,\n",
              " 'science': 8,\n",
              " 'speech': 29,\n",
              " 'subfield': 6,\n",
              " 'understanding': 31}"
            ]
          },
          "metadata": {},
          "execution_count": 22
        }
      ]
    },
    {
      "cell_type": "markdown",
      "source": [
        "# text를 사전의 index로 표현"
      ],
      "metadata": {
        "id": "Wd0agJNwEEYp"
      }
    },
    {
      "cell_type": "code",
      "source": [
        "text_idx = []\n",
        "for sent in all_tokens:\n",
        "  sent_idx = []\n",
        "  for word in sent:\n",
        "    sent_idx.append(word2idx[word.lower()])\n",
        "  text_idx.append(sent_idx)\n",
        "print(text_idx)"
      ],
      "metadata": {
        "colab": {
          "base_uri": "https://localhost:8080/"
        },
        "id": "lTkS9Dx2EG9E",
        "outputId": "2c2b28e0-b93a-4473-eff9-3ad35a2a1d82"
      },
      "execution_count": 50,
      "outputs": [
        {
          "output_type": "stream",
          "name": "stdout",
          "text": [
            "[[0, 1, 2, 3, 4, 5, 6, 7, 8, 9, 10, 11, 12, 13, 14, 15, 16, 3, 0, 5, 17, 18, 19, 15, 20, 21, 22, 23, 0, 1, 24, 25], [26, 0, 1, 2, 27, 28, 29, 30, 0, 1, 31, 0, 1, 32, 25]]\n"
          ]
        }
      ]
    },
    {
      "cell_type": "code",
      "source": [
        "print(text_idx[1])"
      ],
      "metadata": {
        "colab": {
          "base_uri": "https://localhost:8080/"
        },
        "id": "W2kV5p0KEdJ2",
        "outputId": "7be0e5fc-c134-42ef-8d9b-6f57b7606d6f"
      },
      "execution_count": 52,
      "outputs": [
        {
          "output_type": "stream",
          "name": "stdout",
          "text": [
            "[26, 0, 1, 2, 27, 28, 29, 30, 0, 1, 31, 0, 1, 32, 25]\n"
          ]
        }
      ]
    },
    {
      "cell_type": "markdown",
      "source": [
        "# text_idx를 다시 단어로 표시"
      ],
      "metadata": {
        "id": "XdF9cUQVEw1p"
      }
    },
    {
      "cell_type": "code",
      "source": [
        "text = []\n",
        "for sent_idx in text_idx:\n",
        "  sent = []\n",
        "  for word_idx in sent_idx:\n",
        "    sent.append(idx2word[word_idx])\n",
        "  text.append(sent)\n",
        "\n",
        "print(text[0])"
      ],
      "metadata": {
        "colab": {
          "base_uri": "https://localhost:8080/"
        },
        "id": "VxiDAuENEgbj",
        "outputId": "7d9e896a-8de8-43e6-d98e-51ecd51e6343"
      },
      "execution_count": 53,
      "outputs": [
        {
          "output_type": "stream",
          "name": "stdout",
          "text": [
            "['natural', 'language', 'processing', '(', 'nlp', ')', 'subfield', 'computer', 'science', 'information', 'engineering', 'artificial', 'intelligence', 'concerned', 'interactions', 'computers', 'human', '(', 'natural', ')', 'languages', 'particular', 'program', 'computers', 'process', 'analyze', 'large', 'amounts', 'natural', 'language', 'data', '.']\n"
          ]
        }
      ]
    },
    {
      "cell_type": "code",
      "source": [
        ""
      ],
      "metadata": {
        "id": "Vsl-rsSFFFfj"
      },
      "execution_count": null,
      "outputs": []
    }
  ]
}