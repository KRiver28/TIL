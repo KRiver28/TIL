{
  "nbformat": 4,
  "nbformat_minor": 0,
  "metadata": {
    "colab": {
      "name": "sigmoid_cal.ipynb",
      "provenance": [],
      "collapsed_sections": [],
      "authorship_tag": "ABX9TyMLiT4wV3jxOfJkdlsrLkBT",
      "include_colab_link": true
    },
    "kernelspec": {
      "name": "python3",
      "display_name": "Python 3"
    },
    "language_info": {
      "name": "python"
    }
  },
  "cells": [
    {
      "cell_type": "markdown",
      "metadata": {
        "id": "view-in-github",
        "colab_type": "text"
      },
      "source": [
        "<a href=\"https://colab.research.google.com/github/KRiver28/TIL/blob/master/sigmoid_cal.ipynb\" target=\"_parent\"><img src=\"https://colab.research.google.com/assets/colab-badge.svg\" alt=\"Open In Colab\"/></a>"
      ]
    },
    {
      "cell_type": "code",
      "source": [
        "import math\n",
        "import numpy as np"
      ],
      "metadata": {
        "id": "fR-rNNkARamw"
      },
      "execution_count": 10,
      "outputs": []
    },
    {
      "cell_type": "code",
      "execution_count": 11,
      "metadata": {
        "id": "-y_6l0_JN1S7"
      },
      "outputs": [],
      "source": [
        "def sigmoid_list(x_list):\n",
        "    return [1 / (1 + math.exp(-x)) for x in x_list]\n"
      ]
    },
    {
      "cell_type": "code",
      "source": [
        "def sigmoid_cal(x):\n",
        "  return 1 / (1+np.exp(-x))"
      ],
      "metadata": {
        "id": "cIl-vw2uN83Z"
      },
      "execution_count": 12,
      "outputs": []
    },
    {
      "cell_type": "code",
      "source": [
        "x = np.array([[0.6,0.7],\n",
        "              [0.8,0.9]])\n",
        "w = np.array([[0.1,0.3],\n",
        "              [0.2,0.4]])\n",
        "wo = np.array([[0.5],[0.55]])\n",
        "h = sigmoid_cal(np.dot(x,w))\n",
        "h"
      ],
      "metadata": {
        "colab": {
          "base_uri": "https://localhost:8080/"
        },
        "id": "q22zk1DJQehC",
        "outputId": "0ee643eb-9345-45f9-be6b-064a7a94887c"
      },
      "execution_count": 26,
      "outputs": [
        {
          "output_type": "execute_result",
          "data": {
            "text/plain": [
              "array([[0.549834  , 0.61301418],\n",
              "       [0.56463629, 0.64565631]])"
            ]
          },
          "metadata": {},
          "execution_count": 26
        }
      ]
    },
    {
      "cell_type": "code",
      "source": [
        "f = sigmoid_cal(np.dot(h,wo))\n",
        "f"
      ],
      "metadata": {
        "colab": {
          "base_uri": "https://localhost:8080/"
        },
        "id": "B42bZKdoRYbr",
        "outputId": "6822787e-e62e-44c4-cb4a-52c00295b2b4"
      },
      "execution_count": 27,
      "outputs": [
        {
          "output_type": "execute_result",
          "data": {
            "text/plain": [
              "array([[0.64841395],\n",
              "       [0.65417208]])"
            ]
          },
          "metadata": {},
          "execution_count": 27
        }
      ]
    },
    {
      "cell_type": "code",
      "source": [
        ""
      ],
      "metadata": {
        "id": "U9yu0FtVSYSq"
      },
      "execution_count": null,
      "outputs": []
    }
  ]
}