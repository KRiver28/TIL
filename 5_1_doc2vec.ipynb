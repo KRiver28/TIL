{
  "nbformat": 4,
  "nbformat_minor": 0,
  "metadata": {
    "colab": {
      "name": "5-1.doc2vec.ipynb",
      "provenance": [],
      "collapsed_sections": [],
      "authorship_tag": "ABX9TyMSlSmSR3aGxiNn9z+YgFeS",
      "include_colab_link": true
    },
    "kernelspec": {
      "name": "python3",
      "display_name": "Python 3"
    },
    "language_info": {
      "name": "python"
    }
  },
  "cells": [
    {
      "cell_type": "markdown",
      "metadata": {
        "id": "view-in-github",
        "colab_type": "text"
      },
      "source": [
        "<a href=\"https://colab.research.google.com/github/KRiver28/TIL/blob/master/5_1_doc2vec.ipynb\" target=\"_parent\"><img src=\"https://colab.research.google.com/assets/colab-badge.svg\" alt=\"Open In Colab\"/></a>"
      ]
    },
    {
      "cell_type": "code",
      "execution_count": 1,
      "metadata": {
        "id": "arMDXpLe0GMn"
      },
      "outputs": [],
      "source": [
        "# https://radimrehurek.com/gensim/models/doc2vec.html\n",
        "from gensim.test.utils import common_texts\n",
        "from gensim.models.doc2vec import Doc2Vec, TaggedDocument\n",
        "\n"
      ]
    },
    {
      "cell_type": "code",
      "source": [
        "common_texts\n"
      ],
      "metadata": {
        "colab": {
          "base_uri": "https://localhost:8080/"
        },
        "id": "pkgcKOSx0QSY",
        "outputId": "6cbcd0cd-f648-49a2-8eab-261de4fd85c1"
      },
      "execution_count": 2,
      "outputs": [
        {
          "output_type": "execute_result",
          "data": {
            "text/plain": [
              "[['human', 'interface', 'computer'],\n",
              " ['survey', 'user', 'computer', 'system', 'response', 'time'],\n",
              " ['eps', 'user', 'interface', 'system'],\n",
              " ['system', 'human', 'system', 'eps'],\n",
              " ['user', 'response', 'time'],\n",
              " ['trees'],\n",
              " ['graph', 'trees'],\n",
              " ['graph', 'minors', 'trees'],\n",
              " ['graph', 'minors', 'survey']]"
            ]
          },
          "metadata": {},
          "execution_count": 2
        }
      ]
    },
    {
      "cell_type": "code",
      "source": [
        "documents = [TaggedDocument(doc, [i]) for i, doc in enumerate(common_texts)]\n",
        "documents\n",
        "\n"
      ],
      "metadata": {
        "colab": {
          "base_uri": "https://localhost:8080/"
        },
        "id": "eQWukyYp0QQC",
        "outputId": "ff0ee665-f967-4475-85b5-07601fb50b02"
      },
      "execution_count": 3,
      "outputs": [
        {
          "output_type": "execute_result",
          "data": {
            "text/plain": [
              "[TaggedDocument(words=['human', 'interface', 'computer'], tags=[0]),\n",
              " TaggedDocument(words=['survey', 'user', 'computer', 'system', 'response', 'time'], tags=[1]),\n",
              " TaggedDocument(words=['eps', 'user', 'interface', 'system'], tags=[2]),\n",
              " TaggedDocument(words=['system', 'human', 'system', 'eps'], tags=[3]),\n",
              " TaggedDocument(words=['user', 'response', 'time'], tags=[4]),\n",
              " TaggedDocument(words=['trees'], tags=[5]),\n",
              " TaggedDocument(words=['graph', 'trees'], tags=[6]),\n",
              " TaggedDocument(words=['graph', 'minors', 'trees'], tags=[7]),\n",
              " TaggedDocument(words=['graph', 'minors', 'survey'], tags=[8])]"
            ]
          },
          "metadata": {},
          "execution_count": 3
        }
      ]
    },
    {
      "cell_type": "code",
      "source": [
        "model = Doc2Vec(documents, vector_size=5, window=3, min_count=1)\n",
        "\n"
      ],
      "metadata": {
        "id": "O2UVaWoH0QNa"
      },
      "execution_count": 4,
      "outputs": []
    },
    {
      "cell_type": "code",
      "source": [
        "word2idx = {w:obj.index for w, obj in model.wv.vocab.items()}\n",
        "idx2word = {v:k for k, v in word2idx.items()}\n",
        "\n",
        "print(\"사전 크기 =\", len(word2idx))\n",
        "print(word2idx)"
      ],
      "metadata": {
        "colab": {
          "base_uri": "https://localhost:8080/"
        },
        "id": "UnFXA_gS0QK1",
        "outputId": "7d8a2a42-1709-42b1-cdf4-f93a9a5f9877"
      },
      "execution_count": 5,
      "outputs": [
        {
          "output_type": "stream",
          "name": "stdout",
          "text": [
            "사전 크기 = 12\n",
            "{'human': 4, 'interface': 5, 'computer': 6, 'survey': 7, 'user': 1, 'system': 0, 'response': 8, 'time': 9, 'eps': 10, 'trees': 2, 'graph': 3, 'minors': 11}\n"
          ]
        }
      ]
    },
    {
      "cell_type": "code",
      "source": [
        "# The number of trained document tags is available from:\n",
        "len(model.docvecs)"
      ],
      "metadata": {
        "colab": {
          "base_uri": "https://localhost:8080/"
        },
        "id": "2etQr8_Z0QIg",
        "outputId": "70c34b92-399c-42e6-dcf8-82982533ad3d"
      },
      "execution_count": 6,
      "outputs": [
        {
          "output_type": "execute_result",
          "data": {
            "text/plain": [
              "9"
            ]
          },
          "metadata": {},
          "execution_count": 6
        }
      ]
    },
    {
      "cell_type": "code",
      "source": [
        "model.docvecs[[8][0]]"
      ],
      "metadata": {
        "colab": {
          "base_uri": "https://localhost:8080/"
        },
        "id": "5AxCRPl70P0v",
        "outputId": "afd6df95-ed74-4a8b-a97a-77c7f078db48"
      },
      "execution_count": 7,
      "outputs": [
        {
          "output_type": "execute_result",
          "data": {
            "text/plain": [
              "array([-0.01538636,  0.00664686,  0.02287913, -0.01051788,  0.04889192],\n",
              "      dtype=float32)"
            ]
          },
          "metadata": {},
          "execution_count": 7
        }
      ]
    },
    {
      "cell_type": "code",
      "source": [
        "for text, tags in documents:\n",
        "    print(model.docvecs[tags[0]])\n"
      ],
      "metadata": {
        "colab": {
          "base_uri": "https://localhost:8080/"
        },
        "id": "djGjKnFE0WlK",
        "outputId": "500cc347-8461-400b-f521-c7a76b7ed97f"
      },
      "execution_count": 8,
      "outputs": [
        {
          "output_type": "stream",
          "name": "stdout",
          "text": [
            "[ 0.05088975  0.03661568  0.07556903  0.08941567 -0.02334388]\n",
            "[-0.07182071  0.02274394  0.00966447 -0.0008566   0.07141146]\n",
            "[ 0.00430666  0.09910301  0.05073719 -0.08839872 -0.09612329]\n",
            "[-0.01957331 -0.0653591   0.05502439  0.00275736  0.07872102]\n",
            "[ 0.00991887 -0.0253971   0.00652011  0.02257582  0.07185292]\n",
            "[-0.08665517  0.07207931 -0.03090863  0.01776069  0.03163863]\n",
            "[ 0.0807455  -0.02895734  0.01609362 -0.09247477 -0.02901707]\n",
            "[-0.06008804  0.04940773 -0.09253345  0.00667203 -0.0008773 ]\n",
            "[-0.01538636  0.00664686  0.02287913 -0.01051788  0.04889192]\n"
          ]
        }
      ]
    },
    {
      "cell_type": "code",
      "source": [
        "new_doc = model.infer_vector([\"system\", \"response\"])\n",
        "new_doc"
      ],
      "metadata": {
        "colab": {
          "base_uri": "https://localhost:8080/"
        },
        "id": "Q1UVddol0Wib",
        "outputId": "7be9754f-2207-44d7-aa7e-019d84f9fd3a"
      },
      "execution_count": 9,
      "outputs": [
        {
          "output_type": "execute_result",
          "data": {
            "text/plain": [
              "array([-0.08220916, -0.05461131, -0.05633409, -0.07846064, -0.07803524],\n",
              "      dtype=float32)"
            ]
          },
          "metadata": {},
          "execution_count": 9
        }
      ]
    },
    {
      "cell_type": "code",
      "source": [
        "model.docvecs.most_similar([new_doc], topn=3)\n",
        "\n",
        "new_doc = model.infer_vector(['survey', 'user', 'computer', 'system', 'response', 'time'])\n",
        "model.docvecs.most_similar([new_doc], topn=3)"
      ],
      "metadata": {
        "colab": {
          "base_uri": "https://localhost:8080/"
        },
        "id": "jKZgwrL_0Wfk",
        "outputId": "08b2f3ab-8b09-4dc7-d39c-511ffb1e5d15"
      },
      "execution_count": 10,
      "outputs": [
        {
          "output_type": "execute_result",
          "data": {
            "text/plain": [
              "[(0, 0.5894572138786316), (3, 0.43782782554626465), (6, 0.3842448592185974)]"
            ]
          },
          "metadata": {},
          "execution_count": 10
        }
      ]
    }
  ]
}