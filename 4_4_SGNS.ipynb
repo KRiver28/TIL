{
  "nbformat": 4,
  "nbformat_minor": 0,
  "metadata": {
    "colab": {
      "name": "4-4.SGNS.ipynb",
      "provenance": [],
      "authorship_tag": "ABX9TyO22b1ClP4qIxf0XWtw1xDS",
      "include_colab_link": true
    },
    "kernelspec": {
      "name": "python3",
      "display_name": "Python 3"
    },
    "language_info": {
      "name": "python"
    }
  },
  "cells": [
    {
      "cell_type": "markdown",
      "metadata": {
        "id": "view-in-github",
        "colab_type": "text"
      },
      "source": [
        "<a href=\"https://colab.research.google.com/github/KRiver28/TIL/blob/master/4_4_SGNS.ipynb\" target=\"_parent\"><img src=\"https://colab.research.google.com/assets/colab-badge.svg\" alt=\"Open In Colab\"/></a>"
      ]
    },
    {
      "cell_type": "code",
      "execution_count": 1,
      "metadata": {
        "colab": {
          "base_uri": "https://localhost:8080/"
        },
        "id": "mj8Vk_WmdJKn",
        "outputId": "44efc28d-1cbc-4354-cb6a-20db7b381078"
      },
      "outputs": [
        {
          "output_type": "stream",
          "name": "stdout",
          "text": [
            "[nltk_data] Downloading package punkt to /root/nltk_data...\n",
            "[nltk_data]   Unzipping tokenizers/punkt.zip.\n",
            "[nltk_data] Downloading package gutenberg to /root/nltk_data...\n",
            "[nltk_data]   Unzipping corpora/gutenberg.zip.\n",
            "[nltk_data] Downloading package stopwords to /root/nltk_data...\n",
            "[nltk_data]   Unzipping corpora/stopwords.zip.\n"
          ]
        },
        {
          "output_type": "execute_result",
          "data": {
            "text/plain": [
              "True"
            ]
          },
          "metadata": {},
          "execution_count": 1
        }
      ],
      "source": [
        "import numpy as np\n",
        "import nltk\n",
        "from tensorflow.keras.preprocessing.text import Tokenizer\n",
        "from nltk.stem import LancasterStemmer\n",
        "from tensorflow.keras.layers import Input, Embedding, Dense, Dot, Activation, Flatten\n",
        "from tensorflow.keras.models import Model\n",
        "from sklearn.metrics.pairwise import cosine_similarity\n",
        "from sklearn.utils import shuffle\n",
        "\n",
        "nltk.download('punkt')\n",
        "nltk.download('gutenberg')\n",
        "nltk.download('stopwords')"
      ]
    },
    {
      "cell_type": "code",
      "source": [
        "# 영문 소설 18개를 읽어와서 전처리를 수행한다.\n",
        "n = 18\n",
        "stemmer = LancasterStemmer()\n",
        "stopwords = nltk.corpus.stopwords.words('english')\n",
        "stopwords.extend(['and', 'but', 'the', 'for', 'would', 'shall'])\n",
        "\n",
        "sent_stem = []\n",
        "files = nltk.corpus.gutenberg.fileids()\n",
        "for i, text_id in enumerate(files[:n]):\n",
        "    text = nltk.corpus.gutenberg.raw(text_id)\n",
        "    sentences = nltk.sent_tokenize(text)\n",
        "\n",
        "    # 각 단어에 Lancaster stemmer를 적용한다.\n",
        "    for sentence in sentences:\n",
        "        word_tok = nltk.word_tokenize(sentence)\n",
        "        stem = [stemmer.stem(word) for word in word_tok if word not in stopwords if len(word) > 2]\n",
        "        sent_stem.append(stem)\n",
        "    print('{}: {} ----- processed.'.format(i+1, text_id))\n",
        "\n",
        "print(\"\\n총 문장 개수 =\", len(sent_stem))\n",
        "print(sent_stem[0])"
      ],
      "metadata": {
        "colab": {
          "base_uri": "https://localhost:8080/"
        },
        "id": "e-kaZqq8dMhS",
        "outputId": "a0ec8dc5-a3a7-407b-ea86-e76a3865d2ac"
      },
      "execution_count": 2,
      "outputs": [
        {
          "output_type": "stream",
          "name": "stdout",
          "text": [
            "1: austen-emma.txt ----- processed.\n",
            "2: austen-persuasion.txt ----- processed.\n",
            "3: austen-sense.txt ----- processed.\n",
            "4: bible-kjv.txt ----- processed.\n",
            "5: blake-poems.txt ----- processed.\n",
            "6: bryant-stories.txt ----- processed.\n",
            "7: burgess-busterbrown.txt ----- processed.\n",
            "8: carroll-alice.txt ----- processed.\n",
            "9: chesterton-ball.txt ----- processed.\n",
            "10: chesterton-brown.txt ----- processed.\n",
            "11: chesterton-thursday.txt ----- processed.\n",
            "12: edgeworth-parents.txt ----- processed.\n",
            "13: melville-moby_dick.txt ----- processed.\n",
            "14: milton-paradise.txt ----- processed.\n",
            "15: shakespeare-caesar.txt ----- processed.\n",
            "16: shakespeare-hamlet.txt ----- processed.\n",
            "17: shakespeare-macbeth.txt ----- processed.\n",
            "18: whitman-leaves.txt ----- processed.\n",
            "\n",
            "총 문장 개수 = 94434\n",
            "['emm', 'jan', 'aust', '1816', 'volum', 'chapt', 'emm', 'woodh', 'handsom', 'clev', 'rich', 'comfort', 'hom', 'happy', 'disposit', 'seem', 'unit', 'best', 'bless', 'ex', 'liv', 'near', 'twenty-one', 'year', 'world', 'littl', 'distress', 'vex']\n"
          ]
        }
      ]
    },
    {
      "cell_type": "code",
      "source": [
        "# 단어사전\n",
        "tokenizer = Tokenizer()\n",
        "tokenizer.fit_on_texts(sent_stem)\n",
        "\n",
        "# 단어사전\n",
        "word2idx = tokenizer.word_index\n",
        "word2idx['<PAD>'] = 0\n",
        "idx2word = {v:k for k, v in word2idx.items()}\n",
        "\n",
        "print(\"사전 크기 =\", len(word2idx))"
      ],
      "metadata": {
        "colab": {
          "base_uri": "https://localhost:8080/"
        },
        "id": "Q4LHDBUPdP41",
        "outputId": "b30dddd6-9202-4c79-ea13-d96a67011fc5"
      },
      "execution_count": 3,
      "outputs": [
        {
          "output_type": "stream",
          "name": "stdout",
          "text": [
            "사전 크기 = 32545\n"
          ]
        }
      ]
    },
    {
      "cell_type": "code",
      "source": [
        "# 문장을 단어의 인덱스로 표현\n",
        "sent_idx = tokenizer.texts_to_sequences(sent_stem)\n",
        "# sent_idx[0]\n",
        "\n",
        "# 학습 데이터 생성\n",
        "# trigram\n",
        "x_train_t = []   # target word\n",
        "x_train_c = []   # context word\n",
        "\n",
        "# positive data\n",
        "for sent in sent_idx:\n",
        "    if len(sent) < 3:\n",
        "        continue\n",
        "\n",
        "    for a, b, c in nltk.trigrams(sent):\n",
        "        x_train_t.append(b)\n",
        "        x_train_t.append(b)\n",
        "        x_train_c.append(a)\n",
        "        x_train_c.append(c)\n",
        "y_train_pos = [1] * len(x_train_t)"
      ],
      "metadata": {
        "id": "xM_nvwgjdP2s"
      },
      "execution_count": 4,
      "outputs": []
    },
    {
      "cell_type": "code",
      "source": [
        "# negative sampling. random이 오래 걸려서 아래처럼 일괄처리함.\n",
        "ns_k = 1\n",
        "x_train_nt = []   # negative target word\n",
        "x_train_nc = []   # negative context word\n",
        "for k in range(ns_k):\n",
        "    r = np.random.choice(range(1, len(word2idx)), len(x_train_t))\n",
        "    x_train_nt.extend(x_train_t.copy())\n",
        "    x_train_nc.extend(list(r).copy())\n",
        "y_train_neg = [0] * len(x_train_t) * ns_k"
      ],
      "metadata": {
        "id": "HdWPrLyndP0f"
      },
      "execution_count": 5,
      "outputs": []
    },
    {
      "cell_type": "code",
      "source": [
        "# positive + negative\n",
        "x_target = x_train_t + x_train_nt\n",
        "x_context = x_train_c + x_train_nc\n",
        "y_train = y_train_pos + y_train_neg   \n",
        "\n",
        "# shuffling\n",
        "x_target, x_context, y_train = shuffle(x_target, x_context, y_train)\n",
        "\n",
        "# list --> array 변환\n",
        "x_target = np.array(x_target).reshape(-1, 1)\n",
        "x_context = np.array(x_context).reshape(-1, 1)\n",
        "y_train = np.array(y_train).reshape(-1, 1)\n",
        "\n",
        "x_target.shape, x_context.shape, y_train.shape"
      ],
      "metadata": {
        "colab": {
          "base_uri": "https://localhost:8080/"
        },
        "id": "qR1b5teVdPyb",
        "outputId": "058ec253-b065-4869-9b2b-a95a18fe646a"
      },
      "execution_count": 6,
      "outputs": [
        {
          "output_type": "execute_result",
          "data": {
            "text/plain": [
              "((3607280, 1), (3607280, 1), (3607280, 1))"
            ]
          },
          "metadata": {},
          "execution_count": 6
        }
      ]
    },
    {
      "cell_type": "code",
      "source": [
        "VOC_SIZE = len(word2idx)\n",
        "EMB_SIZE = 32\n",
        "\n",
        "x_input_t = Input(batch_shape=(None, 1))\n",
        "x_input_c = Input(batch_shape=(None, 1))\n",
        "\n",
        "SharedEmb = Embedding(VOC_SIZE, EMB_SIZE, name='emb')\n",
        "x_emb_t = SharedEmb(x_input_t)\n",
        "x_emb_c = SharedEmb(x_input_c)\n",
        "\n",
        "y_output = Dot(axes=(2,2))([x_emb_t, x_emb_c])\n",
        "y_output = Activation('sigmoid')(y_output)\n",
        "\n",
        "model = Model([x_input_t, x_input_c], y_output)\n",
        "model.compile(loss = 'binary_crossentropy', optimizer='adam')\n",
        "model.summary()"
      ],
      "metadata": {
        "colab": {
          "base_uri": "https://localhost:8080/"
        },
        "id": "mGCVXogUdPwV",
        "outputId": "0b716873-41cd-4a03-8d79-85fd462dce98"
      },
      "execution_count": 7,
      "outputs": [
        {
          "output_type": "stream",
          "name": "stdout",
          "text": [
            "Model: \"model\"\n",
            "__________________________________________________________________________________________________\n",
            " Layer (type)                   Output Shape         Param #     Connected to                     \n",
            "==================================================================================================\n",
            " input_1 (InputLayer)           [(None, 1)]          0           []                               \n",
            "                                                                                                  \n",
            " input_2 (InputLayer)           [(None, 1)]          0           []                               \n",
            "                                                                                                  \n",
            " emb (Embedding)                (None, 1, 32)        1041440     ['input_1[0][0]',                \n",
            "                                                                  'input_2[0][0]']                \n",
            "                                                                                                  \n",
            " dot (Dot)                      (None, 1, 1)         0           ['emb[0][0]',                    \n",
            "                                                                  'emb[1][0]']                    \n",
            "                                                                                                  \n",
            " activation (Activation)        (None, 1, 1)         0           ['dot[0][0]']                    \n",
            "                                                                                                  \n",
            "==================================================================================================\n",
            "Total params: 1,041,440\n",
            "Trainable params: 1,041,440\n",
            "Non-trainable params: 0\n",
            "__________________________________________________________________________________________________\n"
          ]
        }
      ]
    },
    {
      "cell_type": "code",
      "source": [
        "# word --> word2vec을 확인하기 위한 모델\n",
        "model_vec = Model(x_input_t, x_emb_t)\n",
        "\n",
        "hist = model.fit([x_target, x_context], y_train, batch_size=20480, epochs=50)\n",
        "\n",
        "def get_word2vec(word):\n",
        "    stem_word = stemmer.stem(word)\n",
        "    if stem_word not in word2idx:\n",
        "        print('{}가 없습니다.'.format(word))\n",
        "        return\n",
        "    \n",
        "    word2vec = model_vec.predict(np.array(word2idx[stem_word]).reshape(1,1))[0]\n",
        "    return word2vec"
      ],
      "metadata": {
        "colab": {
          "base_uri": "https://localhost:8080/"
        },
        "id": "c4jxTXPsdPt4",
        "outputId": "836a0510-7f21-494d-811d-61936b7f2499"
      },
      "execution_count": 8,
      "outputs": [
        {
          "output_type": "stream",
          "name": "stdout",
          "text": [
            "Epoch 1/50\n",
            "177/177 [==============================] - 6s 30ms/step - loss: 0.6500\n",
            "Epoch 2/50\n",
            "177/177 [==============================] - 5s 31ms/step - loss: 0.4452\n",
            "Epoch 3/50\n",
            "177/177 [==============================] - 5s 31ms/step - loss: 0.3891\n",
            "Epoch 4/50\n",
            "177/177 [==============================] - 5s 31ms/step - loss: 0.3778\n",
            "Epoch 5/50\n",
            "177/177 [==============================] - 5s 30ms/step - loss: 0.3720\n",
            "Epoch 6/50\n",
            "177/177 [==============================] - 5s 30ms/step - loss: 0.3674\n",
            "Epoch 7/50\n",
            "177/177 [==============================] - 5s 30ms/step - loss: 0.3633\n",
            "Epoch 8/50\n",
            "177/177 [==============================] - 5s 30ms/step - loss: 0.3595\n",
            "Epoch 9/50\n",
            "177/177 [==============================] - 5s 30ms/step - loss: 0.3561\n",
            "Epoch 10/50\n",
            "177/177 [==============================] - 5s 30ms/step - loss: 0.3530\n",
            "Epoch 11/50\n",
            "177/177 [==============================] - 6s 31ms/step - loss: 0.3501\n",
            "Epoch 12/50\n",
            "177/177 [==============================] - 5s 30ms/step - loss: 0.3470\n",
            "Epoch 13/50\n",
            "177/177 [==============================] - 5s 30ms/step - loss: 0.3439\n",
            "Epoch 14/50\n",
            "177/177 [==============================] - 5s 30ms/step - loss: 0.3405\n",
            "Epoch 15/50\n",
            "177/177 [==============================] - 5s 30ms/step - loss: 0.3370\n",
            "Epoch 16/50\n",
            "177/177 [==============================] - 5s 31ms/step - loss: 0.3332\n",
            "Epoch 17/50\n",
            "177/177 [==============================] - 5s 30ms/step - loss: 0.3292\n",
            "Epoch 18/50\n",
            "177/177 [==============================] - 5s 30ms/step - loss: 0.3250\n",
            "Epoch 19/50\n",
            "177/177 [==============================] - 5s 30ms/step - loss: 0.3206\n",
            "Epoch 20/50\n",
            "177/177 [==============================] - 5s 30ms/step - loss: 0.3162\n",
            "Epoch 21/50\n",
            "177/177 [==============================] - 5s 30ms/step - loss: 0.3116\n",
            "Epoch 22/50\n",
            "177/177 [==============================] - 5s 30ms/step - loss: 0.3071\n",
            "Epoch 23/50\n",
            "177/177 [==============================] - 5s 30ms/step - loss: 0.3025\n",
            "Epoch 24/50\n",
            "177/177 [==============================] - 5s 30ms/step - loss: 0.2981\n",
            "Epoch 25/50\n",
            "177/177 [==============================] - 5s 30ms/step - loss: 0.2937\n",
            "Epoch 26/50\n",
            "177/177 [==============================] - 5s 30ms/step - loss: 0.2894\n",
            "Epoch 27/50\n",
            "177/177 [==============================] - 5s 30ms/step - loss: 0.2852\n",
            "Epoch 28/50\n",
            "177/177 [==============================] - 5s 30ms/step - loss: 0.2812\n",
            "Epoch 29/50\n",
            "177/177 [==============================] - 5s 30ms/step - loss: 0.2774\n",
            "Epoch 30/50\n",
            "177/177 [==============================] - 5s 30ms/step - loss: 0.2737\n",
            "Epoch 31/50\n",
            "177/177 [==============================] - 6s 31ms/step - loss: 0.2702\n",
            "Epoch 32/50\n",
            "177/177 [==============================] - 5s 30ms/step - loss: 0.2668\n",
            "Epoch 33/50\n",
            "177/177 [==============================] - 5s 30ms/step - loss: 0.2635\n",
            "Epoch 34/50\n",
            "177/177 [==============================] - 5s 30ms/step - loss: 0.2604\n",
            "Epoch 35/50\n",
            "177/177 [==============================] - 5s 30ms/step - loss: 0.2574\n",
            "Epoch 36/50\n",
            "177/177 [==============================] - 5s 30ms/step - loss: 0.2545\n",
            "Epoch 37/50\n",
            "177/177 [==============================] - 5s 30ms/step - loss: 0.2518\n",
            "Epoch 38/50\n",
            "177/177 [==============================] - 5s 30ms/step - loss: 0.2491\n",
            "Epoch 39/50\n",
            "177/177 [==============================] - 5s 30ms/step - loss: 0.2466\n",
            "Epoch 40/50\n",
            "177/177 [==============================] - 5s 30ms/step - loss: 0.2441\n",
            "Epoch 41/50\n",
            "177/177 [==============================] - 5s 30ms/step - loss: 0.2417\n",
            "Epoch 42/50\n",
            "177/177 [==============================] - 5s 30ms/step - loss: 0.2394\n",
            "Epoch 43/50\n",
            "177/177 [==============================] - 5s 30ms/step - loss: 0.2371\n",
            "Epoch 44/50\n",
            "177/177 [==============================] - 5s 30ms/step - loss: 0.2349\n",
            "Epoch 45/50\n",
            "177/177 [==============================] - 5s 30ms/step - loss: 0.2328\n",
            "Epoch 46/50\n",
            "177/177 [==============================] - 5s 30ms/step - loss: 0.2308\n",
            "Epoch 47/50\n",
            "177/177 [==============================] - 5s 30ms/step - loss: 0.2288\n",
            "Epoch 48/50\n",
            "177/177 [==============================] - 5s 30ms/step - loss: 0.2268\n",
            "Epoch 49/50\n",
            "177/177 [==============================] - 5s 30ms/step - loss: 0.2249\n",
            "Epoch 50/50\n",
            "177/177 [==============================] - 5s 30ms/step - loss: 0.2231\n"
          ]
        }
      ]
    },
    {
      "cell_type": "code",
      "source": [
        "father = get_word2vec('father')\n",
        "mother = get_word2vec('mother')\n",
        "doctor = get_word2vec('doctor')\n",
        "\n",
        "cosine_similarity(father, mother)\n",
        "\n",
        "cosine_similarity(father, doctor)\n",
        "\n",
        "father"
      ],
      "metadata": {
        "colab": {
          "base_uri": "https://localhost:8080/"
        },
        "id": "zJPr5ysndPrp",
        "outputId": "097e7a75-355a-4937-dd32-106704a134fa"
      },
      "execution_count": 9,
      "outputs": [
        {
          "output_type": "execute_result",
          "data": {
            "text/plain": [
              "array([[ 0.5190904 ,  0.6715766 ,  0.0031392 , -0.28505743,  1.8104464 ,\n",
              "        -0.56192017,  1.1648088 , -1.0087848 ,  1.0738708 , -0.350968  ,\n",
              "        -0.1595304 , -1.1930829 ,  1.3331943 ,  0.9594065 ,  0.53037125,\n",
              "         0.16261335, -0.99865437, -0.51732546,  0.9014974 , -0.34467694,\n",
              "         0.27750683,  1.3139771 , -1.065803  , -0.00446671,  0.4457057 ,\n",
              "        -0.9192658 ,  0.12247662,  1.2407341 , -0.01393995,  0.52465075,\n",
              "        -0.11337585, -1.3417014 ]], dtype=float32)"
            ]
          },
          "metadata": {},
          "execution_count": 9
        }
      ]
    },
    {
      "cell_type": "code",
      "source": [
        "W = model.get_layer('emb').get_weights()[0]\n",
        "W.shape"
      ],
      "metadata": {
        "colab": {
          "base_uri": "https://localhost:8080/"
        },
        "id": "2W8AsKOCdPpe",
        "outputId": "ddf3837c-8d52-4a41-add5-1e997c78c077"
      },
      "execution_count": 10,
      "outputs": [
        {
          "output_type": "execute_result",
          "data": {
            "text/plain": [
              "(32545, 32)"
            ]
          },
          "metadata": {},
          "execution_count": 10
        }
      ]
    }
  ]
}