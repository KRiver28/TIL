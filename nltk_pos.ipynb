{
  "nbformat": 4,
  "nbformat_minor": 0,
  "metadata": {
    "colab": {
      "name": "nltk_pos.ipynb",
      "provenance": [],
      "collapsed_sections": [],
      "authorship_tag": "ABX9TyMCQ32s1fLswf3c+9ysxxGy",
      "include_colab_link": true
    },
    "kernelspec": {
      "name": "python3",
      "display_name": "Python 3"
    },
    "language_info": {
      "name": "python"
    }
  },
  "cells": [
    {
      "cell_type": "markdown",
      "metadata": {
        "id": "view-in-github",
        "colab_type": "text"
      },
      "source": [
        "<a href=\"https://colab.research.google.com/github/KRiver28/TIL/blob/master/nltk_pos.ipynb\" target=\"_parent\"><img src=\"https://colab.research.google.com/assets/colab-badge.svg\" alt=\"Open In Colab\"/></a>"
      ]
    },
    {
      "cell_type": "code",
      "execution_count": 1,
      "metadata": {
        "colab": {
          "base_uri": "https://localhost:8080/"
        },
        "id": "R72F_JVSMTO1",
        "outputId": "dc11a524-a459-494c-c16a-9823e888d407"
      },
      "outputs": [
        {
          "output_type": "stream",
          "name": "stdout",
          "text": [
            "[nltk_data] Downloading package punkt to /root/nltk_data...\n",
            "[nltk_data]   Unzipping tokenizers/punkt.zip.\n",
            "[nltk_data] Downloading package averaged_perceptron_tagger to\n",
            "[nltk_data]     /root/nltk_data...\n",
            "[nltk_data]   Unzipping taggers/averaged_perceptron_tagger.zip.\n"
          ]
        },
        {
          "output_type": "execute_result",
          "data": {
            "text/plain": [
              "True"
            ]
          },
          "metadata": {},
          "execution_count": 1
        }
      ],
      "source": [
        "# Part of Speech tagging (POS tag)\n",
        "import nltk\n",
        "nltk.download('punkt')      # '/root/nltk_data/tokenizers'\n",
        "nltk.download('averaged_perceptron_tagger')  # 품사를 태깅하기 위한 도구"
      ]
    },
    {
      "cell_type": "code",
      "source": [
        "sentence = \"\"\"\n",
        "Natural language processing (NLP) is a subfield of computer science, information engineering, \n",
        "and artificial intelligence concerned with the interactions between computers and human (natural) languages, \n",
        "in particular how to program computers to process and analyze large amounts of natural language data.\n",
        "\"\"\"\n",
        "word_tok = nltk.word_tokenize(sentence)\n",
        "print(word_tok)"
      ],
      "metadata": {
        "colab": {
          "base_uri": "https://localhost:8080/"
        },
        "id": "MAwevEpIMqze",
        "outputId": "8a561c8c-51ce-435d-a082-084cf51aa8a0"
      },
      "execution_count": 2,
      "outputs": [
        {
          "output_type": "stream",
          "name": "stdout",
          "text": [
            "['Natural', 'language', 'processing', '(', 'NLP', ')', 'is', 'a', 'subfield', 'of', 'computer', 'science', ',', 'information', 'engineering', ',', 'and', 'artificial', 'intelligence', 'concerned', 'with', 'the', 'interactions', 'between', 'computers', 'and', 'human', '(', 'natural', ')', 'languages', ',', 'in', 'particular', 'how', 'to', 'program', 'computers', 'to', 'process', 'and', 'analyze', 'large', 'amounts', 'of', 'natural', 'language', 'data', '.']\n"
          ]
        }
      ]
    },
    {
      "cell_type": "markdown",
      "source": [
        "# 품사 태깅"
      ],
      "metadata": {
        "id": "nbhpNjP5PlHc"
      }
    },
    {
      "cell_type": "code",
      "source": [
        "nltk.pos_tag(word_tok)"
      ],
      "metadata": {
        "colab": {
          "base_uri": "https://localhost:8080/"
        },
        "id": "6WZLBa79MskZ",
        "outputId": "f0d839f6-482d-45d1-8ee7-ff7101293e1f"
      },
      "execution_count": 3,
      "outputs": [
        {
          "output_type": "execute_result",
          "data": {
            "text/plain": [
              "[('Natural', 'JJ'),\n",
              " ('language', 'NN'),\n",
              " ('processing', 'NN'),\n",
              " ('(', '('),\n",
              " ('NLP', 'NNP'),\n",
              " (')', ')'),\n",
              " ('is', 'VBZ'),\n",
              " ('a', 'DT'),\n",
              " ('subfield', 'NN'),\n",
              " ('of', 'IN'),\n",
              " ('computer', 'NN'),\n",
              " ('science', 'NN'),\n",
              " (',', ','),\n",
              " ('information', 'NN'),\n",
              " ('engineering', 'NN'),\n",
              " (',', ','),\n",
              " ('and', 'CC'),\n",
              " ('artificial', 'JJ'),\n",
              " ('intelligence', 'NN'),\n",
              " ('concerned', 'VBN'),\n",
              " ('with', 'IN'),\n",
              " ('the', 'DT'),\n",
              " ('interactions', 'NNS'),\n",
              " ('between', 'IN'),\n",
              " ('computers', 'NNS'),\n",
              " ('and', 'CC'),\n",
              " ('human', 'JJ'),\n",
              " ('(', '('),\n",
              " ('natural', 'JJ'),\n",
              " (')', ')'),\n",
              " ('languages', 'NNS'),\n",
              " (',', ','),\n",
              " ('in', 'IN'),\n",
              " ('particular', 'JJ'),\n",
              " ('how', 'WRB'),\n",
              " ('to', 'TO'),\n",
              " ('program', 'NN'),\n",
              " ('computers', 'NNS'),\n",
              " ('to', 'TO'),\n",
              " ('process', 'VB'),\n",
              " ('and', 'CC'),\n",
              " ('analyze', 'VB'),\n",
              " ('large', 'JJ'),\n",
              " ('amounts', 'NNS'),\n",
              " ('of', 'IN'),\n",
              " ('natural', 'JJ'),\n",
              " ('language', 'NN'),\n",
              " ('data', 'NNS'),\n",
              " ('.', '.')]"
            ]
          },
          "metadata": {},
          "execution_count": 3
        }
      ]
    },
    {
      "cell_type": "code",
      "source": [
        "# 명사와 형용사만 표시한다.\n",
        "sent_nnjj = [word for word, pos in nltk.pos_tag(word_tok) if pos == 'NN' or pos == 'JJ']\n",
        "sent_nnjj"
      ],
      "metadata": {
        "colab": {
          "base_uri": "https://localhost:8080/"
        },
        "id": "kru2PRXfMsc0",
        "outputId": "0a24a737-a478-49d4-92e7-dfdda95745fe"
      },
      "execution_count": 4,
      "outputs": [
        {
          "output_type": "execute_result",
          "data": {
            "text/plain": [
              "['Natural',\n",
              " 'language',\n",
              " 'processing',\n",
              " 'subfield',\n",
              " 'computer',\n",
              " 'science',\n",
              " 'information',\n",
              " 'engineering',\n",
              " 'artificial',\n",
              " 'intelligence',\n",
              " 'human',\n",
              " 'natural',\n",
              " 'particular',\n",
              " 'program',\n",
              " 'large',\n",
              " 'natural',\n",
              " 'language']"
            ]
          },
          "metadata": {},
          "execution_count": 4
        }
      ]
    },
    {
      "cell_type": "code",
      "source": [
        "# bigram\n",
        "bigram = [(a, b) for a, b in nltk.bigrams(sent_nnjj)]\n",
        "bigram"
      ],
      "metadata": {
        "colab": {
          "base_uri": "https://localhost:8080/"
        },
        "id": "bY_Q81CHMqwM",
        "outputId": "2c6e1701-c920-4cfe-bcfe-c0ead1936da4"
      },
      "execution_count": 5,
      "outputs": [
        {
          "output_type": "execute_result",
          "data": {
            "text/plain": [
              "[('Natural', 'language'),\n",
              " ('language', 'processing'),\n",
              " ('processing', 'subfield'),\n",
              " ('subfield', 'computer'),\n",
              " ('computer', 'science'),\n",
              " ('science', 'information'),\n",
              " ('information', 'engineering'),\n",
              " ('engineering', 'artificial'),\n",
              " ('artificial', 'intelligence'),\n",
              " ('intelligence', 'human'),\n",
              " ('human', 'natural'),\n",
              " ('natural', 'particular'),\n",
              " ('particular', 'program'),\n",
              " ('program', 'large'),\n",
              " ('large', 'natural'),\n",
              " ('natural', 'language')]"
            ]
          },
          "metadata": {},
          "execution_count": 5
        }
      ]
    },
    {
      "cell_type": "code",
      "source": [
        "# trigram\n",
        "trigram = [(a, b, c) for a, b, c in nltk.trigrams(sent_nnjj)]\n",
        "trigram"
      ],
      "metadata": {
        "colab": {
          "base_uri": "https://localhost:8080/"
        },
        "id": "0aPDexfAMwO-",
        "outputId": "beb6b415-6e0c-4dba-f32a-3c0922369c8a"
      },
      "execution_count": 6,
      "outputs": [
        {
          "output_type": "execute_result",
          "data": {
            "text/plain": [
              "[('Natural', 'language', 'processing'),\n",
              " ('language', 'processing', 'subfield'),\n",
              " ('processing', 'subfield', 'computer'),\n",
              " ('subfield', 'computer', 'science'),\n",
              " ('computer', 'science', 'information'),\n",
              " ('science', 'information', 'engineering'),\n",
              " ('information', 'engineering', 'artificial'),\n",
              " ('engineering', 'artificial', 'intelligence'),\n",
              " ('artificial', 'intelligence', 'human'),\n",
              " ('intelligence', 'human', 'natural'),\n",
              " ('human', 'natural', 'particular'),\n",
              " ('natural', 'particular', 'program'),\n",
              " ('particular', 'program', 'large'),\n",
              " ('program', 'large', 'natural'),\n",
              " ('large', 'natural', 'language')]"
            ]
          },
          "metadata": {},
          "execution_count": 6
        }
      ]
    },
    {
      "cell_type": "code",
      "source": [
        "# n-gram\n",
        "ngram = [(a, b, c, d) for a, b, c, d in nltk.ngrams(sent_nnjj, 4)]\n",
        "ngram"
      ],
      "metadata": {
        "colab": {
          "base_uri": "https://localhost:8080/"
        },
        "id": "K2goEtfUMwIk",
        "outputId": "85e26757-791b-4301-8079-d023a31183fb"
      },
      "execution_count": 7,
      "outputs": [
        {
          "output_type": "execute_result",
          "data": {
            "text/plain": [
              "[('Natural', 'language', 'processing', 'subfield'),\n",
              " ('language', 'processing', 'subfield', 'computer'),\n",
              " ('processing', 'subfield', 'computer', 'science'),\n",
              " ('subfield', 'computer', 'science', 'information'),\n",
              " ('computer', 'science', 'information', 'engineering'),\n",
              " ('science', 'information', 'engineering', 'artificial'),\n",
              " ('information', 'engineering', 'artificial', 'intelligence'),\n",
              " ('engineering', 'artificial', 'intelligence', 'human'),\n",
              " ('artificial', 'intelligence', 'human', 'natural'),\n",
              " ('intelligence', 'human', 'natural', 'particular'),\n",
              " ('human', 'natural', 'particular', 'program'),\n",
              " ('natural', 'particular', 'program', 'large'),\n",
              " ('particular', 'program', 'large', 'natural'),\n",
              " ('program', 'large', 'natural', 'language')]"
            ]
          },
          "metadata": {},
          "execution_count": 7
        }
      ]
    }
  ]
}