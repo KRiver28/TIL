{
  "nbformat": 4,
  "nbformat_minor": 0,
  "metadata": {
    "colab": {
      "name": "RNN_CNN(mnist).ipynb",
      "provenance": [],
      "collapsed_sections": [],
      "authorship_tag": "ABX9TyO9zcdm7ZRLrGF7i9ilvSkF",
      "include_colab_link": true
    },
    "kernelspec": {
      "name": "python3",
      "display_name": "Python 3"
    },
    "language_info": {
      "name": "python"
    }
  },
  "cells": [
    {
      "cell_type": "markdown",
      "metadata": {
        "id": "view-in-github",
        "colab_type": "text"
      },
      "source": [
        "<a href=\"https://colab.research.google.com/github/KRiver28/TIL/blob/master/RNN_CNN(mnist).ipynb\" target=\"_parent\"><img src=\"https://colab.research.google.com/assets/colab-badge.svg\" alt=\"Open In Colab\"/></a>"
      ]
    },
    {
      "cell_type": "code",
      "source": [
        "from tensorflow.keras.layers import Input, Dense, Conv2D, Concatenate, Reshape\n",
        "from tensorflow.keras.layers import MaxPooling2D, Flatten, LSTM\n",
        "from tensorflow.keras.models import Model\n",
        "from tensorflow.keras import optimizers\n",
        "from sklearn.model_selection import train_test_split\n",
        "from sklearn.datasets import load_digits\n",
        "import numpy as np\n",
        "import pandas as pd\n",
        "import pickle\n",
        "import matplotlib.pyplot as plt\n"
      ],
      "metadata": {
        "id": "2KoT5V3rgjel"
      },
      "execution_count": 118,
      "outputs": []
    },
    {
      "cell_type": "code",
      "source": [
        "mnist = load_digits()\n",
        "print(mnist.data.shape)"
      ],
      "metadata": {
        "colab": {
          "base_uri": "https://localhost:8080/"
        },
        "id": "laTFCKqhgjaI",
        "outputId": "f0b5fcb8-2dce-4a52-f1a8-cf3ba1cda73e"
      },
      "execution_count": 119,
      "outputs": [
        {
          "output_type": "stream",
          "name": "stdout",
          "text": [
            "(1797, 64)\n"
          ]
        }
      ]
    },
    {
      "cell_type": "code",
      "source": [
        "# # mnist['data'] 숫자의 범위를 변환한다 (표준화) : 0 ~ 255 --> 0 ~ 1.0\n",
        "# # target = ['1', '2',...] 문자로 돼있음. --> 숫자로 변환해야 함.\n",
        "# x_feat = np.array(mnist['data']).reshape(-1, 28, 28) / 255\n",
        "# y_target = np.array(mnist['target'].to_numpy().astype('int8')).reshape(-1,1)"
      ],
      "metadata": {
        "id": "-zGTLRKekNWD"
      },
      "execution_count": 120,
      "outputs": []
    },
    {
      "cell_type": "code",
      "source": [
        "# mnist['data'] 숫자의 범위를 변환한다 (표준화) : 0 ~ 255 --> 0 ~ 1.0\n",
        "# target = ['1', '2',...] 문자로 돼있음. --> 숫자로 변환해야 함.\n",
        "x_feat = np.array(mnist['data']).reshape(-1,16, 4) / 255\n",
        "y_target = np.array(mnist['target'].astype('int8')).reshape(-1,1)\n",
        "\n",
        "# 학습 데이터와 시험 데이터를 생성한다.\n",
        "x_train, x_test, y_train, y_test = train_test_split(x_feat, y_target, test_size=0.2)\n",
        "x_train.shape, x_test.shape, y_train.shape, y_test.shape"
      ],
      "metadata": {
        "colab": {
          "base_uri": "https://localhost:8080/"
        },
        "id": "eevLIv_QgjX0",
        "outputId": "a03e4220-bad3-4cd9-f96d-5ee9e11808ed"
      },
      "execution_count": 121,
      "outputs": [
        {
          "output_type": "execute_result",
          "data": {
            "text/plain": [
              "((1437, 16, 4), (360, 16, 4), (1437, 1), (360, 1))"
            ]
          },
          "metadata": {},
          "execution_count": 121
        }
      ]
    },
    {
      "cell_type": "code",
      "source": [
        "# Convolutional 2D 모델을 생성한다.\n",
        "n_row = x_train.shape[1]\n",
        "n_col = x_train.shape[2]\n",
        "n_chan = 1\n",
        "n_class = len(set(y_train[:, 0]))\n",
        "n_hidden = 50"
      ],
      "metadata": {
        "id": "kg14HUrvgjVf"
      },
      "execution_count": 122,
      "outputs": []
    },
    {
      "cell_type": "code",
      "source": [
        "# 입력\n",
        "x_input = Input(batch_shape = (None, n_row, n_col))"
      ],
      "metadata": {
        "id": "_MFuVNWtgjTj"
      },
      "execution_count": 123,
      "outputs": []
    },
    {
      "cell_type": "code",
      "source": [
        "# LSTM\n",
        "h_rnn = LSTM(n_hidden)(x_input)"
      ],
      "metadata": {
        "id": "Vzqq036FgjR4"
      },
      "execution_count": 124,
      "outputs": []
    },
    {
      "cell_type": "code",
      "source": [
        "# CNN\n",
        "x_input_cnn = Reshape((n_row, n_col, n_chan))(x_input)\n",
        "h_conv = Conv2D(filters=10, kernel_size=(6, 4), strides=1, padding = 'valid', activation='relu')(x_input_cnn)\n",
        "h_pool = MaxPooling2D(pool_size=(4,1), strides=1, padding='valid')(h_conv)\n",
        "h_flat = Flatten()(h_pool)\n",
        "h_cnn = Dense(n_hidden, activation='tanh')(h_flat)"
      ],
      "metadata": {
        "id": "2st88pVsgjP3"
      },
      "execution_count": 125,
      "outputs": []
    },
    {
      "cell_type": "code",
      "source": [
        "# combine\n",
        "h_concat = Concatenate()([h_rnn, h_cnn])\n",
        "\n",
        "y_output = Dense(n_class, activation='softmax')(h_concat)\n",
        "\n",
        "model = Model(x_input, y_output)\n",
        "model.compile(loss='sparse_categorical_crossentropy', optimizer = optimizers.Adam(learning_rate=0.001))\n",
        "model.summary()"
      ],
      "metadata": {
        "colab": {
          "base_uri": "https://localhost:8080/"
        },
        "id": "88M0iUw3gjNg",
        "outputId": "9491a79f-d445-45ad-fb04-623e66b3769e"
      },
      "execution_count": 126,
      "outputs": [
        {
          "output_type": "stream",
          "name": "stdout",
          "text": [
            "Model: \"model_5\"\n",
            "__________________________________________________________________________________________________\n",
            " Layer (type)                   Output Shape         Param #     Connected to                     \n",
            "==================================================================================================\n",
            " input_7 (InputLayer)           [(None, 16, 4)]      0           []                               \n",
            "                                                                                                  \n",
            " reshape_42 (Reshape)           (None, 16, 4, 1)     0           ['input_7[0][0]']                \n",
            "                                                                                                  \n",
            " conv2d_42 (Conv2D)             (None, 11, 1, 10)    250         ['reshape_42[0][0]']             \n",
            "                                                                                                  \n",
            " max_pooling2d_37 (MaxPooling2D  (None, 8, 1, 10)    0           ['conv2d_42[0][0]']              \n",
            " )                                                                                                \n",
            "                                                                                                  \n",
            " flatten_9 (Flatten)            (None, 80)           0           ['max_pooling2d_37[0][0]']       \n",
            "                                                                                                  \n",
            " lstm_6 (LSTM)                  (None, 50)           11000       ['input_7[0][0]']                \n",
            "                                                                                                  \n",
            " dense_14 (Dense)               (None, 50)           4050        ['flatten_9[0][0]']              \n",
            "                                                                                                  \n",
            " concatenate_5 (Concatenate)    (None, 100)          0           ['lstm_6[0][0]',                 \n",
            "                                                                  'dense_14[0][0]']               \n",
            "                                                                                                  \n",
            " dense_15 (Dense)               (None, 10)           1010        ['concatenate_5[0][0]']          \n",
            "                                                                                                  \n",
            "==================================================================================================\n",
            "Total params: 16,310\n",
            "Trainable params: 16,310\n",
            "Non-trainable params: 0\n",
            "__________________________________________________________________________________________________\n"
          ]
        }
      ]
    },
    {
      "cell_type": "code",
      "source": [
        "hist = model.fit(x_train, y_train, \n",
        "                 batch_size=1024, \n",
        "                 epochs=50, \n",
        "                 validation_data = (x_test, y_test))"
      ],
      "metadata": {
        "colab": {
          "base_uri": "https://localhost:8080/"
        },
        "id": "s_LTjyjYgjKX",
        "outputId": "e83d7eb8-f62c-43bc-f6a3-fefc54b451f2"
      },
      "execution_count": 127,
      "outputs": [
        {
          "output_type": "stream",
          "name": "stdout",
          "text": [
            "Epoch 1/50\n",
            "2/2 [==============================] - 2s 541ms/step - loss: 2.3025 - val_loss: 2.3005\n",
            "Epoch 2/50\n",
            "2/2 [==============================] - 0s 73ms/step - loss: 2.3001 - val_loss: 2.2987\n",
            "Epoch 3/50\n",
            "2/2 [==============================] - 0s 71ms/step - loss: 2.2978 - val_loss: 2.2968\n",
            "Epoch 4/50\n",
            "2/2 [==============================] - 0s 71ms/step - loss: 2.2954 - val_loss: 2.2947\n",
            "Epoch 5/50\n",
            "2/2 [==============================] - 0s 72ms/step - loss: 2.2930 - val_loss: 2.2926\n",
            "Epoch 6/50\n",
            "2/2 [==============================] - 0s 68ms/step - loss: 2.2904 - val_loss: 2.2903\n",
            "Epoch 7/50\n",
            "2/2 [==============================] - 0s 67ms/step - loss: 2.2879 - val_loss: 2.2878\n",
            "Epoch 8/50\n",
            "2/2 [==============================] - 0s 76ms/step - loss: 2.2853 - val_loss: 2.2852\n",
            "Epoch 9/50\n",
            "2/2 [==============================] - 0s 69ms/step - loss: 2.2826 - val_loss: 2.2822\n",
            "Epoch 10/50\n",
            "2/2 [==============================] - 0s 71ms/step - loss: 2.2797 - val_loss: 2.2790\n",
            "Epoch 11/50\n",
            "2/2 [==============================] - 0s 75ms/step - loss: 2.2765 - val_loss: 2.2756\n",
            "Epoch 12/50\n",
            "2/2 [==============================] - 0s 72ms/step - loss: 2.2732 - val_loss: 2.2719\n",
            "Epoch 13/50\n",
            "2/2 [==============================] - 0s 71ms/step - loss: 2.2696 - val_loss: 2.2681\n",
            "Epoch 14/50\n",
            "2/2 [==============================] - 0s 77ms/step - loss: 2.2655 - val_loss: 2.2639\n",
            "Epoch 15/50\n",
            "2/2 [==============================] - 0s 69ms/step - loss: 2.2612 - val_loss: 2.2591\n",
            "Epoch 16/50\n",
            "2/2 [==============================] - 0s 73ms/step - loss: 2.2564 - val_loss: 2.2539\n",
            "Epoch 17/50\n",
            "2/2 [==============================] - 0s 70ms/step - loss: 2.2509 - val_loss: 2.2479\n",
            "Epoch 18/50\n",
            "2/2 [==============================] - 0s 70ms/step - loss: 2.2449 - val_loss: 2.2410\n",
            "Epoch 19/50\n",
            "2/2 [==============================] - 0s 70ms/step - loss: 2.2379 - val_loss: 2.2330\n",
            "Epoch 20/50\n",
            "2/2 [==============================] - 0s 67ms/step - loss: 2.2300 - val_loss: 2.2242\n",
            "Epoch 21/50\n",
            "2/2 [==============================] - 0s 69ms/step - loss: 2.2206 - val_loss: 2.2147\n",
            "Epoch 22/50\n",
            "2/2 [==============================] - 0s 76ms/step - loss: 2.2108 - val_loss: 2.2035\n",
            "Epoch 23/50\n",
            "2/2 [==============================] - 0s 69ms/step - loss: 2.1980 - val_loss: 2.1853\n",
            "Epoch 24/50\n",
            "2/2 [==============================] - 0s 81ms/step - loss: 2.1824 - val_loss: 2.1657\n",
            "Epoch 25/50\n",
            "2/2 [==============================] - 0s 69ms/step - loss: 2.1660 - val_loss: 2.1454\n",
            "Epoch 26/50\n",
            "2/2 [==============================] - 0s 67ms/step - loss: 2.1424 - val_loss: 2.1296\n",
            "Epoch 27/50\n",
            "2/2 [==============================] - 0s 69ms/step - loss: 2.1216 - val_loss: 2.0915\n",
            "Epoch 28/50\n",
            "2/2 [==============================] - 0s 68ms/step - loss: 2.0963 - val_loss: 2.0754\n",
            "Epoch 29/50\n",
            "2/2 [==============================] - 0s 68ms/step - loss: 2.0729 - val_loss: 2.0456\n",
            "Epoch 30/50\n",
            "2/2 [==============================] - 0s 76ms/step - loss: 2.0558 - val_loss: 2.0385\n",
            "Epoch 31/50\n",
            "2/2 [==============================] - 0s 70ms/step - loss: 2.0375 - val_loss: 2.0030\n",
            "Epoch 32/50\n",
            "2/2 [==============================] - 0s 70ms/step - loss: 2.0139 - val_loss: 2.0136\n",
            "Epoch 33/50\n",
            "2/2 [==============================] - 0s 69ms/step - loss: 2.0070 - val_loss: 1.9572\n",
            "Epoch 34/50\n",
            "2/2 [==============================] - 0s 70ms/step - loss: 1.9691 - val_loss: 1.9374\n",
            "Epoch 35/50\n",
            "2/2 [==============================] - 0s 70ms/step - loss: 1.9499 - val_loss: 1.9275\n",
            "Epoch 36/50\n",
            "2/2 [==============================] - 0s 72ms/step - loss: 1.9272 - val_loss: 1.8967\n",
            "Epoch 37/50\n",
            "2/2 [==============================] - 0s 80ms/step - loss: 1.9076 - val_loss: 1.8751\n",
            "Epoch 38/50\n",
            "2/2 [==============================] - 0s 70ms/step - loss: 1.8830 - val_loss: 1.8552\n",
            "Epoch 39/50\n",
            "2/2 [==============================] - 0s 89ms/step - loss: 1.8588 - val_loss: 1.8261\n",
            "Epoch 40/50\n",
            "2/2 [==============================] - 0s 76ms/step - loss: 1.8371 - val_loss: 1.8072\n",
            "Epoch 41/50\n",
            "2/2 [==============================] - 0s 69ms/step - loss: 1.8117 - val_loss: 1.7767\n",
            "Epoch 42/50\n",
            "2/2 [==============================] - 0s 72ms/step - loss: 1.7877 - val_loss: 1.7619\n",
            "Epoch 43/50\n",
            "2/2 [==============================] - 0s 72ms/step - loss: 1.7652 - val_loss: 1.7237\n",
            "Epoch 44/50\n",
            "2/2 [==============================] - 0s 73ms/step - loss: 1.7373 - val_loss: 1.6979\n",
            "Epoch 45/50\n",
            "2/2 [==============================] - 0s 68ms/step - loss: 1.7107 - val_loss: 1.6805\n",
            "Epoch 46/50\n",
            "2/2 [==============================] - 0s 69ms/step - loss: 1.6842 - val_loss: 1.6457\n",
            "Epoch 47/50\n",
            "2/2 [==============================] - 0s 70ms/step - loss: 1.6586 - val_loss: 1.6363\n",
            "Epoch 48/50\n",
            "2/2 [==============================] - 0s 70ms/step - loss: 1.6347 - val_loss: 1.5949\n",
            "Epoch 49/50\n",
            "2/2 [==============================] - 0s 75ms/step - loss: 1.6055 - val_loss: 1.5719\n",
            "Epoch 50/50\n",
            "2/2 [==============================] - 0s 81ms/step - loss: 1.5778 - val_loss: 1.5458\n"
          ]
        }
      ]
    },
    {
      "cell_type": "code",
      "source": [
        "# Loss history를 그린다\n",
        "plt.plot(hist.history['loss'], color='blue', label='train')\n",
        "plt.plot(hist.history['val_loss'], color='red', label='test')\n",
        "plt.legend()\n",
        "plt.title(\"Loss History\")\n",
        "plt.xlabel(\"epoch\")\n",
        "plt.ylabel(\"loss\")\n",
        "plt.show()"
      ],
      "metadata": {
        "colab": {
          "base_uri": "https://localhost:8080/",
          "height": 295
        },
        "id": "JmV6ThBVgjIN",
        "outputId": "81fcc436-0a83-42ac-f0e7-364db28ba615"
      },
      "execution_count": 128,
      "outputs": [
        {
          "output_type": "display_data",
          "data": {
            "text/plain": [
              "<Figure size 432x288 with 1 Axes>"
            ],
            "image/png": "[encoded data removed]"
          },
          "metadata": {
            "needs_background": "light"
          }
        }
      ]
    },
    {
      "cell_type": "code",
      "source": [
        "y_prob = model.predict(x_test)\n",
        "y_pred = np.argmax(y_prob, axis=1).reshape(-1,1)\n",
        "acc = (y_test == y_pred).mean()\n",
        "print('정확도 ={:.4f}'.format(acc))"
      ],
      "metadata": {
        "colab": {
          "base_uri": "https://localhost:8080/"
        },
        "id": "8CddxElDgjF1",
        "outputId": "e6b3ef9a-4db3-436b-8005-c50842c24845"
      },
      "execution_count": 129,
      "outputs": [
        {
          "output_type": "stream",
          "name": "stdout",
          "text": [
            "정확도 =0.6083\n"
          ]
        }
      ]
    },
    {
      "cell_type": "code",
      "source": [
        "import pandas as pd\n",
        "df = pd.DataFrame({'y_test': y_test.reshape(-1,), 'y_pred': y_pred.reshape(-1,)})\n",
        "df.head(10)"
      ],
      "metadata": {
        "colab": {
          "base_uri": "https://localhost:8080/",
          "height": 363
        },
        "id": "-J2nDAelgjDj",
        "outputId": "dde3e3c2-a7e9-4a34-f2f6-df3cd76fe97d"
      },
      "execution_count": 130,
      "outputs": [
        {
          "output_type": "execute_result",
          "data": {
            "text/plain": [
              "   y_test  y_pred\n",
              "0       4       4\n",
              "1       8       1\n",
              "2       6       6\n",
              "3       6       4\n",
              "4       1       1\n",
              "5       7       5\n",
              "6       9       3\n",
              "7       0       5\n",
              "8       7       1\n",
              "9       8       9"
            ],
            "text/html": [
              "\n",
              "  <div id=\"df-d02976b5-959f-4942-83a0-2aa0d9e3f2ed\">\n",
              "    <div class=\"colab-df-container\">\n",
              "      <div>\n",
              "<style scoped>\n",
              "    .dataframe tbody tr th:only-of-type {\n",
              "        vertical-align: middle;\n",
              "    }\n",
              "\n",
              "    .dataframe tbody tr th {\n",
              "        vertical-align: top;\n",
              "    }\n",
              "\n",
              "    .dataframe thead th {\n",
              "        text-align: right;\n",
              "    }\n",
              "</style>\n",
              "<table border=\"1\" class=\"dataframe\">\n",
              "  <thead>\n",
              "    <tr style=\"text-align: right;\">\n",
              "      <th></th>\n",
              "      <th>y_test</th>\n",
              "      <th>y_pred</th>\n",
              "    </tr>\n",
              "  </thead>\n",
              "  <tbody>\n",
              "    <tr>\n",
              "      <th>0</th>\n",
              "      <td>4</td>\n",
              "      <td>4</td>\n",
              "    </tr>\n",
              "    <tr>\n",
              "      <th>1</th>\n",
              "      <td>8</td>\n",
              "      <td>1</td>\n",
              "    </tr>\n",
              "    <tr>\n",
              "      <th>2</th>\n",
              "      <td>6</td>\n",
              "      <td>6</td>\n",
              "    </tr>\n",
              "    <tr>\n",
              "      <th>3</th>\n",
              "      <td>6</td>\n",
              "      <td>4</td>\n",
              "    </tr>\n",
              "    <tr>\n",
              "      <th>4</th>\n",
              "      <td>1</td>\n",
              "      <td>1</td>\n",
              "    </tr>\n",
              "    <tr>\n",
              "      <th>5</th>\n",
              "      <td>7</td>\n",
              "      <td>5</td>\n",
              "    </tr>\n",
              "    <tr>\n",
              "      <th>6</th>\n",
              "      <td>9</td>\n",
              "      <td>3</td>\n",
              "    </tr>\n",
              "    <tr>\n",
              "      <th>7</th>\n",
              "      <td>0</td>\n",
              "      <td>5</td>\n",
              "    </tr>\n",
              "    <tr>\n",
              "      <th>8</th>\n",
              "      <td>7</td>\n",
              "      <td>1</td>\n",
              "    </tr>\n",
              "    <tr>\n",
              "      <th>9</th>\n",
              "      <td>8</td>\n",
              "      <td>9</td>\n",
              "    </tr>\n",
              "  </tbody>\n",
              "</table>\n",
              "</div>\n",
              "      <button class=\"colab-df-convert\" onclick=\"convertToInteractive('df-d02976b5-959f-4942-83a0-2aa0d9e3f2ed')\"\n",
              "              title=\"Convert this dataframe to an interactive table.\"\n",
              "              style=\"display:none;\">\n",
              "        \n",
              "  <svg xmlns=\"http://www.w3.org/2000/svg\" height=\"24px\"viewBox=\"0 0 24 24\"\n",
              "       width=\"24px\">\n",
              "    <path d=\"M0 0h24v24H0V0z\" fill=\"none\"/>\n",
              "    <path d=\"M18.56 5.44l.94 2.06.94-2.06 2.06-.94-2.06-.94-.94-2.06-.94 2.06-2.06.94zm-11 1L8.5 8.5l.94-2.06 2.06-.94-2.06-.94L8.5 2.5l-.94 2.06-2.06.94zm10 10l.94 2.06.94-2.06 2.06-.94-2.06-.94-.94-2.06-.94 2.06-2.06.94z\"/><path d=\"M17.41 7.96l-1.37-1.37c-.4-.4-.92-.59-1.43-.59-.52 0-1.04.2-1.43.59L10.3 9.45l-7.72 7.72c-.78.78-.78 2.05 0 2.83L4 21.41c.39.39.9.59 1.41.59.51 0 1.02-.2 1.41-.59l7.78-7.78 2.81-2.81c.8-.78.8-2.07 0-2.86zM5.41 20L4 18.59l7.72-7.72 1.47 1.35L5.41 20z\"/>\n",
              "  </svg>\n",
              "      </button>\n",
              "      \n",
              "  <style>\n",
              "    .colab-df-container {\n",
              "      display:flex;\n",
              "      flex-wrap:wrap;\n",
              "      gap: 12px;\n",
              "    }\n",
              "\n",
              "    .colab-df-convert {\n",
              "      background-color: #E8F0FE;\n",
              "      border: none;\n",
              "      border-radius: 50%;\n",
              "      cursor: pointer;\n",
              "      display: none;\n",
              "      fill: #1967D2;\n",
              "      height: 32px;\n",
              "      padding: 0 0 0 0;\n",
              "      width: 32px;\n",
              "    }\n",
              "\n",
              "    .colab-df-convert:hover {\n",
              "      background-color: #E2EBFA;\n",
              "      box-shadow: 0px 1px 2px rgba(60, 64, 67, 0.3), 0px 1px 3px 1px rgba(60, 64, 67, 0.15);\n",
              "      fill: #174EA6;\n",
              "    }\n",
              "\n",
              "    [theme=dark] .colab-df-convert {\n",
              "      background-color: #3B4455;\n",
              "      fill: #D2E3FC;\n",
              "    }\n",
              "\n",
              "    [theme=dark] .colab-df-convert:hover {\n",
              "      background-color: #434B5C;\n",
              "      box-shadow: 0px 1px 3px 1px rgba(0, 0, 0, 0.15);\n",
              "      filter: drop-shadow(0px 1px 2px rgba(0, 0, 0, 0.3));\n",
              "      fill: #FFFFFF;\n",
              "    }\n",
              "  </style>\n",
              "\n",
              "      <script>\n",
              "        const buttonEl =\n",
              "          document.querySelector('#df-d02976b5-959f-4942-83a0-2aa0d9e3f2ed button.colab-df-convert');\n",
              "        buttonEl.style.display =\n",
              "          google.colab.kernel.accessAllowed ? 'block' : 'none';\n",
              "\n",
              "        async function convertToInteractive(key) {\n",
              "          const element = document.querySelector('#df-d02976b5-959f-4942-83a0-2aa0d9e3f2ed');\n",
              "          const dataTable =\n",
              "            await google.colab.kernel.invokeFunction('convertToInteractive',\n",
              "                                                     [key], {});\n",
              "          if (!dataTable) return;\n",
              "\n",
              "          const docLinkHtml = 'Like what you see? Visit the ' +\n",
              "            '<a target=\"_blank\" href=https://colab.research.google.com/notebooks/data_table.ipynb>data table notebook</a>'\n",
              "            + ' to learn more about interactive tables.';\n",
              "          element.innerHTML = '';\n",
              "          dataTable['output_type'] = 'display_data';\n",
              "          await google.colab.output.renderOutput(dataTable, element);\n",
              "          const docLink = document.createElement('div');\n",
              "          docLink.innerHTML = docLinkHtml;\n",
              "          element.appendChild(docLink);\n",
              "        }\n",
              "      </script>\n",
              "    </div>\n",
              "  </div>\n",
              "  "
            ]
          },
          "metadata": {},
          "execution_count": 130
        }
      ]
    },
    {
      "cell_type": "code",
      "source": [
        "# 잘못 분류한 이미지 몇개를 확인해 본다.\n",
        "# 어떤 이미지를 잘 맞추지 못할까? 사람이라면 아래 이미지를 잘 맞출 수 있을까?\n",
        "n_sample = 10\n",
        "miss_cls = np.where(y_test != y_pred)[0]\n",
        "miss_sam = np.random.choice(miss_cls, n_sample)"
      ],
      "metadata": {
        "id": "eHcYV3_0gjBL"
      },
      "execution_count": 131,
      "outputs": []
    },
    {
      "cell_type": "code",
      "source": [
        "fig, ax = plt.subplots(1, n_sample, figsize=(14,4))\n",
        "for i, miss in enumerate(miss_sam):\n",
        "    x = x_test[miss] * 255  # 표준화 단계에서 255로 나누었으므로, 여기서는 곱해준다.\n",
        "    ax[i].imshow(x)\n",
        "    ax[i].axis('off')\n",
        "    ax[i].set_title(str(y_test[miss]) + ' / ' + str(y_pred[miss]))"
      ],
      "metadata": {
        "colab": {
          "base_uri": "https://localhost:8080/",
          "height": 264
        },
        "id": "KyCLMdimhhx9",
        "outputId": "c467773f-652f-4fc8-f27e-a8d0e0dd7f02"
      },
      "execution_count": 132,
      "outputs": [
        {
          "output_type": "display_data",
          "data": {
            "text/plain": [
              "<Figure size 1008x288 with 10 Axes>"
            ],
            "image/png": "[encoded data removed]"
          },
          "metadata": {
            "needs_background": "light"
          }
        }
      ]
    },
    {
      "cell_type": "code",
      "source": [
        ""
      ],
      "metadata": {
        "id": "jcQ7zyvDjfWL"
      },
      "execution_count": 132,
      "outputs": []
    }
  ]
}