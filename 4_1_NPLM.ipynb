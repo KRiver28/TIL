{
  "nbformat": 4,
  "nbformat_minor": 0,
  "metadata": {
    "colab": {
      "name": "4-1.NPLM.ipynb",
      "provenance": [],
      "authorship_tag": "ABX9TyOKvTIhzRi1MwqMry0/zgAZ",
      "include_colab_link": true
    },
    "kernelspec": {
      "name": "python3",
      "display_name": "Python 3"
    },
    "language_info": {
      "name": "python"
    }
  },
  "cells": [
    {
      "cell_type": "markdown",
      "metadata": {
        "id": "view-in-github",
        "colab_type": "text"
      },
      "source": [
        "<a href=\"https://colab.research.google.com/github/KRiver28/TIL/blob/master/4_1_NPLM.ipynb\" target=\"_parent\"><img src=\"https://colab.research.google.com/assets/colab-badge.svg\" alt=\"Open In Colab\"/></a>"
      ]
    },
    {
      "cell_type": "code",
      "execution_count": null,
      "metadata": {
        "id": "ZVqWAME_VVht"
      },
      "outputs": [],
      "source": [
        "# A Neural Probabilistic Language Model (NPLM)\n",
        "#\n",
        "# NPLM 논문 : Yoshua Bengio, et. al., 2003, A Neural Probabilistic Language Model\n",
        "# 코드 구현 : blog.naver.com/chunjein, 2021.03.22\n",
        "# -------------------------------------------------------------------------------\n",
        "from tensorflow.keras.preprocessing.text import Tokenizer\n",
        "from tensorflow.keras.preprocessing.sequence import pad_sequences\n",
        "from tensorflow.keras.layers import Input, Embedding, Dense, Add, Flatten, LSTM\n",
        "from tensorflow.keras.models import Model\n",
        "from tensorflow.keras import optimizers\n",
        "import numpy as np\n",
        "import matplotlib.pyplot as plt\n"
      ]
    },
    {
      "cell_type": "code",
      "source": [
        "data = [\"The cat is walking in the bedroom\",\n",
        "        \"A dog was running in a room\",\n",
        "        \"The cat is running in a room\",\n",
        "        \"A dog is walking in a bedroom\",\n",
        "        \"The dog was walking in the room\"]\n",
        "\n",
        "tokenizer = Tokenizer()\n",
        "tokenizer.fit_on_texts(data)\n",
        "word2idx = tokenizer.word_index\n",
        "sequences = tokenizer.texts_to_sequences(data)\n",
        "sequences"
      ],
      "metadata": {
        "colab": {
          "base_uri": "https://localhost:8080/"
        },
        "id": "dv6c7k1NVZ5X",
        "outputId": "993aa858-19d8-40ac-8d10-cfea46af848c"
      },
      "execution_count": null,
      "outputs": [
        {
          "output_type": "execute_result",
          "data": {
            "text/plain": [
              "[[1, 8, 4, 5, 2, 1, 9],\n",
              " [3, 6, 10, 11, 2, 3, 7],\n",
              " [1, 8, 4, 11, 2, 3, 7],\n",
              " [3, 6, 4, 5, 2, 3, 9],\n",
              " [1, 6, 10, 5, 2, 1, 7]]"
            ]
          },
          "metadata": {},
          "execution_count": 2
        }
      ]
    },
    {
      "cell_type": "code",
      "source": [
        "# sequences 뒤에 <EOS>를 추가한다.\n",
        "word2idx_len = len(word2idx)\n",
        "word2idx['<PAD>'] = 0\n",
        "word2idx['<EOS>'] = word2idx_len + 1  # end of sentence 추가\n",
        "idx2word = {v: k for (k, v) in word2idx.items()}\n",
        "sequences = [s + [word2idx['<EOS>']] for s in sequences]\n",
        "sequences"
      ],
      "metadata": {
        "colab": {
          "base_uri": "https://localhost:8080/"
        },
        "id": "4Fo2XoWrVZ3T",
        "outputId": "f8ba4b0b-567e-4170-ca52-04bbd0e6dcb6"
      },
      "execution_count": null,
      "outputs": [
        {
          "output_type": "execute_result",
          "data": {
            "text/plain": [
              "[[1, 8, 4, 5, 2, 1, 9, 12],\n",
              " [3, 6, 10, 11, 2, 3, 7, 12],\n",
              " [1, 8, 4, 11, 2, 3, 7, 12],\n",
              " [3, 6, 4, 5, 2, 3, 9, 12],\n",
              " [1, 6, 10, 5, 2, 1, 7, 12]]"
            ]
          },
          "metadata": {},
          "execution_count": 3
        }
      ]
    },
    {
      "cell_type": "code",
      "source": [
        "def prepare_sentence(seq, maxlen):\n",
        "    # Pads seq and slides windows\n",
        "    x = []\n",
        "    y = []\n",
        "    for i, w in enumerate(seq[1:], 1):\n",
        "        x.append(pad_sequences([seq[:i]], maxlen=maxlen - 1)[0])\n",
        "        y.append(w)\n",
        "    return x, y"
      ],
      "metadata": {
        "id": "aebJs51qYZ81"
      },
      "execution_count": null,
      "outputs": []
    },
    {
      "cell_type": "code",
      "source": [
        "# 학습 데이터를 생성한다.\n",
        "maxlen = max([len(s) for s in sequences])\n",
        "x = []\n",
        "y = []\n",
        "for seq in sequences:\n",
        "    x_, y_ = prepare_sentence(seq, maxlen)\n",
        "    x += x_\n",
        "    y += y_\n",
        "    \n",
        "x_train = np.array(x)\n",
        "y_train = np.array(y)\n",
        "\n",
        "x_train.shape, y_train.shape"
      ],
      "metadata": {
        "colab": {
          "base_uri": "https://localhost:8080/"
        },
        "id": "8MaK60FLVZ0-",
        "outputId": "fcca7a3b-3caf-495a-e322-5660f722bed6"
      },
      "execution_count": null,
      "outputs": [
        {
          "output_type": "execute_result",
          "data": {
            "text/plain": [
              "((35, 7), (35,))"
            ]
          },
          "metadata": {},
          "execution_count": 5
        }
      ]
    },
    {
      "cell_type": "code",
      "source": [
        "x_train[:10]"
      ],
      "metadata": {
        "colab": {
          "base_uri": "https://localhost:8080/"
        },
        "id": "kfcJ5xmpeY8y",
        "outputId": "edc6bdbf-61f9-4fe1-8380-dbc394d9a4ab"
      },
      "execution_count": null,
      "outputs": [
        {
          "output_type": "execute_result",
          "data": {
            "text/plain": [
              "array([[ 0,  0,  0,  0,  0,  0,  1],\n",
              "       [ 0,  0,  0,  0,  0,  1,  8],\n",
              "       [ 0,  0,  0,  0,  1,  8,  4],\n",
              "       [ 0,  0,  0,  1,  8,  4,  5],\n",
              "       [ 0,  0,  1,  8,  4,  5,  2],\n",
              "       [ 0,  1,  8,  4,  5,  2,  1],\n",
              "       [ 1,  8,  4,  5,  2,  1,  9],\n",
              "       [ 0,  0,  0,  0,  0,  0,  3],\n",
              "       [ 0,  0,  0,  0,  0,  3,  6],\n",
              "       [ 0,  0,  0,  0,  3,  6, 10]], dtype=int32)"
            ]
          },
          "metadata": {},
          "execution_count": 6
        }
      ]
    },
    {
      "cell_type": "code",
      "source": [
        "y_train[:10]"
      ],
      "metadata": {
        "colab": {
          "base_uri": "https://localhost:8080/"
        },
        "id": "NT_-LKi7eaXq",
        "outputId": "7ce445dd-bf52-45b7-9fe5-694ff24bcedd"
      },
      "execution_count": null,
      "outputs": [
        {
          "output_type": "execute_result",
          "data": {
            "text/plain": [
              "array([ 8,  4,  5,  2,  1,  9, 12,  6, 10, 11])"
            ]
          },
          "metadata": {},
          "execution_count": 7
        }
      ]
    },
    {
      "cell_type": "code",
      "source": [
        "# NPLM 모델을 생성한다.\n",
        "EMB_SIZE = 8\n",
        "VOCAB_SIZE = len(word2idx)\n",
        "x_input = Input(batch_shape = (None, x_train.shape[1]))\n",
        "x_embed = Embedding(input_dim=VOCAB_SIZE, output_dim=EMB_SIZE, name='emb')(x_input)\n",
        "\n",
        "# H-network\n",
        "h_layer = Dense(10, activation='tanh')(x_embed)\n",
        "\n",
        "# U-network\n",
        "u_layer = Dense(10)(h_layer)\n",
        "\n",
        "# W-network\n",
        "w_layer = Dense(10)(x_embed)\n",
        "\n",
        "# 전체 network\n",
        "t_layer = Add()([u_layer, w_layer])\n",
        "t_layer = Flatten()(t_layer)\n",
        "y_output = Dense(VOCAB_SIZE, activation = 'softmax')(t_layer)\n",
        "\n",
        "model = Model(x_input, y_output)     # 학습, 예측용 모델\n",
        "model.compile(loss='sparse_categorical_crossentropy', optimizer=optimizers.Adam(learning_rate=0.01))\n",
        "model.summary()"
      ],
      "metadata": {
        "colab": {
          "base_uri": "https://localhost:8080/"
        },
        "id": "VTff1zp4VZx-",
        "outputId": "84b54a23-4c03-4f5b-e317-e37b9feee316"
      },
      "execution_count": null,
      "outputs": [
        {
          "output_type": "stream",
          "name": "stdout",
          "text": [
            "Model: \"model\"\n",
            "__________________________________________________________________________________________________\n",
            " Layer (type)                   Output Shape         Param #     Connected to                     \n",
            "==================================================================================================\n",
            " input_1 (InputLayer)           [(None, 7)]          0           []                               \n",
            "                                                                                                  \n",
            " emb (Embedding)                (None, 7, 8)         104         ['input_1[0][0]']                \n",
            "                                                                                                  \n",
            " dense (Dense)                  (None, 7, 10)        90          ['emb[0][0]']                    \n",
            "                                                                                                  \n",
            " dense_1 (Dense)                (None, 7, 10)        110         ['dense[0][0]']                  \n",
            "                                                                                                  \n",
            " dense_2 (Dense)                (None, 7, 10)        90          ['emb[0][0]']                    \n",
            "                                                                                                  \n",
            " add (Add)                      (None, 7, 10)        0           ['dense_1[0][0]',                \n",
            "                                                                  'dense_2[0][0]']                \n",
            "                                                                                                  \n",
            " flatten (Flatten)              (None, 70)           0           ['add[0][0]']                    \n",
            "                                                                                                  \n",
            " dense_3 (Dense)                (None, 13)           923         ['flatten[0][0]']                \n",
            "                                                                                                  \n",
            "==================================================================================================\n",
            "Total params: 1,317\n",
            "Trainable params: 1,317\n",
            "Non-trainable params: 0\n",
            "__________________________________________________________________________________________________\n"
          ]
        }
      ]
    },
    {
      "cell_type": "code",
      "source": [
        "# 모델을 학습한다.\n",
        "hist = model.fit(x_train, y_train, epochs=300, verbose=0)\n",
        "\n"
      ],
      "metadata": {
        "id": "3PA8Um1MVZvc"
      },
      "execution_count": null,
      "outputs": []
    },
    {
      "cell_type": "code",
      "source": [
        "# Loss history를 그린다\n",
        "plt.plot(hist.history['loss'], label='Train loss')\n",
        "plt.legend()\n",
        "plt.title(\"Loss history\")\n",
        "plt.xlabel(\"epoch\")\n",
        "plt.ylabel(\"loss\")\n",
        "plt.show()"
      ],
      "metadata": {
        "colab": {
          "base_uri": "https://localhost:8080/",
          "height": 295
        },
        "id": "ZOW8rG3nVZt7",
        "outputId": "f3a185ee-52ec-4fb5-f396-5cd63308cfff"
      },
      "execution_count": null,
      "outputs": [
        {
          "output_type": "display_data",
          "data": {
            "text/plain": [
              "<Figure size 432x288 with 1 Axes>"
            ],
            "image/png": "[encoded data removed]"
          },
          "metadata": {
            "needs_background": "light"
          }
        }
      ]
    },
    {
      "cell_type": "code",
      "source": [
        "C = model.get_layer('emb').get_weights()[0]\n",
        "C.shape"
      ],
      "metadata": {
        "colab": {
          "base_uri": "https://localhost:8080/"
        },
        "id": "dsXbflUgVZrL",
        "outputId": "e0b09741-9e37-4927-9254-55d919fe5dd7"
      },
      "execution_count": null,
      "outputs": [
        {
          "output_type": "execute_result",
          "data": {
            "text/plain": [
              "(13, 8)"
            ]
          },
          "metadata": {},
          "execution_count": 11
        }
      ]
    },
    {
      "cell_type": "code",
      "source": [
        "C[:7]"
      ],
      "metadata": {
        "colab": {
          "base_uri": "https://localhost:8080/"
        },
        "id": "At18NglPVZnW",
        "outputId": "7f735275-2cc5-43ed-8eea-ac759ec0dd29"
      },
      "execution_count": null,
      "outputs": [
        {
          "output_type": "execute_result",
          "data": {
            "text/plain": [
              "array([[-0.08973326, -0.04838462,  0.1061938 , -0.05840286,  0.04190561,\n",
              "        -0.06975189, -0.08491569,  0.03442419],\n",
              "       [-0.4407895 ,  0.32523194, -0.3825391 , -0.20935199, -0.4795784 ,\n",
              "        -0.10192405, -0.05210585,  0.26958707],\n",
              "       [ 0.24845757, -0.0589934 , -0.24025893, -0.09027704,  0.01829802,\n",
              "         0.03883207,  0.31085908, -0.19956969],\n",
              "       [ 0.05372076,  0.29036742, -0.11928943, -0.35584626, -0.21501687,\n",
              "        -0.56064147,  0.30034524, -0.61866033],\n",
              "       [ 0.10253561,  0.1964709 , -0.05675261, -0.17001858,  0.17024818,\n",
              "         0.22311538, -0.29314086,  0.2971559 ],\n",
              "       [ 0.15968458, -0.08156439, -0.10727007,  0.25984254,  0.0865691 ,\n",
              "         0.48572117, -0.10320832,  0.5003195 ],\n",
              "       [ 0.02342539, -0.10774957, -0.21366718,  0.1679461 , -0.0992263 ,\n",
              "         0.4087033 , -0.28491166,  0.4058943 ]], dtype=float32)"
            ]
          },
          "metadata": {},
          "execution_count": 12
        }
      ]
    },
    {
      "cell_type": "code",
      "source": [
        "# 한 단어의 워드 벡터를 조회한다.\n",
        "word = 'dog'\n",
        "w_idx = word2idx[word]\n",
        "wv = C[w_idx, :]  # look-up\n",
        "print('\\n단어 :', word)\n",
        "print('인덱스 :', w_idx)\n",
        "print(np.round(wv, 3))"
      ],
      "metadata": {
        "colab": {
          "base_uri": "https://localhost:8080/"
        },
        "id": "qEDNt4eUVZk7",
        "outputId": "0ce791a5-7925-4162-d6ad-d84e981f9709"
      },
      "execution_count": null,
      "outputs": [
        {
          "output_type": "stream",
          "name": "stdout",
          "text": [
            "\n",
            "단어 : dog\n",
            "인덱스 : 6\n",
            "[ 0.023 -0.108 -0.214  0.168 -0.099  0.409 -0.285  0.406]\n"
          ]
        }
      ]
    },
    {
      "cell_type": "code",
      "source": [
        "def get_prediction(model, sent):\n",
        "    x = tokenizer.texts_to_sequences(sent)[0]\n",
        "    x = pad_sequences([x], maxlen=maxlen - 1)[0]\n",
        "    x = np.array(x).reshape(1, -1)\n",
        "    return model.predict(x)[0]"
      ],
      "metadata": {
        "id": "AyjVM_ZTVnAG"
      },
      "execution_count": null,
      "outputs": []
    },
    {
      "cell_type": "code",
      "source": [
        "# 주어진 문장 다음에 나올 단어를 예측한다.\n",
        "x_test = ['A dog is walking in a']\n",
        "p = get_prediction(model, x_test)\n",
        "n = np.argmax(p)\n",
        "prob = p[n]\n",
        "next_word = idx2word[n]\n",
        "print(\"\\n{} --> '{}', probability = {:.2f}%\".format(x_test, next_word, prob * 100))"
      ],
      "metadata": {
        "colab": {
          "base_uri": "https://localhost:8080/"
        },
        "id": "mKi6kADfVpTk",
        "outputId": "b2c61171-2d20-45e7-8a98-e7bbd8b4da70"
      },
      "execution_count": null,
      "outputs": [
        {
          "output_type": "stream",
          "name": "stdout",
          "text": [
            "\n",
            "['A dog is walking in a'] --> 'bedroom', probability = 99.90%\n"
          ]
        }
      ]
    }
  ]
}