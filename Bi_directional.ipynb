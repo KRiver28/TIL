{
  "nbformat": 4,
  "nbformat_minor": 0,
  "metadata": {
    "colab": {
      "name": "Bi_directional.ipynb",
      "provenance": [],
      "collapsed_sections": [],
      "authorship_tag": "ABX9TyPdbJyI/Bz9crO4ccdOSHHH",
      "include_colab_link": true
    },
    "kernelspec": {
      "name": "python3",
      "display_name": "Python 3"
    },
    "language_info": {
      "name": "python"
    }
  },
  "cells": [
    {
      "cell_type": "markdown",
      "metadata": {
        "id": "view-in-github",
        "colab_type": "text"
      },
      "source": [
        "<a href=\"https://colab.research.google.com/github/KRiver28/TIL/blob/master/Bi_directional.ipynb\" target=\"_parent\"><img src=\"https://colab.research.google.com/assets/colab-badge.svg\" alt=\"Open In Colab\"/></a>"
      ]
    },
    {
      "cell_type": "markdown",
      "source": [
        "#Bi_directional\n",
        "##단층 양방향 many_to_one"
      ],
      "metadata": {
        "id": "32foJUOFgsuV"
      }
    },
    {
      "cell_type": "code",
      "execution_count": 18,
      "metadata": {
        "id": "xacGw_JCckll"
      },
      "outputs": [],
      "source": [
        "from tensorflow.keras.layers import Dense, Input, SimpleRNN, TimeDistributed,  LSTM, Bidirectional\n",
        "from tensorflow.keras.models import Model\n",
        "from tensorflow.keras.optimizers import Adam\n",
        "import numpy as np\n",
        "import pandas as pd\n",
        "import matplotlib.pyplot as plt\n"
      ]
    },
    {
      "cell_type": "code",
      "source": [
        "# 2차원 배열의 feature 데이터로 LSTM 학습 데이터를 만든다.\n",
        "def build_train_data(data, t_step, n_jump = 1):\n",
        "    n_data = data.shape[0]   # number of data\n",
        "    n_feat = data.shape[1]   # number of features\n",
        "\n",
        "    m = np.arange(0, n_data - t_step, n_jump)   # m =  [0, 1, 2, 3, 4, 5]\n",
        "    x = np.array([data[i:(i+t_step), :] for i in m])      # feature data\n",
        "    y = np.array([data[i, :] for i in (m + t_step)])      # target data\n",
        "\n",
        "    # shape을 조정한다. feature = 3D, target = 2D\n",
        "    x_data = x.reshape(-1, t_step, n_feat)\n",
        "    y_target = y.reshape(-1, n_feat)\n",
        "    \n",
        "    return x_data, y_target\n"
      ],
      "metadata": {
        "id": "eO2W3D8XczUZ"
      },
      "execution_count": 19,
      "outputs": []
    },
    {
      "cell_type": "code",
      "source": [
        "# 시계열 데이터 (noisy sin)\n",
        "n_data = 1000\n",
        "sine = np.sin(2 * np.pi * 0.03 * np.arange(n_data)) + np.random.random(n_data) # noisy sine\n",
        "\n",
        "# 데이터가 데이터프레임 형식으로 되어 있다고 생각하자. feature가 1개이고 target이 없는 데이터임.\n",
        "df = pd.DataFrame({'sine':sine})\n",
        "df.head()"
      ],
      "metadata": {
        "colab": {
          "base_uri": "https://localhost:8080/",
          "height": 206
        },
        "id": "SPF3KpxwczPu",
        "outputId": "b5166ab8-67c6-46ca-dd4f-0059d7fda932"
      },
      "execution_count": 20,
      "outputs": [
        {
          "output_type": "execute_result",
          "data": {
            "text/html": [
              "\n",
              "  <div id=\"df-72e67a06-5fa1-4f97-ac8e-bff4701c315b\">\n",
              "    <div class=\"colab-df-container\">\n",
              "      <div>\n",
              "<style scoped>\n",
              "    .dataframe tbody tr th:only-of-type {\n",
              "        vertical-align: middle;\n",
              "    }\n",
              "\n",
              "    .dataframe tbody tr th {\n",
              "        vertical-align: top;\n",
              "    }\n",
              "\n",
              "    .dataframe thead th {\n",
              "        text-align: right;\n",
              "    }\n",
              "</style>\n",
              "<table border=\"1\" class=\"dataframe\">\n",
              "  <thead>\n",
              "    <tr style=\"text-align: right;\">\n",
              "      <th></th>\n",
              "      <th>sine</th>\n",
              "    </tr>\n",
              "  </thead>\n",
              "  <tbody>\n",
              "    <tr>\n",
              "      <th>0</th>\n",
              "      <td>0.364427</td>\n",
              "    </tr>\n",
              "    <tr>\n",
              "      <th>1</th>\n",
              "      <td>0.327205</td>\n",
              "    </tr>\n",
              "    <tr>\n",
              "      <th>2</th>\n",
              "      <td>0.432849</td>\n",
              "    </tr>\n",
              "    <tr>\n",
              "      <th>3</th>\n",
              "      <td>1.074353</td>\n",
              "    </tr>\n",
              "    <tr>\n",
              "      <th>4</th>\n",
              "      <td>1.670274</td>\n",
              "    </tr>\n",
              "  </tbody>\n",
              "</table>\n",
              "</div>\n",
              "      <button class=\"colab-df-convert\" onclick=\"convertToInteractive('df-72e67a06-5fa1-4f97-ac8e-bff4701c315b')\"\n",
              "              title=\"Convert this dataframe to an interactive table.\"\n",
              "              style=\"display:none;\">\n",
              "        \n",
              "  <svg xmlns=\"http://www.w3.org/2000/svg\" height=\"24px\"viewBox=\"0 0 24 24\"\n",
              "       width=\"24px\">\n",
              "    <path d=\"M0 0h24v24H0V0z\" fill=\"none\"/>\n",
              "    <path d=\"M18.56 5.44l.94 2.06.94-2.06 2.06-.94-2.06-.94-.94-2.06-.94 2.06-2.06.94zm-11 1L8.5 8.5l.94-2.06 2.06-.94-2.06-.94L8.5 2.5l-.94 2.06-2.06.94zm10 10l.94 2.06.94-2.06 2.06-.94-2.06-.94-.94-2.06-.94 2.06-2.06.94z\"/><path d=\"M17.41 7.96l-1.37-1.37c-.4-.4-.92-.59-1.43-.59-.52 0-1.04.2-1.43.59L10.3 9.45l-7.72 7.72c-.78.78-.78 2.05 0 2.83L4 21.41c.39.39.9.59 1.41.59.51 0 1.02-.2 1.41-.59l7.78-7.78 2.81-2.81c.8-.78.8-2.07 0-2.86zM5.41 20L4 18.59l7.72-7.72 1.47 1.35L5.41 20z\"/>\n",
              "  </svg>\n",
              "      </button>\n",
              "      \n",
              "  <style>\n",
              "    .colab-df-container {\n",
              "      display:flex;\n",
              "      flex-wrap:wrap;\n",
              "      gap: 12px;\n",
              "    }\n",
              "\n",
              "    .colab-df-convert {\n",
              "      background-color: #E8F0FE;\n",
              "      border: none;\n",
              "      border-radius: 50%;\n",
              "      cursor: pointer;\n",
              "      display: none;\n",
              "      fill: #1967D2;\n",
              "      height: 32px;\n",
              "      padding: 0 0 0 0;\n",
              "      width: 32px;\n",
              "    }\n",
              "\n",
              "    .colab-df-convert:hover {\n",
              "      background-color: #E2EBFA;\n",
              "      box-shadow: 0px 1px 2px rgba(60, 64, 67, 0.3), 0px 1px 3px 1px rgba(60, 64, 67, 0.15);\n",
              "      fill: #174EA6;\n",
              "    }\n",
              "\n",
              "    [theme=dark] .colab-df-convert {\n",
              "      background-color: #3B4455;\n",
              "      fill: #D2E3FC;\n",
              "    }\n",
              "\n",
              "    [theme=dark] .colab-df-convert:hover {\n",
              "      background-color: #434B5C;\n",
              "      box-shadow: 0px 1px 3px 1px rgba(0, 0, 0, 0.15);\n",
              "      filter: drop-shadow(0px 1px 2px rgba(0, 0, 0, 0.3));\n",
              "      fill: #FFFFFF;\n",
              "    }\n",
              "  </style>\n",
              "\n",
              "      <script>\n",
              "        const buttonEl =\n",
              "          document.querySelector('#df-72e67a06-5fa1-4f97-ac8e-bff4701c315b button.colab-df-convert');\n",
              "        buttonEl.style.display =\n",
              "          google.colab.kernel.accessAllowed ? 'block' : 'none';\n",
              "\n",
              "        async function convertToInteractive(key) {\n",
              "          const element = document.querySelector('#df-72e67a06-5fa1-4f97-ac8e-bff4701c315b');\n",
              "          const dataTable =\n",
              "            await google.colab.kernel.invokeFunction('convertToInteractive',\n",
              "                                                     [key], {});\n",
              "          if (!dataTable) return;\n",
              "\n",
              "          const docLinkHtml = 'Like what you see? Visit the ' +\n",
              "            '<a target=\"_blank\" href=https://colab.research.google.com/notebooks/data_table.ipynb>data table notebook</a>'\n",
              "            + ' to learn more about interactive tables.';\n",
              "          element.innerHTML = '';\n",
              "          dataTable['output_type'] = 'display_data';\n",
              "          await google.colab.output.renderOutput(dataTable, element);\n",
              "          const docLink = document.createElement('div');\n",
              "          docLink.innerHTML = docLinkHtml;\n",
              "          element.appendChild(docLink);\n",
              "        }\n",
              "      </script>\n",
              "    </div>\n",
              "  </div>\n",
              "  "
            ],
            "text/plain": [
              "       sine\n",
              "0  0.364427\n",
              "1  0.327205\n",
              "2  0.432849\n",
              "3  1.074353\n",
              "4  1.670274"
            ]
          },
          "metadata": {},
          "execution_count": 20
        }
      ]
    },
    {
      "cell_type": "code",
      "source": [
        "#기간은 20 으로 정한다.\n",
        "t_step = 20\n",
        "\n",
        "# 학습 데이터를 생성한다.\n",
        "data = np.array(df)\n",
        "x_train, y_train = build_train_data(data, t_step)\n",
        "x_train.shape, y_train.shape\n",
        "\n"
      ],
      "metadata": {
        "colab": {
          "base_uri": "https://localhost:8080/"
        },
        "id": "iZUpJKGDczNg",
        "outputId": "b83c847b-99f5-44ed-fd42-190b29ffaac4"
      },
      "execution_count": 21,
      "outputs": [
        {
          "output_type": "execute_result",
          "data": {
            "text/plain": [
              "((980, 20, 1), (980, 1))"
            ]
          },
          "metadata": {},
          "execution_count": 21
        }
      ]
    },
    {
      "cell_type": "markdown",
      "source": [
        "#Bi_directional"
      ],
      "metadata": {
        "id": "H4fyiGqic2kv"
      }
    },
    {
      "cell_type": "code",
      "source": [
        "n_input = 1\n",
        "n_output = 1\n",
        "n_hidden = 50\n",
        "\n",
        "# Bidirectional LSTM 모델을 생성한다.\n",
        "x_input = Input(batch_shape=(None, t_step, n_input))\n",
        "h_lstm=Bidirectional(LSTM(50),merge_mode='sum')(x_input)\n",
        "#merge_mode 의 종류 sum, concat, ave, mul\n",
        "\n",
        "y_output = Dense(n_output)(h_lstm)\n",
        "\n",
        "model = Model(x_input, y_output)\n",
        "model.compile(loss='mean_squared_error', optimizer=Adam(learning_rate=0.001))\n",
        "model.summary(line_length=120)"
      ],
      "metadata": {
        "colab": {
          "base_uri": "https://localhost:8080/"
        },
        "id": "NiOoGsuXczLR",
        "outputId": "8bd4ff39-a551-45a3-97f5-5f9f4567deea"
      },
      "execution_count": 22,
      "outputs": [
        {
          "output_type": "stream",
          "name": "stdout",
          "text": [
            "Model: \"model_2\"\n",
            "________________________________________________________________________________________________________________________\n",
            " Layer (type)                                         Output Shape                                    Param #           \n",
            "========================================================================================================================\n",
            " input_5 (InputLayer)                                 [(None, 20, 1)]                                 0                 \n",
            "                                                                                                                        \n",
            " bidirectional_2 (Bidirectional)                      (None, 50)                                      20800             \n",
            "                                                                                                                        \n",
            " dense_2 (Dense)                                      (None, 1)                                       51                \n",
            "                                                                                                                        \n",
            "========================================================================================================================\n",
            "Total params: 20,851\n",
            "Trainable params: 20,851\n",
            "Non-trainable params: 0\n",
            "________________________________________________________________________________________________________________________\n"
          ]
        }
      ]
    },
    {
      "cell_type": "code",
      "source": [
        "# 학습한다\n",
        "h = model.fit(x_train, y_train, epochs=20, batch_size=100, shuffle=True)"
      ],
      "metadata": {
        "colab": {
          "base_uri": "https://localhost:8080/"
        },
        "id": "PWOWCRPUczIl",
        "outputId": "32ad5a1d-c179-4a89-8331-f5ae20d50342"
      },
      "execution_count": 23,
      "outputs": [
        {
          "output_type": "stream",
          "name": "stdout",
          "text": [
            "Epoch 1/20\n",
            "10/10 [==============================] - 4s 27ms/step - loss: 0.4638\n",
            "Epoch 2/20\n",
            "10/10 [==============================] - 0s 25ms/step - loss: 0.2072\n",
            "Epoch 3/20\n",
            "10/10 [==============================] - 0s 25ms/step - loss: 0.1093\n",
            "Epoch 4/20\n",
            "10/10 [==============================] - 0s 24ms/step - loss: 0.1039\n",
            "Epoch 5/20\n",
            "10/10 [==============================] - 0s 26ms/step - loss: 0.0978\n",
            "Epoch 6/20\n",
            "10/10 [==============================] - 0s 24ms/step - loss: 0.0971\n",
            "Epoch 7/20\n",
            "10/10 [==============================] - 0s 24ms/step - loss: 0.0960\n",
            "Epoch 8/20\n",
            "10/10 [==============================] - 0s 28ms/step - loss: 0.0973\n",
            "Epoch 9/20\n",
            "10/10 [==============================] - 0s 25ms/step - loss: 0.0960\n",
            "Epoch 10/20\n",
            "10/10 [==============================] - 0s 28ms/step - loss: 0.0968\n",
            "Epoch 11/20\n",
            "10/10 [==============================] - 0s 25ms/step - loss: 0.0965\n",
            "Epoch 12/20\n",
            "10/10 [==============================] - 0s 27ms/step - loss: 0.0970\n",
            "Epoch 13/20\n",
            "10/10 [==============================] - 0s 28ms/step - loss: 0.0961\n",
            "Epoch 14/20\n",
            "10/10 [==============================] - 0s 23ms/step - loss: 0.0969\n",
            "Epoch 15/20\n",
            "10/10 [==============================] - 0s 24ms/step - loss: 0.0977\n",
            "Epoch 16/20\n",
            "10/10 [==============================] - 0s 26ms/step - loss: 0.0975\n",
            "Epoch 17/20\n",
            "10/10 [==============================] - 0s 26ms/step - loss: 0.0991\n",
            "Epoch 18/20\n",
            "10/10 [==============================] - 0s 24ms/step - loss: 0.0969\n",
            "Epoch 19/20\n",
            "10/10 [==============================] - 0s 25ms/step - loss: 0.0976\n",
            "Epoch 20/20\n",
            "10/10 [==============================] - 0s 27ms/step - loss: 0.0964\n"
          ]
        }
      ]
    },
    {
      "cell_type": "code",
      "source": [
        "# Loss history를 그린다\n",
        "plt.figure(figsize=(8, 3))\n",
        "plt.plot(h.history['loss'], color='red')\n",
        "plt.title(\"Loss History\")\n",
        "plt.xlabel(\"epoch\")\n",
        "plt.ylabel(\"loss\")\n",
        "plt.show()"
      ],
      "metadata": {
        "colab": {
          "base_uri": "https://localhost:8080/",
          "height": 241
        },
        "id": "XEOvPPrhczFn",
        "outputId": "e3f85692-ddb7-48ff-f8b3-b77c17f0445d"
      },
      "execution_count": 24,
      "outputs": [
        {
          "output_type": "display_data",
          "data": {
            "image/png": "[encoded data removed]",
            "text/plain": [
              "<Figure size 576x216 with 1 Axes>"
            ]
          },
          "metadata": {
            "needs_background": "light"
          }
        }
      ]
    },
    {
      "cell_type": "code",
      "source": [
        "# 향후 20 기간 데이터를 예측한다. 향후 1 기간을 예측하고, 예측값을 다시 입력하여 2 기간을 예측한다.\n",
        "# 이런 방식으로 20 기간까지 예측한다.\n",
        "n_future = 200\n",
        "n_last = 100\n",
        "last_data = data[-n_last:]  # 원 데이터의 마지막 n_last개만 그려본다\n",
        "\n",
        "for i in range(n_future):\n",
        "    # 마지막 t_step 만큼 입력데이터로 다음 값을 예측한다\n",
        "    px = last_data[-t_step:, :].reshape(1, t_step, 1)\n",
        "\n",
        "    # 다음 값을 예측한다.\n",
        "    y_hat = model.predict(px)\n",
        "    \n",
        "    # 이전 예측값을 포함하여 또 다음 값을 예측하기위해 예측한 값을 저장해 둔다\n",
        "    last_data = np.vstack([last_data, y_hat])\n",
        "\n",
        "past_data = last_data[:-n_future, :]\n",
        "future_data = last_data[-(n_future + 1):, :]\n",
        "\n",
        "last_data.shape, past_data.shape, future_data.shape"
      ],
      "metadata": {
        "colab": {
          "base_uri": "https://localhost:8080/"
        },
        "id": "YB4WGlnKczDR",
        "outputId": "07fe97c6-ee0f-45cb-e265-f5ec2cb0b104"
      },
      "execution_count": 25,
      "outputs": [
        {
          "output_type": "execute_result",
          "data": {
            "text/plain": [
              "((300, 1), (100, 1), (201, 1))"
            ]
          },
          "metadata": {},
          "execution_count": 25
        }
      ]
    },
    {
      "cell_type": "code",
      "source": [
        "# 원 시계열과 예측된 시계열을 그린다\n",
        "plt.figure(figsize=(12, 6))\n",
        "ax1 = np.arange(1, len(past_data) + 1)\n",
        "ax2 = np.arange(len(past_data), len(past_data) + len(future_data))\n",
        "plt.plot(ax1, past_data, 'b-o', color='blue', markersize=3, label='Time series', linewidth=1)\n",
        "plt.plot(ax2, future_data, 'b-o', color='red', markersize=3, label='Estimatedk')\n",
        "plt.axvline(x=ax1[-1],  linestyle='dashed', linewidth=1)\n",
        "plt.legend()\n",
        "plt.show()"
      ],
      "metadata": {
        "colab": {
          "base_uri": "https://localhost:8080/",
          "height": 375
        },
        "id": "O3ImcESGc8qH",
        "outputId": "1bc3723c-0aee-4b1d-8633-1d8bdd148929"
      },
      "execution_count": 26,
      "outputs": [
        {
          "output_type": "display_data",
          "data": {
            "image/png": "[encoded data removed]",
            "text/plain": [
              "<Figure size 864x432 with 1 Axes>"
            ]
          },
          "metadata": {
            "needs_background": "light"
          }
        }
      ]
    }
  ]
}