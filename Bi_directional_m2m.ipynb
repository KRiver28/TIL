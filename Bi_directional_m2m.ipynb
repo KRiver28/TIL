{
  "nbformat": 4,
  "nbformat_minor": 0,
  "metadata": {
    "colab": {
      "name": "Bi_directional_m2m.ipynb",
      "provenance": [],
      "collapsed_sections": [],
      "authorship_tag": "ABX9TyNovd93O3wUMAcTCRge0g4S",
      "include_colab_link": true
    },
    "kernelspec": {
      "name": "python3",
      "display_name": "Python 3"
    },
    "language_info": {
      "name": "python"
    }
  },
  "cells": [
    {
      "cell_type": "markdown",
      "metadata": {
        "id": "view-in-github",
        "colab_type": "text"
      },
      "source": [
        "<a href=\"https://colab.research.google.com/github/KRiver28/TIL/blob/master/Bi_directional_m2m.ipynb\" target=\"_parent\"><img src=\"https://colab.research.google.com/assets/colab-badge.svg\" alt=\"Open In Colab\"/></a>"
      ]
    },
    {
      "cell_type": "code",
      "source": [
        "from tensorflow.keras.layers import Dense, Input, SimpleRNN, TimeDistributed,  LSTM, Bidirectional\n",
        "from tensorflow.keras.models import Model\n",
        "from tensorflow.keras.optimizers import Adam\n",
        "import numpy as np\n",
        "import pandas as pd\n",
        "import matplotlib.pyplot as plt"
      ],
      "metadata": {
        "id": "Fz7OP2SahHmB"
      },
      "execution_count": null,
      "outputs": []
    },
    {
      "cell_type": "markdown",
      "source": [
        "#Bi_directional 단층 양방향 many_to_many"
      ],
      "metadata": {
        "id": "9qf9LI9hhEW0"
      }
    },
    {
      "cell_type": "code",
      "source": [
        "# 2차원 배열의 feature 데이터로 LSTM 학습 데이터를 만든다.\n",
        "def build_train_data(data, t_step, n_jump = 1):\n",
        "    n_data = data.shape[0]   # number of data\n",
        "    n_feat = data.shape[1]   # number of features\n",
        "\n",
        "    m = np.arange(0, n_data - t_step, n_jump)   # m =  [0, 1, 2, 3, 4, 5]\n",
        "    x = np.array([data[i:(i+t_step), :] for i in m])      # feature data\n",
        "    y = np.array([data[i, :] for i in (m + t_step)])      # target data\n",
        "\n",
        "    # shape을 조정한다. feature = 3D, target = 2D\n",
        "    x_data = x.reshape(-1, t_step, n_feat)\n",
        "    y_target = y.reshape(-1, n_feat)\n",
        "    \n",
        "    return x_data, y_target\n"
      ],
      "metadata": {
        "id": "YZnV3j1VhHii"
      },
      "execution_count": null,
      "outputs": []
    },
    {
      "cell_type": "code",
      "source": [
        "# 시계열 데이터 (noisy sin)\n",
        "n_data = 1000\n",
        "sine = np.sin(2 * np.pi * 0.03 * np.arange(n_data)) + np.random.random(n_data) # noisy sine\n",
        "\n",
        "# 데이터가 데이터프레임 형식으로 되어 있다고 생각하자. feature가 1개이고 target이 없는 데이터임.\n",
        "df = pd.DataFrame({'sine':sine})\n",
        "df.head()"
      ],
      "metadata": {
        "colab": {
          "base_uri": "https://localhost:8080/",
          "height": 206
        },
        "id": "s-Ms9oP_hHgP",
        "outputId": "8b21d4cc-6903-4346-c1f0-60629aa43651"
      },
      "execution_count": null,
      "outputs": [
        {
          "output_type": "execute_result",
          "data": {
            "text/html": [
              "\n",
              "  <div id=\"df-5d178282-3568-4817-8ad4-60c50086b7e1\">\n",
              "    <div class=\"colab-df-container\">\n",
              "      <div>\n",
              "<style scoped>\n",
              "    .dataframe tbody tr th:only-of-type {\n",
              "        vertical-align: middle;\n",
              "    }\n",
              "\n",
              "    .dataframe tbody tr th {\n",
              "        vertical-align: top;\n",
              "    }\n",
              "\n",
              "    .dataframe thead th {\n",
              "        text-align: right;\n",
              "    }\n",
              "</style>\n",
              "<table border=\"1\" class=\"dataframe\">\n",
              "  <thead>\n",
              "    <tr style=\"text-align: right;\">\n",
              "      <th></th>\n",
              "      <th>sine</th>\n",
              "    </tr>\n",
              "  </thead>\n",
              "  <tbody>\n",
              "    <tr>\n",
              "      <th>0</th>\n",
              "      <td>0.332749</td>\n",
              "    </tr>\n",
              "    <tr>\n",
              "      <th>1</th>\n",
              "      <td>0.745400</td>\n",
              "    </tr>\n",
              "    <tr>\n",
              "      <th>2</th>\n",
              "      <td>0.508904</td>\n",
              "    </tr>\n",
              "    <tr>\n",
              "      <th>3</th>\n",
              "      <td>1.416657</td>\n",
              "    </tr>\n",
              "    <tr>\n",
              "      <th>4</th>\n",
              "      <td>1.370841</td>\n",
              "    </tr>\n",
              "  </tbody>\n",
              "</table>\n",
              "</div>\n",
              "      <button class=\"colab-df-convert\" onclick=\"convertToInteractive('df-5d178282-3568-4817-8ad4-60c50086b7e1')\"\n",
              "              title=\"Convert this dataframe to an interactive table.\"\n",
              "              style=\"display:none;\">\n",
              "        \n",
              "  <svg xmlns=\"http://www.w3.org/2000/svg\" height=\"24px\"viewBox=\"0 0 24 24\"\n",
              "       width=\"24px\">\n",
              "    <path d=\"M0 0h24v24H0V0z\" fill=\"none\"/>\n",
              "    <path d=\"M18.56 5.44l.94 2.06.94-2.06 2.06-.94-2.06-.94-.94-2.06-.94 2.06-2.06.94zm-11 1L8.5 8.5l.94-2.06 2.06-.94-2.06-.94L8.5 2.5l-.94 2.06-2.06.94zm10 10l.94 2.06.94-2.06 2.06-.94-2.06-.94-.94-2.06-.94 2.06-2.06.94z\"/><path d=\"M17.41 7.96l-1.37-1.37c-.4-.4-.92-.59-1.43-.59-.52 0-1.04.2-1.43.59L10.3 9.45l-7.72 7.72c-.78.78-.78 2.05 0 2.83L4 21.41c.39.39.9.59 1.41.59.51 0 1.02-.2 1.41-.59l7.78-7.78 2.81-2.81c.8-.78.8-2.07 0-2.86zM5.41 20L4 18.59l7.72-7.72 1.47 1.35L5.41 20z\"/>\n",
              "  </svg>\n",
              "      </button>\n",
              "      \n",
              "  <style>\n",
              "    .colab-df-container {\n",
              "      display:flex;\n",
              "      flex-wrap:wrap;\n",
              "      gap: 12px;\n",
              "    }\n",
              "\n",
              "    .colab-df-convert {\n",
              "      background-color: #E8F0FE;\n",
              "      border: none;\n",
              "      border-radius: 50%;\n",
              "      cursor: pointer;\n",
              "      display: none;\n",
              "      fill: #1967D2;\n",
              "      height: 32px;\n",
              "      padding: 0 0 0 0;\n",
              "      width: 32px;\n",
              "    }\n",
              "\n",
              "    .colab-df-convert:hover {\n",
              "      background-color: #E2EBFA;\n",
              "      box-shadow: 0px 1px 2px rgba(60, 64, 67, 0.3), 0px 1px 3px 1px rgba(60, 64, 67, 0.15);\n",
              "      fill: #174EA6;\n",
              "    }\n",
              "\n",
              "    [theme=dark] .colab-df-convert {\n",
              "      background-color: #3B4455;\n",
              "      fill: #D2E3FC;\n",
              "    }\n",
              "\n",
              "    [theme=dark] .colab-df-convert:hover {\n",
              "      background-color: #434B5C;\n",
              "      box-shadow: 0px 1px 3px 1px rgba(0, 0, 0, 0.15);\n",
              "      filter: drop-shadow(0px 1px 2px rgba(0, 0, 0, 0.3));\n",
              "      fill: #FFFFFF;\n",
              "    }\n",
              "  </style>\n",
              "\n",
              "      <script>\n",
              "        const buttonEl =\n",
              "          document.querySelector('#df-5d178282-3568-4817-8ad4-60c50086b7e1 button.colab-df-convert');\n",
              "        buttonEl.style.display =\n",
              "          google.colab.kernel.accessAllowed ? 'block' : 'none';\n",
              "\n",
              "        async function convertToInteractive(key) {\n",
              "          const element = document.querySelector('#df-5d178282-3568-4817-8ad4-60c50086b7e1');\n",
              "          const dataTable =\n",
              "            await google.colab.kernel.invokeFunction('convertToInteractive',\n",
              "                                                     [key], {});\n",
              "          if (!dataTable) return;\n",
              "\n",
              "          const docLinkHtml = 'Like what you see? Visit the ' +\n",
              "            '<a target=\"_blank\" href=https://colab.research.google.com/notebooks/data_table.ipynb>data table notebook</a>'\n",
              "            + ' to learn more about interactive tables.';\n",
              "          element.innerHTML = '';\n",
              "          dataTable['output_type'] = 'display_data';\n",
              "          await google.colab.output.renderOutput(dataTable, element);\n",
              "          const docLink = document.createElement('div');\n",
              "          docLink.innerHTML = docLinkHtml;\n",
              "          element.appendChild(docLink);\n",
              "        }\n",
              "      </script>\n",
              "    </div>\n",
              "  </div>\n",
              "  "
            ],
            "text/plain": [
              "       sine\n",
              "0  0.332749\n",
              "1  0.745400\n",
              "2  0.508904\n",
              "3  1.416657\n",
              "4  1.370841"
            ]
          },
          "metadata": {},
          "execution_count": 40
        }
      ]
    },
    {
      "cell_type": "code",
      "source": [
        "#기간은 20 으로 정한다.\n",
        "t_step = 20\n",
        "\n",
        "# 학습 데이터를 생성한다.\n",
        "data = np.array(df)\n",
        "x_train, y_train = build_train_data(data, t_step)\n",
        "x_train.shape, y_train.shape\n",
        "\n"
      ],
      "metadata": {
        "colab": {
          "base_uri": "https://localhost:8080/"
        },
        "id": "WYwAzr-bhHd3",
        "outputId": "2383b0d8-dfe4-4edc-ab09-4bc231c965a2"
      },
      "execution_count": null,
      "outputs": [
        {
          "output_type": "execute_result",
          "data": {
            "text/plain": [
              "((980, 20, 1), (980, 1))"
            ]
          },
          "metadata": {},
          "execution_count": 41
        }
      ]
    },
    {
      "cell_type": "code",
      "source": [
        "n_input = 1\n",
        "n_output = 1\n",
        "n_hidden = 50\n",
        "\n",
        "# Bidirectional LSTM 모델을 생성한다.\n",
        "x_input = Input(batch_shape=(None, t_step, n_input))\n",
        "h_lstm=Bidirectional(LSTM(n_hidden,return_sequences=True),merge_mode='ave')(x_input)\n",
        "#merge_mode 의 종류 sum, concat, ave, mul\n",
        "\n",
        "x_input.shape, h_lstm.shape"
      ],
      "metadata": {
        "colab": {
          "base_uri": "https://localhost:8080/"
        },
        "id": "ReTmwMvHhHbe",
        "outputId": "e0b152bd-b83e-41fc-e7eb-ca42f7665c10"
      },
      "execution_count": null,
      "outputs": [
        {
          "output_type": "execute_result",
          "data": {
            "text/plain": [
              "(TensorShape([None, 20, 1]), TensorShape([None, 20, 50]))"
            ]
          },
          "metadata": {},
          "execution_count": 42
        }
      ]
    },
    {
      "cell_type": "code",
      "source": [
        "y_output = TimeDistributed(Dense(n_output))(h_lstm)\n",
        "\n",
        "model = Model(x_input, y_output)\n",
        "model.compile(loss='mean_squared_error', optimizer=Adam(learning_rate=0.001))\n",
        "model.summary(line_length=120)"
      ],
      "metadata": {
        "colab": {
          "base_uri": "https://localhost:8080/"
        },
        "id": "47F7lbmxipH5",
        "outputId": "5db9ec1d-dfdd-49e5-da5c-4f25a343028e"
      },
      "execution_count": null,
      "outputs": [
        {
          "output_type": "stream",
          "name": "stdout",
          "text": [
            "Model: \"model_1\"\n",
            "________________________________________________________________________________________________________________________\n",
            " Layer (type)                                         Output Shape                                    Param #           \n",
            "========================================================================================================================\n",
            " input_10 (InputLayer)                                [(None, 20, 1)]                                 0                 \n",
            "                                                                                                                        \n",
            " bidirectional_6 (Bidirectional)                      (None, 20, 50)                                  20800             \n",
            "                                                                                                                        \n",
            " time_distributed_2 (TimeDistributed)                 (None, 20, 1)                                   51                \n",
            "                                                                                                                        \n",
            "========================================================================================================================\n",
            "Total params: 20,851\n",
            "Trainable params: 20,851\n",
            "Non-trainable params: 0\n",
            "________________________________________________________________________________________________________________________\n"
          ]
        }
      ]
    },
    {
      "cell_type": "code",
      "source": [
        "# 학습한다\n",
        "h = model.fit(x_train, y_train, epochs=20, batch_size=100, shuffle=True)"
      ],
      "metadata": {
        "colab": {
          "base_uri": "https://localhost:8080/"
        },
        "id": "c1VeVOpchHYE",
        "outputId": "7a5383e2-55a4-47c0-9284-0f23d87bb7eb"
      },
      "execution_count": null,
      "outputs": [
        {
          "output_type": "stream",
          "name": "stdout",
          "text": [
            "Epoch 1/20\n",
            "10/10 [==============================] - 4s 25ms/step - loss: 0.7201\n",
            "Epoch 2/20\n",
            "10/10 [==============================] - 0s 25ms/step - loss: 0.5582\n",
            "Epoch 3/20\n",
            "10/10 [==============================] - 0s 27ms/step - loss: 0.3822\n",
            "Epoch 4/20\n",
            "10/10 [==============================] - 0s 26ms/step - loss: 0.2417\n",
            "Epoch 5/20\n",
            "10/10 [==============================] - 0s 25ms/step - loss: 0.1878\n",
            "Epoch 6/20\n",
            "10/10 [==============================] - 0s 26ms/step - loss: 0.1523\n",
            "Epoch 7/20\n",
            "10/10 [==============================] - 0s 26ms/step - loss: 0.1405\n",
            "Epoch 8/20\n",
            "10/10 [==============================] - 0s 25ms/step - loss: 0.1380\n",
            "Epoch 9/20\n",
            "10/10 [==============================] - 0s 25ms/step - loss: 0.1335\n",
            "Epoch 10/20\n",
            "10/10 [==============================] - 0s 25ms/step - loss: 0.1315\n",
            "Epoch 11/20\n",
            "10/10 [==============================] - 0s 25ms/step - loss: 0.1306\n",
            "Epoch 12/20\n",
            "10/10 [==============================] - 0s 24ms/step - loss: 0.1268\n",
            "Epoch 13/20\n",
            "10/10 [==============================] - 0s 24ms/step - loss: 0.1245\n",
            "Epoch 14/20\n",
            "10/10 [==============================] - 0s 26ms/step - loss: 0.1228\n",
            "Epoch 15/20\n",
            "10/10 [==============================] - 0s 25ms/step - loss: 0.1208\n",
            "Epoch 16/20\n",
            "10/10 [==============================] - 0s 24ms/step - loss: 0.1178\n",
            "Epoch 17/20\n",
            "10/10 [==============================] - 0s 25ms/step - loss: 0.1166\n",
            "Epoch 18/20\n",
            "10/10 [==============================] - 0s 27ms/step - loss: 0.1140\n",
            "Epoch 19/20\n",
            "10/10 [==============================] - 0s 25ms/step - loss: 0.1123\n",
            "Epoch 20/20\n",
            "10/10 [==============================] - 0s 25ms/step - loss: 0.1123\n"
          ]
        }
      ]
    },
    {
      "cell_type": "code",
      "source": [
        "# Loss history를 그린다\n",
        "plt.figure(figsize=(8, 3))\n",
        "plt.plot(h.history['loss'], color='red')\n",
        "plt.title(\"Loss History\")\n",
        "plt.xlabel(\"epoch\")\n",
        "plt.ylabel(\"loss\")\n",
        "plt.show()"
      ],
      "metadata": {
        "colab": {
          "base_uri": "https://localhost:8080/",
          "height": 241
        },
        "id": "5AKE77efhL1T",
        "outputId": "27e7a9a8-a6e1-40a6-ee99-7bc5a329ca60"
      },
      "execution_count": null,
      "outputs": [
        {
          "output_type": "display_data",
          "data": {
            "image/png": "[encoded data removed]",
            "text/plain": [
              "<Figure size 576x216 with 1 Axes>"
            ]
          },
          "metadata": {
            "needs_background": "light"
          }
        }
      ]
    },
    {
      "cell_type": "code",
      "source": [
        "# 향후 20 기간 데이터를 예측한다. 향후 1 기간을 예측하고, 예측값을 다시 입력하여 2 기간을 예측한다.\n",
        "# 이런 방식으로 20 기간까지 예측한다.\n",
        "n_future = 200\n",
        "n_last = 100\n",
        "last_data = data[-n_last:]  # 원 데이터의 마지막 n_last개만 그려본다\n",
        "\n",
        "for i in range(n_future):\n",
        "    # 마지막 t_step 만큼 입력데이터로 다음 값을 예측한다\n",
        "    px = last_data[-t_step:, :].reshape(1, t_step, 1)\n",
        "\n",
        "    # 다음 값을 예측한다.\n",
        "    y_hat = model.predict(px)\n",
        "    \n",
        "    # 이전 예측값을 포함하여 또 다음 값을 예측하기위해 예측한 값을 저장해 둔다\n",
        "    last_data = np.vstack([last_data, y_hat[0,-1]])\n",
        "\n",
        "past_data = last_data[:-n_future, :]\n",
        "future_data = last_data[-(n_future + 1):, :]\n",
        "\n",
        "last_data.shape, past_data.shape, future_data.shape"
      ],
      "metadata": {
        "colab": {
          "base_uri": "https://localhost:8080/"
        },
        "id": "IPnRNEB4hLxW",
        "outputId": "35519471-efdd-43ca-8b17-f193982dde19"
      },
      "execution_count": null,
      "outputs": [
        {
          "output_type": "execute_result",
          "data": {
            "text/plain": [
              "((300, 1), (100, 1), (201, 1))"
            ]
          },
          "metadata": {},
          "execution_count": 46
        }
      ]
    },
    {
      "cell_type": "code",
      "source": [
        "# 원 시계열과 예측된 시계열을 그린다\n",
        "plt.figure(figsize=(12, 6))\n",
        "ax1 = np.arange(1, len(past_data) + 1)\n",
        "ax2 = np.arange(len(past_data), len(past_data) + len(future_data))\n",
        "plt.plot(ax1, past_data, 'b-o', color='blue', markersize=3, label='Time series', linewidth=1)\n",
        "plt.plot(ax2, future_data, 'b-o', color='red', markersize=3, label='Estimatedk')\n",
        "plt.axvline(x=ax1[-1],  linestyle='dashed', linewidth=1)\n",
        "plt.legend()\n",
        "plt.show()"
      ],
      "metadata": {
        "colab": {
          "base_uri": "https://localhost:8080/",
          "height": 374
        },
        "id": "nb7HC2T9hLt8",
        "outputId": "a14a50ed-0c11-42d7-849e-d2908ceff624"
      },
      "execution_count": null,
      "outputs": [
        {
          "output_type": "display_data",
          "data": {
            "image/png": "[encoded data removed]",
            "text/plain": [
              "<Figure size 864x432 with 1 Axes>"
            ]
          },
          "metadata": {
            "needs_background": "light"
          }
        }
      ]
    },
    {
      "cell_type": "markdown",
      "source": [
        "#Bi_directional 2층 양방향 many_to_many"
      ],
      "metadata": {
        "id": "0JIwZebmkzEd"
      }
    },
    {
      "cell_type": "code",
      "source": [
        "# 2차원 배열의 feature 데이터로 LSTM 학습 데이터를 만든다.\n",
        "def build_train_data(data, t_step, n_jump = 1):\n",
        "    n_data = data.shape[0]   # number of data\n",
        "    n_feat = data.shape[1]   # number of features\n",
        "\n",
        "    m = np.arange(0, n_data - t_step, n_jump)   # m =  [0, 1, 2, 3, 4, 5]\n",
        "    x = np.array([data[i:(i+t_step), :] for i in m])      # feature data\n",
        "    y = np.array([data[i, :] for i in (m + t_step)])      # target data\n",
        "\n",
        "    # shape을 조정한다. feature = 3D, target = 2D\n",
        "    x_data = x.reshape(-1, t_step, n_feat)\n",
        "    y_target = y.reshape(-1, n_feat)\n",
        "    \n",
        "    return x_data, y_target\n"
      ],
      "metadata": {
        "id": "_CrvfZSCk3B0"
      },
      "execution_count": null,
      "outputs": []
    },
    {
      "cell_type": "code",
      "source": [
        "# 시계열 데이터 (noisy sin)\n",
        "n_data = 1000\n",
        "sine = np.sin(2 * np.pi * 0.03 * np.arange(n_data)) + np.random.random(n_data) # noisy sine\n",
        "\n",
        "# 데이터가 데이터프레임 형식으로 되어 있다고 생각하자. feature가 1개이고 target이 없는 데이터임.\n",
        "df = pd.DataFrame({'sine':sine})\n",
        "df.head()"
      ],
      "metadata": {
        "colab": {
          "base_uri": "https://localhost:8080/",
          "height": 206
        },
        "id": "sz8E3CR9k29F",
        "outputId": "9ad16d78-7fdb-4526-ef25-463233f2bad2"
      },
      "execution_count": null,
      "outputs": [
        {
          "output_type": "execute_result",
          "data": {
            "text/html": [
              "\n",
              "  <div id=\"df-8d67eea5-2fbb-4df5-a8cc-bbbd3a9e18d4\">\n",
              "    <div class=\"colab-df-container\">\n",
              "      <div>\n",
              "<style scoped>\n",
              "    .dataframe tbody tr th:only-of-type {\n",
              "        vertical-align: middle;\n",
              "    }\n",
              "\n",
              "    .dataframe tbody tr th {\n",
              "        vertical-align: top;\n",
              "    }\n",
              "\n",
              "    .dataframe thead th {\n",
              "        text-align: right;\n",
              "    }\n",
              "</style>\n",
              "<table border=\"1\" class=\"dataframe\">\n",
              "  <thead>\n",
              "    <tr style=\"text-align: right;\">\n",
              "      <th></th>\n",
              "      <th>sine</th>\n",
              "    </tr>\n",
              "  </thead>\n",
              "  <tbody>\n",
              "    <tr>\n",
              "      <th>0</th>\n",
              "      <td>0.351634</td>\n",
              "    </tr>\n",
              "    <tr>\n",
              "      <th>1</th>\n",
              "      <td>0.521366</td>\n",
              "    </tr>\n",
              "    <tr>\n",
              "      <th>2</th>\n",
              "      <td>0.901764</td>\n",
              "    </tr>\n",
              "    <tr>\n",
              "      <th>3</th>\n",
              "      <td>0.995208</td>\n",
              "    </tr>\n",
              "    <tr>\n",
              "      <th>4</th>\n",
              "      <td>0.890506</td>\n",
              "    </tr>\n",
              "  </tbody>\n",
              "</table>\n",
              "</div>\n",
              "      <button class=\"colab-df-convert\" onclick=\"convertToInteractive('df-8d67eea5-2fbb-4df5-a8cc-bbbd3a9e18d4')\"\n",
              "              title=\"Convert this dataframe to an interactive table.\"\n",
              "              style=\"display:none;\">\n",
              "        \n",
              "  <svg xmlns=\"http://www.w3.org/2000/svg\" height=\"24px\"viewBox=\"0 0 24 24\"\n",
              "       width=\"24px\">\n",
              "    <path d=\"M0 0h24v24H0V0z\" fill=\"none\"/>\n",
              "    <path d=\"M18.56 5.44l.94 2.06.94-2.06 2.06-.94-2.06-.94-.94-2.06-.94 2.06-2.06.94zm-11 1L8.5 8.5l.94-2.06 2.06-.94-2.06-.94L8.5 2.5l-.94 2.06-2.06.94zm10 10l.94 2.06.94-2.06 2.06-.94-2.06-.94-.94-2.06-.94 2.06-2.06.94z\"/><path d=\"M17.41 7.96l-1.37-1.37c-.4-.4-.92-.59-1.43-.59-.52 0-1.04.2-1.43.59L10.3 9.45l-7.72 7.72c-.78.78-.78 2.05 0 2.83L4 21.41c.39.39.9.59 1.41.59.51 0 1.02-.2 1.41-.59l7.78-7.78 2.81-2.81c.8-.78.8-2.07 0-2.86zM5.41 20L4 18.59l7.72-7.72 1.47 1.35L5.41 20z\"/>\n",
              "  </svg>\n",
              "      </button>\n",
              "      \n",
              "  <style>\n",
              "    .colab-df-container {\n",
              "      display:flex;\n",
              "      flex-wrap:wrap;\n",
              "      gap: 12px;\n",
              "    }\n",
              "\n",
              "    .colab-df-convert {\n",
              "      background-color: #E8F0FE;\n",
              "      border: none;\n",
              "      border-radius: 50%;\n",
              "      cursor: pointer;\n",
              "      display: none;\n",
              "      fill: #1967D2;\n",
              "      height: 32px;\n",
              "      padding: 0 0 0 0;\n",
              "      width: 32px;\n",
              "    }\n",
              "\n",
              "    .colab-df-convert:hover {\n",
              "      background-color: #E2EBFA;\n",
              "      box-shadow: 0px 1px 2px rgba(60, 64, 67, 0.3), 0px 1px 3px 1px rgba(60, 64, 67, 0.15);\n",
              "      fill: #174EA6;\n",
              "    }\n",
              "\n",
              "    [theme=dark] .colab-df-convert {\n",
              "      background-color: #3B4455;\n",
              "      fill: #D2E3FC;\n",
              "    }\n",
              "\n",
              "    [theme=dark] .colab-df-convert:hover {\n",
              "      background-color: #434B5C;\n",
              "      box-shadow: 0px 1px 3px 1px rgba(0, 0, 0, 0.15);\n",
              "      filter: drop-shadow(0px 1px 2px rgba(0, 0, 0, 0.3));\n",
              "      fill: #FFFFFF;\n",
              "    }\n",
              "  </style>\n",
              "\n",
              "      <script>\n",
              "        const buttonEl =\n",
              "          document.querySelector('#df-8d67eea5-2fbb-4df5-a8cc-bbbd3a9e18d4 button.colab-df-convert');\n",
              "        buttonEl.style.display =\n",
              "          google.colab.kernel.accessAllowed ? 'block' : 'none';\n",
              "\n",
              "        async function convertToInteractive(key) {\n",
              "          const element = document.querySelector('#df-8d67eea5-2fbb-4df5-a8cc-bbbd3a9e18d4');\n",
              "          const dataTable =\n",
              "            await google.colab.kernel.invokeFunction('convertToInteractive',\n",
              "                                                     [key], {});\n",
              "          if (!dataTable) return;\n",
              "\n",
              "          const docLinkHtml = 'Like what you see? Visit the ' +\n",
              "            '<a target=\"_blank\" href=https://colab.research.google.com/notebooks/data_table.ipynb>data table notebook</a>'\n",
              "            + ' to learn more about interactive tables.';\n",
              "          element.innerHTML = '';\n",
              "          dataTable['output_type'] = 'display_data';\n",
              "          await google.colab.output.renderOutput(dataTable, element);\n",
              "          const docLink = document.createElement('div');\n",
              "          docLink.innerHTML = docLinkHtml;\n",
              "          element.appendChild(docLink);\n",
              "        }\n",
              "      </script>\n",
              "    </div>\n",
              "  </div>\n",
              "  "
            ],
            "text/plain": [
              "       sine\n",
              "0  0.351634\n",
              "1  0.521366\n",
              "2  0.901764\n",
              "3  0.995208\n",
              "4  0.890506"
            ]
          },
          "metadata": {},
          "execution_count": 49
        }
      ]
    },
    {
      "cell_type": "code",
      "source": [
        "#기간은 20 으로 정한다.\n",
        "t_step = 20\n",
        "\n",
        "# 학습 데이터를 생성한다.\n",
        "data = np.array(df)\n",
        "x_train, y_train = build_train_data(data, t_step)\n",
        "x_train.shape, y_train.shape\n",
        "\n"
      ],
      "metadata": {
        "colab": {
          "base_uri": "https://localhost:8080/"
        },
        "id": "Oo9_dTv2k255",
        "outputId": "a70f514c-04e7-4213-ff30-936ef6c7887b"
      },
      "execution_count": null,
      "outputs": [
        {
          "output_type": "execute_result",
          "data": {
            "text/plain": [
              "((980, 20, 1), (980, 1))"
            ]
          },
          "metadata": {},
          "execution_count": 50
        }
      ]
    },
    {
      "cell_type": "code",
      "source": [
        "n_input = 1\n",
        "n_output = 1\n",
        "n_hidden = 50\n",
        "\n",
        "# LSTM 모델을 생성한다.\n",
        "x_input = Input(batch_shape=(None, t_step, n_input))\n",
        "h_lstm1=Bidirectional(LSTM(n_hidden,return_sequences=True),merge_mode='concat')(x_input)\n",
        "h_lstm2=Bidirectional(LSTM(n_hidden,return_sequences=True),merge_mode='concat')(h_lstm1)"
      ],
      "metadata": {
        "id": "OD6A-nuMk22x"
      },
      "execution_count": null,
      "outputs": []
    },
    {
      "cell_type": "code",
      "source": [
        "y_output = TimeDistributed(Dense(n_output))(h_lstm2)\n",
        "\n",
        "\n",
        "model = Model(x_input, y_output)\n",
        "model.compile(loss='mean_squared_error', optimizer=Adam(learning_rate=0.001))\n",
        "model.summary(line_length=120)"
      ],
      "metadata": {
        "colab": {
          "base_uri": "https://localhost:8080/"
        },
        "id": "RHNdnQ-zlBKt",
        "outputId": "20e8fa07-5f7f-4587-ec2f-d70b042f9718"
      },
      "execution_count": null,
      "outputs": [
        {
          "output_type": "stream",
          "name": "stdout",
          "text": [
            "Model: \"model_2\"\n",
            "________________________________________________________________________________________________________________________\n",
            " Layer (type)                                         Output Shape                                    Param #           \n",
            "========================================================================================================================\n",
            " input_14 (InputLayer)                                [(None, 20, 1)]                                 0                 \n",
            "                                                                                                                        \n",
            " bidirectional_7 (Bidirectional)                      (None, 20, 100)                                 20800             \n",
            "                                                                                                                        \n",
            " bidirectional_8 (Bidirectional)                      (None, 20, 100)                                 60400             \n",
            "                                                                                                                        \n",
            " time_distributed_3 (TimeDistributed)                 (None, 20, 1)                                   101               \n",
            "                                                                                                                        \n",
            "========================================================================================================================\n",
            "Total params: 81,301\n",
            "Trainable params: 81,301\n",
            "Non-trainable params: 0\n",
            "________________________________________________________________________________________________________________________\n"
          ]
        }
      ]
    },
    {
      "cell_type": "code",
      "source": [
        "# 학습한다\n",
        "h = model.fit(x_train, y_train, epochs=20, batch_size=100, shuffle=True)"
      ],
      "metadata": {
        "colab": {
          "base_uri": "https://localhost:8080/"
        },
        "id": "vr7BSOGolBI2",
        "outputId": "ea7ef826-f0f2-4c85-ef7f-808e7cdeba5b"
      },
      "execution_count": null,
      "outputs": [
        {
          "output_type": "stream",
          "name": "stdout",
          "text": [
            "Epoch 1/20\n",
            "10/10 [==============================] - 8s 65ms/step - loss: 0.6247\n",
            "Epoch 2/20\n",
            "10/10 [==============================] - 1s 67ms/step - loss: 0.2262\n",
            "Epoch 3/20\n",
            "10/10 [==============================] - 1s 64ms/step - loss: 0.1326\n",
            "Epoch 4/20\n",
            "10/10 [==============================] - 1s 64ms/step - loss: 0.1075\n",
            "Epoch 5/20\n",
            "10/10 [==============================] - 1s 63ms/step - loss: 0.0963\n",
            "Epoch 6/20\n",
            "10/10 [==============================] - 1s 65ms/step - loss: 0.0924\n",
            "Epoch 7/20\n",
            "10/10 [==============================] - 1s 65ms/step - loss: 0.0915\n",
            "Epoch 8/20\n",
            "10/10 [==============================] - 1s 62ms/step - loss: 0.0896\n",
            "Epoch 9/20\n",
            "10/10 [==============================] - 1s 65ms/step - loss: 0.0906\n",
            "Epoch 10/20\n",
            "10/10 [==============================] - 1s 64ms/step - loss: 0.0889\n",
            "Epoch 11/20\n",
            "10/10 [==============================] - 1s 67ms/step - loss: 0.0893\n",
            "Epoch 12/20\n",
            "10/10 [==============================] - 1s 64ms/step - loss: 0.0883\n",
            "Epoch 13/20\n",
            "10/10 [==============================] - 1s 63ms/step - loss: 0.0915\n",
            "Epoch 14/20\n",
            "10/10 [==============================] - 1s 62ms/step - loss: 0.0912\n",
            "Epoch 15/20\n",
            "10/10 [==============================] - 1s 66ms/step - loss: 0.0921\n",
            "Epoch 16/20\n",
            "10/10 [==============================] - 1s 65ms/step - loss: 0.0881\n",
            "Epoch 17/20\n",
            "10/10 [==============================] - 1s 62ms/step - loss: 0.0890\n",
            "Epoch 18/20\n",
            "10/10 [==============================] - 1s 65ms/step - loss: 0.0898\n",
            "Epoch 19/20\n",
            "10/10 [==============================] - 1s 63ms/step - loss: 0.0888\n",
            "Epoch 20/20\n",
            "10/10 [==============================] - 1s 65ms/step - loss: 0.0890\n"
          ]
        }
      ]
    },
    {
      "cell_type": "code",
      "source": [
        "# Loss history를 그린다\n",
        "plt.figure(figsize=(8, 3))\n",
        "plt.plot(h.history['loss'], color='red')\n",
        "plt.title(\"Loss History\")\n",
        "plt.xlabel(\"epoch\")\n",
        "plt.ylabel(\"loss\")\n",
        "plt.show()"
      ],
      "metadata": {
        "colab": {
          "base_uri": "https://localhost:8080/",
          "height": 241
        },
        "id": "_VRXSm81lBG-",
        "outputId": "be3e2720-c228-44f0-daae-628f79a029f2"
      },
      "execution_count": null,
      "outputs": [
        {
          "output_type": "display_data",
          "data": {
            "image/png": "[encoded data removed]",
            "text/plain": [
              "<Figure size 576x216 with 1 Axes>"
            ]
          },
          "metadata": {
            "needs_background": "light"
          }
        }
      ]
    },
    {
      "cell_type": "code",
      "source": [
        "n_future = 50\n",
        "n_last = 100\n",
        "last_data = data[-n_last:] # 원 데이터의 마지막 n_last개만 그려본다\n",
        "\n",
        "for i in range(n_future):\n",
        "    # 마지막 t_step 만큼 입력데이터로 다음 값을 예측한다\n",
        "    px = last_data[-t_step:, :].reshape(1, t_step, 1)\n",
        "\n",
        "    # 다음 값을 예측한다.\n",
        "    y_hat = model.predict(px)\n",
        "    \n",
        "    # 이전 예측값을 포함하여 또 다음 값을 예측하기위해 예측한 값을 저장해 둔다\n",
        "    last_data = np.vstack([last_data, y_hat[0,-1]])\n",
        "\n",
        "past_data = last_data[:-n_future, :]\n",
        "future_data = last_data[-(n_future + 1):, :]\n",
        "\n",
        "last_data.shape, past_data.shape, future_data.shape"
      ],
      "metadata": {
        "colab": {
          "base_uri": "https://localhost:8080/"
        },
        "id": "y-qjCnP9lBEH",
        "outputId": "67dc7498-d081-485a-a7cf-9f37056bef12"
      },
      "execution_count": null,
      "outputs": [
        {
          "output_type": "execute_result",
          "data": {
            "text/plain": [
              "((150, 1), (100, 1), (51, 1))"
            ]
          },
          "metadata": {},
          "execution_count": 60
        }
      ]
    },
    {
      "cell_type": "code",
      "source": [
        "# 원 시계열과 예측된 시계열을 그린다\n",
        "plt.figure(figsize=(12, 6))\n",
        "ax1 = np.arange(1, len(past_data) + 1)\n",
        "ax2 = np.arange(len(past_data), len(past_data) + len(future_data))\n",
        "plt.plot(ax1, past_data, 'b-o', color='blue', markersize=3, label='Time series', linewidth=1)\n",
        "plt.plot(ax2, future_data, 'b-o', color='red', markersize=3, label='Estimatedk')\n",
        "plt.axvline(x=ax1[-1],  linestyle='dashed', linewidth=1)\n",
        "plt.legend()\n",
        "plt.show()"
      ],
      "metadata": {
        "colab": {
          "base_uri": "https://localhost:8080/",
          "height": 377
        },
        "id": "mvYcweZ2lEza",
        "outputId": "395f7b8a-ea08-4e2f-86c6-973602f8a726"
      },
      "execution_count": null,
      "outputs": [
        {
          "output_type": "display_data",
          "data": {
            "image/png": "[encoded data removed]",
            "text/plain": [
              "<Figure size 864x432 with 1 Axes>"
            ]
          },
          "metadata": {
            "needs_background": "light"
          }
        }
      ]
    }
  ]
}