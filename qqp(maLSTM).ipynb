{
  "nbformat": 4,
  "nbformat_minor": 0,
  "metadata": {
    "colab": {
      "name": "qqp(maLSTM).ipynb",
      "provenance": [],
      "collapsed_sections": [],
      "mount_file_id": "1bfUu9pT86ns0-nj9WHrAwGuiYBosij2l",
      "authorship_tag": "ABX9TyMcoFhKqRmfuSVs/raCQTDJ",
      "include_colab_link": true
    },
    "kernelspec": {
      "name": "python3",
      "display_name": "Python 3"
    },
    "language_info": {
      "name": "python"
    }
  },
  "cells": [
    {
      "cell_type": "markdown",
      "metadata": {
        "id": "view-in-github",
        "colab_type": "text"
      },
      "source": [
        "<a href=\"https://colab.research.google.com/github/KRiver28/TIL/blob/master/qqp(maLSTM).ipynb\" target=\"_parent\"><img src=\"https://colab.research.google.com/assets/colab-badge.svg\" alt=\"Open In Colab\"/></a>"
      ]
    },
    {
      "cell_type": "code",
      "execution_count": 1,
      "metadata": {
        "id": "95V62HPu4MPL"
      },
      "outputs": [],
      "source": [
        "\n",
        "# Quora question pairs : maLSTM 텍스트 유사도 모델\n",
        "import numpy as np\n",
        "from sklearn.model_selection  import train_test_split\n",
        "from tensorflow.keras.layers import Input, Embedding, LSTM\n",
        "from tensorflow.keras.layers import Dense, Dropout\n",
        "from tensorflow.keras.models import Model\n",
        "from tensorflow.keras.optimizers import Adam\n",
        "from tensorflow.keras.regularizers import l2\n",
        "import tensorflow.keras.backend as K\n",
        "import matplotlib.pyplot as plt\n",
        "import pickle\n"
      ]
    },
    {
      "cell_type": "code",
      "source": [
        "DATA_PATH = '/content/drive/MyDrive/BIGDATA_STUDY/NLP/'\n",
        "\n",
        "# 학습 데이터를 읽어온다.\n",
        "with open(DATA_PATH + 'qqp.pkl', 'rb') as f:\n",
        "    q1_data, q2_data, labels, word2idx = pickle.load(f)\n",
        "\n",
        "# 학습 데이터와 시험 데이터로 나눈다.\n",
        "q1_train, q1_test, q2_train, q2_test, y_train, y_test = train_test_split(q1_data, q2_data, labels, test_size=0.2)\n",
        "y_train = y_train.reshape(-1, 1)\n",
        "y_test = y_test.reshape(-1, 1)\n"
      ],
      "metadata": {
        "id": "obC48MuM4Qr2"
      },
      "execution_count": 2,
      "outputs": []
    },
    {
      "cell_type": "code",
      "source": [
        "# maLSTM 모델을 빌드한다.\n",
        "VOCAB_SIZE = len(word2idx)\n",
        "EMB_SIZE = 32\n",
        "HIDDEN_DIM = 10\n",
        "REG = 0.005\n",
        "\n",
        "# Question-1, 2 입력용\n",
        "q1_input = Input(batch_shape=(None, q1_train.shape[1]))\n",
        "q2_input = Input(batch_shape=(None, q2_train.shape[1]))\n",
        "\n",
        "# shared embedding\n",
        "sharedEmb = Embedding(VOCAB_SIZE, EMB_SIZE)\n",
        "\n",
        "# Question-1 처리용 LSTM\n",
        "q1_emb = sharedEmb(q1_input)\n",
        "q1_emb = Dropout(rate=0.5)(q1_emb)\n",
        "q1_lstm = LSTM(HIDDEN_DIM, dropout=0.5)(q1_emb)\n",
        "\n",
        "# Question-2 처리용 LSTM\n",
        "q2_emb = sharedEmb(q2_input)\n",
        "q2_emb = Dropout(rate=0.5)(q2_emb)\n",
        "q2_lstm = LSTM(HIDDEN_DIM, dropout=0.5)(q2_emb)"
      ],
      "metadata": {
        "id": "JqQIJveV4Qp_"
      },
      "execution_count": 3,
      "outputs": []
    },
    {
      "cell_type": "code",
      "source": [
        "# Question-1, 2의 출력으로 맨하탄 거리를 측정한다.\n",
        "m_dist = K.exp(-K.sum(K.abs(q1_lstm - q2_lstm), axis=1, keepdims=True))\n",
        "\n",
        "model = Model([q1_input, q2_input], m_dist)\n",
        "model.compile(loss='binary_crossentropy', optimizer=Adam(learning_rate=0.0001))\n",
        "model.summary()"
      ],
      "metadata": {
        "colab": {
          "base_uri": "https://localhost:8080/"
        },
        "id": "KHniugse4Qnr",
        "outputId": "16aa5202-f27a-4a0a-8aab-09ca71b49d53"
      },
      "execution_count": 4,
      "outputs": [
        {
          "output_type": "stream",
          "name": "stdout",
          "text": [
            "Model: \"model\"\n",
            "__________________________________________________________________________________________________\n",
            " Layer (type)                   Output Shape         Param #     Connected to                     \n",
            "==================================================================================================\n",
            " input_1 (InputLayer)           [(None, 31)]         0           []                               \n",
            "                                                                                                  \n",
            " input_2 (InputLayer)           [(None, 31)]         0           []                               \n",
            "                                                                                                  \n",
            " embedding (Embedding)          (None, 31, 32)       1600000     ['input_1[0][0]',                \n",
            "                                                                  'input_2[0][0]']                \n",
            "                                                                                                  \n",
            " dropout (Dropout)              (None, 31, 32)       0           ['embedding[0][0]']              \n",
            "                                                                                                  \n",
            " dropout_1 (Dropout)            (None, 31, 32)       0           ['embedding[1][0]']              \n",
            "                                                                                                  \n",
            " lstm (LSTM)                    (None, 10)           1720        ['dropout[0][0]']                \n",
            "                                                                                                  \n",
            " lstm_1 (LSTM)                  (None, 10)           1720        ['dropout_1[0][0]']              \n",
            "                                                                                                  \n",
            " tf.math.subtract (TFOpLambda)  (None, 10)           0           ['lstm[0][0]',                   \n",
            "                                                                  'lstm_1[0][0]']                 \n",
            "                                                                                                  \n",
            " tf.math.abs (TFOpLambda)       (None, 10)           0           ['tf.math.subtract[0][0]']       \n",
            "                                                                                                  \n",
            " tf.math.reduce_sum (TFOpLambda  (None, 1)           0           ['tf.math.abs[0][0]']            \n",
            " )                                                                                                \n",
            "                                                                                                  \n",
            " tf.math.negative (TFOpLambda)  (None, 1)            0           ['tf.math.reduce_sum[0][0]']     \n",
            "                                                                                                  \n",
            " tf.math.exp (TFOpLambda)       (None, 1)            0           ['tf.math.negative[0][0]']       \n",
            "                                                                                                  \n",
            "==================================================================================================\n",
            "Total params: 1,603,440\n",
            "Trainable params: 1,603,440\n",
            "Non-trainable params: 0\n",
            "__________________________________________________________________________________________________\n"
          ]
        }
      ]
    },
    {
      "cell_type": "code",
      "source": [
        "# 학습\n",
        "hist = model.fit([q1_train, q2_train], y_train,\n",
        "                 validation_data = ([q1_test, q2_test], y_test),\n",
        "                 batch_size = 4096, epochs = 50)"
      ],
      "metadata": {
        "colab": {
          "base_uri": "https://localhost:8080/"
        },
        "id": "BHUlqavM4QlZ",
        "outputId": "bbefc212-d61e-4f1b-f1fe-de5303aef222"
      },
      "execution_count": 5,
      "outputs": [
        {
          "output_type": "stream",
          "name": "stdout",
          "text": [
            "Epoch 1/50\n",
            "100/100 [==============================] - 14s 54ms/step - loss: 0.7113 - val_loss: 0.7031\n",
            "Epoch 2/50\n",
            "100/100 [==============================] - 4s 43ms/step - loss: 0.7031 - val_loss: 0.6988\n",
            "Epoch 3/50\n",
            "100/100 [==============================] - 4s 43ms/step - loss: 0.6983 - val_loss: 0.6914\n",
            "Epoch 4/50\n",
            "100/100 [==============================] - 4s 43ms/step - loss: 0.6872 - val_loss: 0.6685\n",
            "Epoch 5/50\n",
            "100/100 [==============================] - 4s 43ms/step - loss: 0.6516 - val_loss: 0.6109\n",
            "Epoch 6/50\n",
            "100/100 [==============================] - 4s 44ms/step - loss: 0.6080 - val_loss: 0.5764\n",
            "Epoch 7/50\n",
            "100/100 [==============================] - 4s 43ms/step - loss: 0.5838 - val_loss: 0.5628\n",
            "Epoch 8/50\n",
            "100/100 [==============================] - 4s 43ms/step - loss: 0.5701 - val_loss: 0.5540\n",
            "Epoch 9/50\n",
            "100/100 [==============================] - 4s 43ms/step - loss: 0.5604 - val_loss: 0.5473\n",
            "Epoch 10/50\n",
            "100/100 [==============================] - 4s 43ms/step - loss: 0.5515 - val_loss: 0.5404\n",
            "Epoch 11/50\n",
            "100/100 [==============================] - 4s 43ms/step - loss: 0.5420 - val_loss: 0.5324\n",
            "Epoch 12/50\n",
            "100/100 [==============================] - 5s 46ms/step - loss: 0.5323 - val_loss: 0.5264\n",
            "Epoch 13/50\n",
            "100/100 [==============================] - 4s 43ms/step - loss: 0.5247 - val_loss: 0.5203\n",
            "Epoch 14/50\n",
            "100/100 [==============================] - 4s 43ms/step - loss: 0.5184 - val_loss: 0.5161\n",
            "Epoch 15/50\n",
            "100/100 [==============================] - 4s 43ms/step - loss: 0.5134 - val_loss: 0.5140\n",
            "Epoch 16/50\n",
            "100/100 [==============================] - 4s 42ms/step - loss: 0.5091 - val_loss: 0.5114\n",
            "Epoch 17/50\n",
            "100/100 [==============================] - 4s 43ms/step - loss: 0.5056 - val_loss: 0.5086\n",
            "Epoch 18/50\n",
            "100/100 [==============================] - 4s 43ms/step - loss: 0.5017 - val_loss: 0.5059\n",
            "Epoch 19/50\n",
            "100/100 [==============================] - 4s 43ms/step - loss: 0.4988 - val_loss: 0.5036\n",
            "Epoch 20/50\n",
            "100/100 [==============================] - 4s 43ms/step - loss: 0.4955 - val_loss: 0.5024\n",
            "Epoch 21/50\n",
            "100/100 [==============================] - 4s 43ms/step - loss: 0.4927 - val_loss: 0.4997\n",
            "Epoch 22/50\n",
            "100/100 [==============================] - 4s 43ms/step - loss: 0.4903 - val_loss: 0.4986\n",
            "Epoch 23/50\n",
            "100/100 [==============================] - 4s 43ms/step - loss: 0.4874 - val_loss: 0.4970\n",
            "Epoch 24/50\n",
            "100/100 [==============================] - 4s 43ms/step - loss: 0.4854 - val_loss: 0.4970\n",
            "Epoch 25/50\n",
            "100/100 [==============================] - 4s 43ms/step - loss: 0.4828 - val_loss: 0.4942\n",
            "Epoch 26/50\n",
            "100/100 [==============================] - 4s 43ms/step - loss: 0.4805 - val_loss: 0.4932\n",
            "Epoch 27/50\n",
            "100/100 [==============================] - 4s 43ms/step - loss: 0.4779 - val_loss: 0.4919\n",
            "Epoch 28/50\n",
            "100/100 [==============================] - 4s 43ms/step - loss: 0.4762 - val_loss: 0.4902\n",
            "Epoch 29/50\n",
            "100/100 [==============================] - 4s 43ms/step - loss: 0.4740 - val_loss: 0.4888\n",
            "Epoch 30/50\n",
            "100/100 [==============================] - 4s 43ms/step - loss: 0.4724 - val_loss: 0.4898\n",
            "Epoch 31/50\n",
            "100/100 [==============================] - 4s 43ms/step - loss: 0.4705 - val_loss: 0.4880\n",
            "Epoch 32/50\n",
            "100/100 [==============================] - 4s 43ms/step - loss: 0.4684 - val_loss: 0.4880\n",
            "Epoch 33/50\n",
            "100/100 [==============================] - 4s 43ms/step - loss: 0.4669 - val_loss: 0.4869\n",
            "Epoch 34/50\n",
            "100/100 [==============================] - 4s 43ms/step - loss: 0.4651 - val_loss: 0.4850\n",
            "Epoch 35/50\n",
            "100/100 [==============================] - 4s 43ms/step - loss: 0.4634 - val_loss: 0.4843\n",
            "Epoch 36/50\n",
            "100/100 [==============================] - 4s 43ms/step - loss: 0.4626 - val_loss: 0.4827\n",
            "Epoch 37/50\n",
            "100/100 [==============================] - 4s 44ms/step - loss: 0.4608 - val_loss: 0.4825\n",
            "Epoch 38/50\n",
            "100/100 [==============================] - 4s 43ms/step - loss: 0.4591 - val_loss: 0.4814\n",
            "Epoch 39/50\n",
            "100/100 [==============================] - 4s 43ms/step - loss: 0.4579 - val_loss: 0.4818\n",
            "Epoch 40/50\n",
            "100/100 [==============================] - 4s 43ms/step - loss: 0.4566 - val_loss: 0.4821\n",
            "Epoch 41/50\n",
            "100/100 [==============================] - 4s 43ms/step - loss: 0.4557 - val_loss: 0.4815\n",
            "Epoch 42/50\n",
            "100/100 [==============================] - 5s 52ms/step - loss: 0.4543 - val_loss: 0.4796\n",
            "Epoch 43/50\n",
            "100/100 [==============================] - 5s 48ms/step - loss: 0.4533 - val_loss: 0.4807\n",
            "Epoch 44/50\n",
            "100/100 [==============================] - 4s 43ms/step - loss: 0.4518 - val_loss: 0.4783\n",
            "Epoch 45/50\n",
            "100/100 [==============================] - 4s 43ms/step - loss: 0.4510 - val_loss: 0.4798\n",
            "Epoch 46/50\n",
            "100/100 [==============================] - 4s 43ms/step - loss: 0.4495 - val_loss: 0.4785\n",
            "Epoch 47/50\n",
            "100/100 [==============================] - 4s 43ms/step - loss: 0.4479 - val_loss: 0.4774\n",
            "Epoch 48/50\n",
            "100/100 [==============================] - 4s 43ms/step - loss: 0.4467 - val_loss: 0.4781\n",
            "Epoch 49/50\n",
            "100/100 [==============================] - 4s 43ms/step - loss: 0.4463 - val_loss: 0.4777\n",
            "Epoch 50/50\n",
            "100/100 [==============================] - 4s 43ms/step - loss: 0.4443 - val_loss: 0.4774\n"
          ]
        }
      ]
    },
    {
      "cell_type": "code",
      "source": [
        "# Loss history를 그린다\n",
        "plt.plot(hist.history['loss'], label='Train loss')\n",
        "plt.plot(hist.history['val_loss'], label = 'Test loss')\n",
        "plt.legend()\n",
        "plt.title(\"Loss history\")\n",
        "plt.xlabel(\"epoch\")\n",
        "plt.ylabel(\"loss\")\n",
        "plt.show()"
      ],
      "metadata": {
        "colab": {
          "base_uri": "https://localhost:8080/",
          "height": 295
        },
        "id": "kv3hPJM-4QiJ",
        "outputId": "8a6fd86e-db62-4271-c49c-b16ea912d737"
      },
      "execution_count": 6,
      "outputs": [
        {
          "output_type": "display_data",
          "data": {
            "text/plain": [
              "<Figure size 432x288 with 1 Axes>"
            ],
            "image/png": "[encoded data removed]"
          },
          "metadata": {
            "needs_background": "light"
          }
        }
      ]
    },
    {
      "cell_type": "code",
      "source": [
        "# 시험 데이터로 학습 성능을 평가한다\n",
        "y_prob = model.predict([q1_test, q2_test])\n",
        "y_pred = np.where(y_prob > 0.5, 1, 0)\n",
        "accuracy = (y_test == y_pred).mean()\n",
        "print(\"Accuracy = %.2f\" % (accuracy))"
      ],
      "metadata": {
        "colab": {
          "base_uri": "https://localhost:8080/"
        },
        "id": "TsKqlKa54Zkg",
        "outputId": "e644abf0-3f32-44f6-8bb6-44bc93f83687"
      },
      "execution_count": 7,
      "outputs": [
        {
          "output_type": "stream",
          "name": "stdout",
          "text": [
            "Accuracy = 0.77\n"
          ]
        }
      ]
    },
    {
      "cell_type": "code",
      "source": [
        "# log loss = cross entropy\n",
        "log_loss = -(y_test * np.log(y_prob + 1e-8) + \n",
        "             (1 - y_test) * np.log(1 - y_prob + 1e-8)).mean()\n",
        "print(\"log loss = %.4f\" % log_loss)"
      ],
      "metadata": {
        "colab": {
          "base_uri": "https://localhost:8080/"
        },
        "id": "ERXgc8YB4ZfW",
        "outputId": "1a1dc1be-a8fd-4ed1-e86f-55e4870e02da"
      },
      "execution_count": 8,
      "outputs": [
        {
          "output_type": "stream",
          "name": "stdout",
          "text": [
            "log loss = 0.4774\n"
          ]
        }
      ]
    }
  ]
}