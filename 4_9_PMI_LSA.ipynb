{
  "nbformat": 4,
  "nbformat_minor": 0,
  "metadata": {
    "colab": {
      "name": "4-9.PMI_LSA.ipynb",
      "provenance": [],
      "authorship_tag": "ABX9TyPxPNEc6T0vechVJfFXI+qb",
      "include_colab_link": true
    },
    "kernelspec": {
      "name": "python3",
      "display_name": "Python 3"
    },
    "language_info": {
      "name": "python"
    }
  },
  "cells": [
    {
      "cell_type": "markdown",
      "metadata": {
        "id": "view-in-github",
        "colab_type": "text"
      },
      "source": [
        "<a href=\"https://colab.research.google.com/github/KRiver28/TIL/blob/master/4_9_PMI_LSA.ipynb\" target=\"_parent\"><img src=\"https://colab.research.google.com/assets/colab-badge.svg\" alt=\"Open In Colab\"/></a>"
      ]
    },
    {
      "cell_type": "code",
      "execution_count": 1,
      "metadata": {
        "id": "nFIcuRG8LIPz"
      },
      "outputs": [],
      "source": [
        "import pandas as pd\n",
        "import numpy as np\n",
        "from sklearn.feature_extraction.text import CountVectorizer\n",
        "from sklearn.decomposition import TruncatedSVD"
      ]
    },
    {
      "cell_type": "code",
      "source": [
        "docs = ['성진과 창욱은 야구장에 갔다',\n",
        "        '성진과 태균은 도서관에 갔다',\n",
        "        '성진과 창욱은 공부를 좋아한다']"
      ],
      "metadata": {
        "id": "FXps9y-WLPVS"
      },
      "execution_count": 2,
      "outputs": []
    },
    {
      "cell_type": "code",
      "source": [
        "# 동시발생 빈도 행렬\n",
        "count_model = CountVectorizer(ngram_range=(1,1))\n",
        "x = count_model.fit_transform(docs)\n",
        "\n",
        "word2idx = count_model.vocabulary_\n",
        "idx2word = {v:k for k, v in word2idx.items()}\n",
        "\n",
        "xc = x.T * x  # this is co-occurrence matrix in sparse csr format\n",
        "xc.setdiag(0) # sometimes you want to fill same word cooccurence to 0\n",
        "xc = xc.toarray()\n",
        "print(xc)\n",
        "idx2word"
      ],
      "metadata": {
        "colab": {
          "base_uri": "https://localhost:8080/"
        },
        "id": "cySUjtfYLPST",
        "outputId": "d5077e94-4fab-4e8b-82ee-b2621f4f41d3"
      },
      "execution_count": 3,
      "outputs": [
        {
          "output_type": "stream",
          "name": "stdout",
          "text": [
            "[[0 0 1 2 1 0 1 1]\n",
            " [0 0 0 1 0 1 1 0]\n",
            " [1 0 0 1 0 0 0 1]\n",
            " [2 1 1 0 1 1 2 1]\n",
            " [1 0 0 1 0 0 1 0]\n",
            " [0 1 0 1 0 0 1 0]\n",
            " [1 1 0 2 1 1 0 0]\n",
            " [1 0 1 1 0 0 0 0]]\n"
          ]
        },
        {
          "output_type": "execute_result",
          "data": {
            "text/plain": [
              "{0: '갔다',\n",
              " 1: '공부를',\n",
              " 2: '도서관에',\n",
              " 3: '성진과',\n",
              " 4: '야구장에',\n",
              " 5: '좋아한다',\n",
              " 6: '창욱은',\n",
              " 7: '태균은'}"
            ]
          },
          "metadata": {},
          "execution_count": 3
        }
      ]
    },
    {
      "cell_type": "code",
      "source": [
        "# 동시발생 결합확률 행렬\n",
        "xp = xc / xc.sum()\n",
        "xp"
      ],
      "metadata": {
        "colab": {
          "base_uri": "https://localhost:8080/"
        },
        "id": "LMcPJpE2LPPz",
        "outputId": "333f5770-645a-4d78-8f3a-26a788991971"
      },
      "execution_count": 4,
      "outputs": [
        {
          "output_type": "execute_result",
          "data": {
            "text/plain": [
              "array([[0.        , 0.        , 0.02777778, 0.05555556, 0.02777778,\n",
              "        0.        , 0.02777778, 0.02777778],\n",
              "       [0.        , 0.        , 0.        , 0.02777778, 0.        ,\n",
              "        0.02777778, 0.02777778, 0.        ],\n",
              "       [0.02777778, 0.        , 0.        , 0.02777778, 0.        ,\n",
              "        0.        , 0.        , 0.02777778],\n",
              "       [0.05555556, 0.02777778, 0.02777778, 0.        , 0.02777778,\n",
              "        0.02777778, 0.05555556, 0.02777778],\n",
              "       [0.02777778, 0.        , 0.        , 0.02777778, 0.        ,\n",
              "        0.        , 0.02777778, 0.        ],\n",
              "       [0.        , 0.02777778, 0.        , 0.02777778, 0.        ,\n",
              "        0.        , 0.02777778, 0.        ],\n",
              "       [0.02777778, 0.02777778, 0.        , 0.05555556, 0.02777778,\n",
              "        0.02777778, 0.        , 0.        ],\n",
              "       [0.02777778, 0.        , 0.02777778, 0.02777778, 0.        ,\n",
              "        0.        , 0.        , 0.        ]])"
            ]
          },
          "metadata": {},
          "execution_count": 4
        }
      ]
    },
    {
      "cell_type": "code",
      "source": [
        "# PMI 행렬\n",
        "# pmi = log[p(X_ij) / {p(X_i*) * p(X_*j)}]\n",
        "def calc_pmi(cm):\n",
        "    sum_col = cm.sum(axis=0)\n",
        "    sum_row = cm.sum(axis=1)\n",
        "    sum_tot = sum_col.sum()\n",
        "\n",
        "    j_prob = np.outer(sum_row, sum_col) / sum_tot\n",
        "    cm = cm / j_prob\n",
        "\n",
        "    return np.log(cm + 1e-8)\n",
        "\n",
        "pmi = calc_pmi(xp)\n",
        "pmi"
      ],
      "metadata": {
        "colab": {
          "base_uri": "https://localhost:8080/"
        },
        "id": "fKGwJfGOLPNw",
        "outputId": "6a98da19-7d47-482c-dc52-4ffae805a553"
      },
      "execution_count": 5,
      "outputs": [
        {
          "output_type": "execute_result",
          "data": {
            "text/plain": [
              "array([[-1.84206807e+01, -1.84206807e+01,  6.93147186e-01,\n",
              "         2.87682080e-01,  6.93147186e-01, -1.84206807e+01,\n",
              "         9.99999967e-09,  6.93147186e-01],\n",
              "       [-1.84206807e+01, -1.84206807e+01, -1.84206807e+01,\n",
              "         2.87682080e-01, -1.84206807e+01,  1.38629436e+00,\n",
              "         6.93147186e-01, -1.84206807e+01],\n",
              "       [ 6.93147186e-01, -1.84206807e+01, -1.84206807e+01,\n",
              "         2.87682080e-01, -1.84206807e+01, -1.84206807e+01,\n",
              "        -1.84206807e+01,  1.38629436e+00],\n",
              "       [ 2.87682080e-01,  2.87682080e-01,  2.87682080e-01,\n",
              "        -1.84206807e+01,  2.87682080e-01,  2.87682080e-01,\n",
              "         2.87682080e-01,  2.87682080e-01],\n",
              "       [ 6.93147186e-01, -1.84206807e+01, -1.84206807e+01,\n",
              "         2.87682080e-01, -1.84206807e+01, -1.84206807e+01,\n",
              "         6.93147186e-01, -1.84206807e+01],\n",
              "       [-1.84206807e+01,  1.38629436e+00, -1.84206807e+01,\n",
              "         2.87682080e-01, -1.84206807e+01, -1.84206807e+01,\n",
              "         6.93147186e-01, -1.84206807e+01],\n",
              "       [ 9.99999967e-09,  6.93147186e-01, -1.84206807e+01,\n",
              "         2.87682080e-01,  6.93147186e-01,  6.93147186e-01,\n",
              "        -1.84206807e+01, -1.84206807e+01],\n",
              "       [ 6.93147186e-01, -1.84206807e+01,  1.38629436e+00,\n",
              "         2.87682080e-01, -1.84206807e+01, -1.84206807e+01,\n",
              "        -1.84206807e+01, -1.84206807e+01]])"
            ]
          },
          "metadata": {},
          "execution_count": 5
        }
      ]
    },
    {
      "cell_type": "code",
      "source": [
        "ppmi = pmi.copy()\n",
        "ppmi[ppmi < 0] = 0.0\n",
        "ppmi"
      ],
      "metadata": {
        "colab": {
          "base_uri": "https://localhost:8080/"
        },
        "id": "Ypr_AycgLPLv",
        "outputId": "a1331a45-a658-40ee-ccb4-192eb663efdc"
      },
      "execution_count": 6,
      "outputs": [
        {
          "output_type": "execute_result",
          "data": {
            "text/plain": [
              "array([[0.00000000e+00, 0.00000000e+00, 6.93147186e-01, 2.87682080e-01,\n",
              "        6.93147186e-01, 0.00000000e+00, 9.99999967e-09, 6.93147186e-01],\n",
              "       [0.00000000e+00, 0.00000000e+00, 0.00000000e+00, 2.87682080e-01,\n",
              "        0.00000000e+00, 1.38629436e+00, 6.93147186e-01, 0.00000000e+00],\n",
              "       [6.93147186e-01, 0.00000000e+00, 0.00000000e+00, 2.87682080e-01,\n",
              "        0.00000000e+00, 0.00000000e+00, 0.00000000e+00, 1.38629436e+00],\n",
              "       [2.87682080e-01, 2.87682080e-01, 2.87682080e-01, 0.00000000e+00,\n",
              "        2.87682080e-01, 2.87682080e-01, 2.87682080e-01, 2.87682080e-01],\n",
              "       [6.93147186e-01, 0.00000000e+00, 0.00000000e+00, 2.87682080e-01,\n",
              "        0.00000000e+00, 0.00000000e+00, 6.93147186e-01, 0.00000000e+00],\n",
              "       [0.00000000e+00, 1.38629436e+00, 0.00000000e+00, 2.87682080e-01,\n",
              "        0.00000000e+00, 0.00000000e+00, 6.93147186e-01, 0.00000000e+00],\n",
              "       [9.99999967e-09, 6.93147186e-01, 0.00000000e+00, 2.87682080e-01,\n",
              "        6.93147186e-01, 6.93147186e-01, 0.00000000e+00, 0.00000000e+00],\n",
              "       [6.93147186e-01, 0.00000000e+00, 1.38629436e+00, 2.87682080e-01,\n",
              "        0.00000000e+00, 0.00000000e+00, 0.00000000e+00, 0.00000000e+00]])"
            ]
          },
          "metadata": {},
          "execution_count": 6
        }
      ]
    },
    {
      "cell_type": "code",
      "source": [
        "# PMI matrix를 SVD로 분해한다.\n",
        "# C = U.S.VT\n",
        "# sklearn을 이용한 SVD 예시\n",
        "\n",
        "# 특이값 (S)이 큰 4개를 주 성분으로 C의 차원을 축소한다.\n",
        "svd = TruncatedSVD(n_components=4)\n",
        "D = svd.fit_transform(pmi)\n",
        "\n",
        "U = D / svd.singular_values_\n",
        "S = np.diag(svd.singular_values_)\n",
        "VT = svd.components_"
      ],
      "metadata": {
        "id": "0H3UXIVALPJI"
      },
      "execution_count": 7,
      "outputs": []
    },
    {
      "cell_type": "code",
      "source": [
        "print(\"\\nU, S, VT :\")\n",
        "print(np.round(U, 2), '\\n')\n",
        "print(np.round(S, 2), '\\n')\n",
        "print(np.round(VT, 2), '\\n')\n",
        "\n",
        "print(\"C를 4개 차원으로 축소 : truncated (U * S)\")\n",
        "print(np.round(D, 2))\n",
        "\n",
        "idx2word"
      ],
      "metadata": {
        "colab": {
          "base_uri": "https://localhost:8080/"
        },
        "id": "NUPpJwZGLPFQ",
        "outputId": "5861b15d-f8af-4621-c0ae-0a77b688791f"
      },
      "execution_count": 8,
      "outputs": [
        {
          "output_type": "stream",
          "name": "stdout",
          "text": [
            "\n",
            "U, S, VT :\n",
            "[[ 0.22 -0.33 -0.63  0.  ]\n",
            " [ 0.41  0.44 -0.23  0.6 ]\n",
            " [ 0.41 -0.44  0.23 -0.37]\n",
            " [-0.01  0.   -0.    0.  ]\n",
            " [ 0.46 -0.   -0.    0.  ]\n",
            " [ 0.41  0.44 -0.23 -0.6 ]\n",
            " [ 0.22  0.33  0.63 -0.  ]\n",
            " [ 0.41 -0.44  0.23  0.37]] \n",
            "\n",
            "[[83.83  0.    0.    0.  ]\n",
            " [ 0.   33.8   0.    0.  ]\n",
            " [ 0.    0.   32.41  0.  ]\n",
            " [ 0.    0.    0.   19.81]] \n",
            "\n",
            "[[-0.22 -0.41 -0.41  0.01 -0.46 -0.41 -0.22 -0.41]\n",
            " [-0.33  0.44 -0.44 -0.    0.    0.44  0.33 -0.44]\n",
            " [ 0.63  0.23 -0.23  0.    0.    0.23 -0.63 -0.23]\n",
            " [ 0.   -0.6   0.37 -0.   -0.    0.6   0.   -0.37]] \n",
            "\n",
            "C를 4개 차원으로 축소 : truncated (U * S)\n",
            "[[ 18.45 -10.99 -20.35   0.  ]\n",
            " [ 34.79  15.01  -7.45  11.96]\n",
            " [ 34.79 -15.01   7.45  -7.28]\n",
            " [ -0.94   0.    -0.     0.  ]\n",
            " [ 38.8   -0.    -0.     0.  ]\n",
            " [ 34.79  15.01  -7.45 -11.96]\n",
            " [ 18.45  10.99  20.35  -0.  ]\n",
            " [ 34.79 -15.01   7.45   7.28]]\n"
          ]
        },
        {
          "output_type": "execute_result",
          "data": {
            "text/plain": [
              "{0: '갔다',\n",
              " 1: '공부를',\n",
              " 2: '도서관에',\n",
              " 3: '성진과',\n",
              " 4: '야구장에',\n",
              " 5: '좋아한다',\n",
              " 6: '창욱은',\n",
              " 7: '태균은'}"
            ]
          },
          "metadata": {},
          "execution_count": 8
        }
      ]
    },
    {
      "cell_type": "code",
      "source": [
        ""
      ],
      "metadata": {
        "id": "MKDCHbaPLPDD"
      },
      "execution_count": 8,
      "outputs": []
    },
    {
      "cell_type": "code",
      "source": [
        ""
      ],
      "metadata": {
        "id": "nLHoRksBLPAl"
      },
      "execution_count": 8,
      "outputs": []
    },
    {
      "cell_type": "code",
      "source": [
        ""
      ],
      "metadata": {
        "id": "1_WbkrfKLO-K"
      },
      "execution_count": 8,
      "outputs": []
    },
    {
      "cell_type": "code",
      "source": [
        ""
      ],
      "metadata": {
        "id": "2WKNfnlpLO8B"
      },
      "execution_count": 8,
      "outputs": []
    }
  ]
}