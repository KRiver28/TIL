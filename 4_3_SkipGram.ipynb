{
  "nbformat": 4,
  "nbformat_minor": 0,
  "metadata": {
    "colab": {
      "name": "4-3.SkipGram.ipynb",
      "provenance": [],
      "collapsed_sections": [],
      "authorship_tag": "ABX9TyMMxLJIZztML9dQYTMmj+6A",
      "include_colab_link": true
    },
    "kernelspec": {
      "name": "python3",
      "display_name": "Python 3"
    },
    "language_info": {
      "name": "python"
    }
  },
  "cells": [
    {
      "cell_type": "markdown",
      "metadata": {
        "id": "view-in-github",
        "colab_type": "text"
      },
      "source": [
        "<a href=\"https://colab.research.google.com/github/KRiver28/TIL/blob/master/4_3_SkipGram.ipynb\" target=\"_parent\"><img src=\"https://colab.research.google.com/assets/colab-badge.svg\" alt=\"Open In Colab\"/></a>"
      ]
    },
    {
      "cell_type": "code",
      "execution_count": 1,
      "metadata": {
        "colab": {
          "base_uri": "https://localhost:8080/"
        },
        "id": "Q1TtHXTLlWkb",
        "outputId": "06e1ceac-de32-4dcc-9b87-6313c577c59a"
      },
      "outputs": [
        {
          "output_type": "stream",
          "name": "stdout",
          "text": [
            "[nltk_data] Downloading package punkt to /root/nltk_data...\n",
            "[nltk_data]   Unzipping tokenizers/punkt.zip.\n",
            "[nltk_data] Downloading package gutenberg to /root/nltk_data...\n",
            "[nltk_data]   Unzipping corpora/gutenberg.zip.\n",
            "[nltk_data] Downloading package stopwords to /root/nltk_data...\n",
            "[nltk_data]   Unzipping corpora/stopwords.zip.\n"
          ]
        },
        {
          "output_type": "execute_result",
          "data": {
            "text/plain": [
              "True"
            ]
          },
          "metadata": {},
          "execution_count": 1
        }
      ],
      "source": [
        "import numpy as np\n",
        "import nltk\n",
        "from tensorflow.keras.preprocessing.text import Tokenizer\n",
        "from nltk.stem import LancasterStemmer\n",
        "from tensorflow.keras.layers import Input, Embedding, Dense\n",
        "from tensorflow.keras.models import Model\n",
        "from sklearn.metrics.pairwise import cosine_similarity\n",
        "\n",
        "nltk.download('punkt')\n",
        "nltk.download('gutenberg')\n",
        "nltk.download('stopwords')\n",
        "\n"
      ]
    },
    {
      "cell_type": "code",
      "source": [
        "# 영문 소설 18개를 읽어와서 전처리를 수행한다.\n",
        "n = 18\n",
        "stemmer = LancasterStemmer()\n",
        "stopwords = nltk.corpus.stopwords.words('english')\n",
        "stopwords.extend(['and', 'but', 'the', 'for', 'would', 'shall'])\n",
        "\n",
        "sent_stem = []\n",
        "files = nltk.corpus.gutenberg.fileids()\n",
        "for i, text_id in enumerate(files[:n]):\n",
        "    text = nltk.corpus.gutenberg.raw(text_id)\n",
        "    sentences = nltk.sent_tokenize(text)\n",
        "\n",
        "    # 각 단어에 Lancaster stemmer를 적용한다.\n",
        "    for sentence in sentences:\n",
        "        word_tok = nltk.word_tokenize(sentence)\n",
        "        stem = [stemmer.stem(word) for word in word_tok if word not in stopwords if len(word) > 2]\n",
        "        sent_stem.append(stem)\n",
        "    print('{}: {} ----- processed.'.format(i+1, text_id))\n",
        "\n",
        "print(\"\\n총 문장 개수 =\", len(sent_stem))"
      ],
      "metadata": {
        "colab": {
          "base_uri": "https://localhost:8080/"
        },
        "id": "pzoPe69zlpHF",
        "outputId": "6c980b81-a744-49eb-d6a6-d34ba8d2bbc3"
      },
      "execution_count": 2,
      "outputs": [
        {
          "output_type": "stream",
          "name": "stdout",
          "text": [
            "1: austen-emma.txt ----- processed.\n",
            "2: austen-persuasion.txt ----- processed.\n",
            "3: austen-sense.txt ----- processed.\n",
            "4: bible-kjv.txt ----- processed.\n",
            "5: blake-poems.txt ----- processed.\n",
            "6: bryant-stories.txt ----- processed.\n",
            "7: burgess-busterbrown.txt ----- processed.\n",
            "8: carroll-alice.txt ----- processed.\n",
            "9: chesterton-ball.txt ----- processed.\n",
            "10: chesterton-brown.txt ----- processed.\n",
            "11: chesterton-thursday.txt ----- processed.\n",
            "12: edgeworth-parents.txt ----- processed.\n",
            "13: melville-moby_dick.txt ----- processed.\n",
            "14: milton-paradise.txt ----- processed.\n",
            "15: shakespeare-caesar.txt ----- processed.\n",
            "16: shakespeare-hamlet.txt ----- processed.\n",
            "17: shakespeare-macbeth.txt ----- processed.\n",
            "18: whitman-leaves.txt ----- processed.\n"
          ]
        }
      ]
    },
    {
      "cell_type": "code",
      "source": [
        "\n",
        "print(sent_stem[0])\n",
        "\n",
        "# 단어사전\n",
        "tokenizer = Tokenizer()\n",
        "tokenizer.fit_on_texts(sent_stem)\n",
        "\n",
        "# 단어사전\n",
        "word2idx = tokenizer.word_index\n",
        "word2idx['<PAD>'] = 0\n",
        "idx2word = {v:k for k, v in word2idx.items()}\n",
        "\n",
        "print(\"사전 크기 =\", len(word2idx))\n",
        "\n"
      ],
      "metadata": {
        "colab": {
          "base_uri": "https://localhost:8080/"
        },
        "id": "TA40fq0ClpFJ",
        "outputId": "06fda11a-9b4f-44be-ce20-49f4412d0dbe"
      },
      "execution_count": 3,
      "outputs": [
        {
          "output_type": "stream",
          "name": "stdout",
          "text": [
            "\n",
            "총 문장 개수 = 94434\n",
            "['emm', 'jan', 'aust', '1816', 'volum', 'chapt', 'emm', 'woodh', 'handsom', 'clev', 'rich', 'comfort', 'hom', 'happy', 'disposit', 'seem', 'unit', 'best', 'bless', 'ex', 'liv', 'near', 'twenty-one', 'year', 'world', 'littl', 'distress', 'vex']\n",
            "사전 크기 = 32545\n"
          ]
        }
      ]
    },
    {
      "cell_type": "code",
      "source": [
        "# 문장을 단어의 인덱스로 표현\n",
        "sent_idx = tokenizer.texts_to_sequences(sent_stem)\n",
        "print(sent_idx[0])\n",
        "\n",
        "\n"
      ],
      "metadata": {
        "colab": {
          "base_uri": "https://localhost:8080/"
        },
        "id": "P6qhxRoGlpDD",
        "outputId": "02d06736-d302-4bea-dd16-4d4bb7698493"
      },
      "execution_count": 4,
      "outputs": [
        {
          "output_type": "stream",
          "name": "stdout",
          "text": [
            "[230, 672, 4127, 18041, 3176, 590, 230, 650, 1282, 1824, 533, 417, 273, 216, 1994, 76, 1936, 340, 286, 1609, 102, 222, 18042, 85, 124, 31, 1102, 1571]\n"
          ]
        }
      ]
    },
    {
      "cell_type": "code",
      "source": [
        "# trigram\n",
        "x_train = []\n",
        "y_train = []\n",
        "for sent in sent_idx:\n",
        "    if len(sent) < 3:\n",
        "        continue\n",
        "\n",
        "    for a, b, c in nltk.trigrams(sent):\n",
        "        x_train.append(b)\n",
        "        x_train.append(b)\n",
        "\n",
        "        y_train.append(a)\n",
        "        y_train.append(c)\n",
        "\n",
        "x_train = np.array(x_train).reshape(-1, 1)\n",
        "y_train = np.array(y_train).reshape(-1, 1)\n",
        "\n",
        "x_train.shape, y_train.shape\n",
        "\n"
      ],
      "metadata": {
        "colab": {
          "base_uri": "https://localhost:8080/"
        },
        "id": "Oj-g55xplpAX",
        "outputId": "2ed478f4-ea02-493c-dcef-9954a04a9ecd"
      },
      "execution_count": 5,
      "outputs": [
        {
          "output_type": "execute_result",
          "data": {
            "text/plain": [
              "((1803640, 1), (1803640, 1))"
            ]
          },
          "metadata": {},
          "execution_count": 5
        }
      ]
    },
    {
      "cell_type": "code",
      "source": [
        "VOC_SIZE = len(word2idx)\n",
        "EMB_SIZE = 32\n",
        "\n",
        "x_input = Input(batch_shape=(None, 1))\n",
        "x_emb = Embedding(VOC_SIZE, EMB_SIZE, name='emb')(x_input)\n",
        "y_output = Dense(VOC_SIZE, activation='softmax')(x_emb)\n",
        "\n",
        "model = Model(x_input, y_output)\n",
        "model.compile(loss = 'sparse_categorical_crossentropy', optimizer='adam')\n",
        "model.summary()\n",
        "\n"
      ],
      "metadata": {
        "colab": {
          "base_uri": "https://localhost:8080/"
        },
        "id": "fD0yeKuilo-H",
        "outputId": "948a06e1-5a8f-4b22-d494-917282d1f589"
      },
      "execution_count": 6,
      "outputs": [
        {
          "output_type": "stream",
          "name": "stdout",
          "text": [
            "Model: \"model\"\n",
            "_________________________________________________________________\n",
            " Layer (type)                Output Shape              Param #   \n",
            "=================================================================\n",
            " input_1 (InputLayer)        [(None, 1)]               0         \n",
            "                                                                 \n",
            " emb (Embedding)             (None, 1, 32)             1041440   \n",
            "                                                                 \n",
            " dense (Dense)               (None, 1, 32545)          1073985   \n",
            "                                                                 \n",
            "=================================================================\n",
            "Total params: 2,115,425\n",
            "Trainable params: 2,115,425\n",
            "Non-trainable params: 0\n",
            "_________________________________________________________________\n"
          ]
        }
      ]
    },
    {
      "cell_type": "code",
      "source": [
        "# word --> word2vec을 확인하기 위한 모델\n",
        "model_vec = Model(x_input, x_emb)\n",
        "\n",
        "hist = model.fit(x_train, y_train, batch_size=20480, epochs=1)\n",
        "\n",
        "def get_word2vec(word):\n",
        "    stem_word = stemmer.stem(word)\n",
        "    if stem_word not in word2idx:\n",
        "        print('{}가 없습니다.'.format(word))\n",
        "        return\n",
        "    \n",
        "    word2vec = model_vec.predict(np.array(word2idx[stem_word]).reshape(1,1))[0]\n",
        "    return word2vec\n",
        "\n",
        "father = get_word2vec('father')\n",
        "mother = get_word2vec('mother')\n",
        "doctor = get_word2vec('doctor')\n",
        "\n",
        "print(father)"
      ],
      "metadata": {
        "colab": {
          "base_uri": "https://localhost:8080/"
        },
        "id": "ZEyrIDuLlo7l",
        "outputId": "573056a2-b79c-466b-9c96-4299b46ace6a"
      },
      "execution_count": 7,
      "outputs": [
        {
          "output_type": "stream",
          "name": "stdout",
          "text": [
            "89/89 [==============================] - 929s 10s/step - loss: 10.2873\n",
            "[[ 0.0909197  -0.12548807 -0.11431485  0.06552037  0.08031896  0.13675728\n",
            "   0.02713436 -0.14954732 -0.05106077  0.13438621  0.15274641  0.03300475\n",
            "   0.11309329 -0.08551504  0.10699259  0.08310793  0.09637001  0.13093862\n",
            "   0.02425188 -0.11366688  0.14589398 -0.1333618   0.08550425 -0.14546725\n",
            "   0.1128624   0.07133862  0.06594066 -0.0949729  -0.06686586  0.14967717\n",
            "  -0.10749793  0.14268425]]\n"
          ]
        }
      ]
    },
    {
      "cell_type": "code",
      "source": [
        "cosine_similarity(father, mother)\n",
        "\n",
        "cosine_similarity(father, doctor)\n",
        "\n",
        "W = model.get_layer('emb').get_weights()[0]\n",
        "W.shape"
      ],
      "metadata": {
        "colab": {
          "base_uri": "https://localhost:8080/"
        },
        "id": "6mzP017kl1aw",
        "outputId": "21c5bcac-084c-4c21-956a-d3cd965cce8c"
      },
      "execution_count": 8,
      "outputs": [
        {
          "output_type": "execute_result",
          "data": {
            "text/plain": [
              "(32545, 32)"
            ]
          },
          "metadata": {},
          "execution_count": 8
        }
      ]
    }
  ]
}