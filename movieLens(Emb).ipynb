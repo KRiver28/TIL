{
  "nbformat": 4,
  "nbformat_minor": 0,
  "metadata": {
    "colab": {
      "name": "movieLens(Emb).ipynb",
      "provenance": [],
      "collapsed_sections": [],
      "authorship_tag": "ABX9TyPtypipS0j3GtYlP2RZpMeP",
      "include_colab_link": true
    },
    "kernelspec": {
      "name": "python3",
      "display_name": "Python 3"
    },
    "language_info": {
      "name": "python"
    }
  },
  "cells": [
    {
      "cell_type": "markdown",
      "metadata": {
        "id": "view-in-github",
        "colab_type": "text"
      },
      "source": [
        "<a href=\"https://colab.research.google.com/github/KRiver28/TIL/blob/master/movieLens(Emb).ipynb\" target=\"_parent\"><img src=\"https://colab.research.google.com/assets/colab-badge.svg\" alt=\"Open In Colab\"/></a>"
      ]
    },
    {
      "cell_type": "code",
      "execution_count": 20,
      "metadata": {
        "id": "42WHWkDls3h_"
      },
      "outputs": [],
      "source": [
        "# 영화 추천시스템 (Movie Recommendation System)\n",
        "# 행렬 분해를 이용한 잠재 요인 협업 필터링 사용\n",
        "# Keras Embedding layer를 적용한다.\n",
        "import pandas as pd\n",
        "import numpy as np\n",
        "from sklearn.metrics import mean_squared_error\n",
        "from tensorflow.keras.layers import Input, Dense, Dropout, Embedding\n",
        "from tensorflow.keras.layers import Flatten, Dot, Activation\n",
        "from tensorflow.keras.models import Model\n",
        "from tensorflow.keras.optimizers import Adam\n",
        "from sklearn.model_selection import train_test_split\n",
        "import matplotlib.pyplot as plt\n",
        "from sklearn.preprocessing import LabelEncoder\n",
        "\n"
      ]
    },
    {
      "cell_type": "code",
      "source": [
        "\n",
        "# 학습 데이터를 읽어온다.\n",
        "DATA_PATH = '/content/'\n",
        "movies = pd.read_csv(DATA_PATH + 'movies.csv')\n",
        "ratings = pd.read_csv(DATA_PATH + 'ratings.csv')\n",
        "\n",
        "df = pd.merge(ratings, movies, on='movieId')[['userId', 'movieId', 'rating', 'title']]\n"
      ],
      "metadata": {
        "id": "7k3qL_Kq0s5O"
      },
      "execution_count": 21,
      "outputs": []
    },
    {
      "cell_type": "code",
      "source": [
        "\n",
        "# userId와 movieId가 중간에 빈 값이 많으므로 순차적인 id를 다시 부여한다.\n",
        "user_enc = LabelEncoder()\n",
        "item_enc = LabelEncoder()\n",
        "\n",
        "df['userId'] = user_enc.fit_transform(df['userId'])\n",
        "df['movieId'] = item_enc.fit_transform(df['movieId'])\n",
        "df['rating'] /= 5.0   # 0.5 ~ 5.0 --> 0.1 ~ 1.0으로 표준화.\n",
        "df.head()\n"
      ],
      "metadata": {
        "colab": {
          "base_uri": "https://localhost:8080/",
          "height": 206
        },
        "id": "SQbN0vfQ0sza",
        "outputId": "a1c7fb17-8ebf-4161-e85b-3b7addaa6d1e"
      },
      "execution_count": 22,
      "outputs": [
        {
          "output_type": "execute_result",
          "data": {
            "text/html": [
              "\n",
              "  <div id=\"df-8d3b7959-fd09-47cd-92bb-e216cb7ae700\">\n",
              "    <div class=\"colab-df-container\">\n",
              "      <div>\n",
              "<style scoped>\n",
              "    .dataframe tbody tr th:only-of-type {\n",
              "        vertical-align: middle;\n",
              "    }\n",
              "\n",
              "    .dataframe tbody tr th {\n",
              "        vertical-align: top;\n",
              "    }\n",
              "\n",
              "    .dataframe thead th {\n",
              "        text-align: right;\n",
              "    }\n",
              "</style>\n",
              "<table border=\"1\" class=\"dataframe\">\n",
              "  <thead>\n",
              "    <tr style=\"text-align: right;\">\n",
              "      <th></th>\n",
              "      <th>userId</th>\n",
              "      <th>movieId</th>\n",
              "      <th>rating</th>\n",
              "      <th>title</th>\n",
              "    </tr>\n",
              "  </thead>\n",
              "  <tbody>\n",
              "    <tr>\n",
              "      <th>0</th>\n",
              "      <td>0</td>\n",
              "      <td>0</td>\n",
              "      <td>0.8</td>\n",
              "      <td>Toy Story (1995)</td>\n",
              "    </tr>\n",
              "    <tr>\n",
              "      <th>1</th>\n",
              "      <td>4</td>\n",
              "      <td>0</td>\n",
              "      <td>0.8</td>\n",
              "      <td>Toy Story (1995)</td>\n",
              "    </tr>\n",
              "    <tr>\n",
              "      <th>2</th>\n",
              "      <td>6</td>\n",
              "      <td>0</td>\n",
              "      <td>0.9</td>\n",
              "      <td>Toy Story (1995)</td>\n",
              "    </tr>\n",
              "    <tr>\n",
              "      <th>3</th>\n",
              "      <td>14</td>\n",
              "      <td>0</td>\n",
              "      <td>0.5</td>\n",
              "      <td>Toy Story (1995)</td>\n",
              "    </tr>\n",
              "    <tr>\n",
              "      <th>4</th>\n",
              "      <td>16</td>\n",
              "      <td>0</td>\n",
              "      <td>0.9</td>\n",
              "      <td>Toy Story (1995)</td>\n",
              "    </tr>\n",
              "  </tbody>\n",
              "</table>\n",
              "</div>\n",
              "      <button class=\"colab-df-convert\" onclick=\"convertToInteractive('df-8d3b7959-fd09-47cd-92bb-e216cb7ae700')\"\n",
              "              title=\"Convert this dataframe to an interactive table.\"\n",
              "              style=\"display:none;\">\n",
              "        \n",
              "  <svg xmlns=\"http://www.w3.org/2000/svg\" height=\"24px\"viewBox=\"0 0 24 24\"\n",
              "       width=\"24px\">\n",
              "    <path d=\"M0 0h24v24H0V0z\" fill=\"none\"/>\n",
              "    <path d=\"M18.56 5.44l.94 2.06.94-2.06 2.06-.94-2.06-.94-.94-2.06-.94 2.06-2.06.94zm-11 1L8.5 8.5l.94-2.06 2.06-.94-2.06-.94L8.5 2.5l-.94 2.06-2.06.94zm10 10l.94 2.06.94-2.06 2.06-.94-2.06-.94-.94-2.06-.94 2.06-2.06.94z\"/><path d=\"M17.41 7.96l-1.37-1.37c-.4-.4-.92-.59-1.43-.59-.52 0-1.04.2-1.43.59L10.3 9.45l-7.72 7.72c-.78.78-.78 2.05 0 2.83L4 21.41c.39.39.9.59 1.41.59.51 0 1.02-.2 1.41-.59l7.78-7.78 2.81-2.81c.8-.78.8-2.07 0-2.86zM5.41 20L4 18.59l7.72-7.72 1.47 1.35L5.41 20z\"/>\n",
              "  </svg>\n",
              "      </button>\n",
              "      \n",
              "  <style>\n",
              "    .colab-df-container {\n",
              "      display:flex;\n",
              "      flex-wrap:wrap;\n",
              "      gap: 12px;\n",
              "    }\n",
              "\n",
              "    .colab-df-convert {\n",
              "      background-color: #E8F0FE;\n",
              "      border: none;\n",
              "      border-radius: 50%;\n",
              "      cursor: pointer;\n",
              "      display: none;\n",
              "      fill: #1967D2;\n",
              "      height: 32px;\n",
              "      padding: 0 0 0 0;\n",
              "      width: 32px;\n",
              "    }\n",
              "\n",
              "    .colab-df-convert:hover {\n",
              "      background-color: #E2EBFA;\n",
              "      box-shadow: 0px 1px 2px rgba(60, 64, 67, 0.3), 0px 1px 3px 1px rgba(60, 64, 67, 0.15);\n",
              "      fill: #174EA6;\n",
              "    }\n",
              "\n",
              "    [theme=dark] .colab-df-convert {\n",
              "      background-color: #3B4455;\n",
              "      fill: #D2E3FC;\n",
              "    }\n",
              "\n",
              "    [theme=dark] .colab-df-convert:hover {\n",
              "      background-color: #434B5C;\n",
              "      box-shadow: 0px 1px 3px 1px rgba(0, 0, 0, 0.15);\n",
              "      filter: drop-shadow(0px 1px 2px rgba(0, 0, 0, 0.3));\n",
              "      fill: #FFFFFF;\n",
              "    }\n",
              "  </style>\n",
              "\n",
              "      <script>\n",
              "        const buttonEl =\n",
              "          document.querySelector('#df-8d3b7959-fd09-47cd-92bb-e216cb7ae700 button.colab-df-convert');\n",
              "        buttonEl.style.display =\n",
              "          google.colab.kernel.accessAllowed ? 'block' : 'none';\n",
              "\n",
              "        async function convertToInteractive(key) {\n",
              "          const element = document.querySelector('#df-8d3b7959-fd09-47cd-92bb-e216cb7ae700');\n",
              "          const dataTable =\n",
              "            await google.colab.kernel.invokeFunction('convertToInteractive',\n",
              "                                                     [key], {});\n",
              "          if (!dataTable) return;\n",
              "\n",
              "          const docLinkHtml = 'Like what you see? Visit the ' +\n",
              "            '<a target=\"_blank\" href=https://colab.research.google.com/notebooks/data_table.ipynb>data table notebook</a>'\n",
              "            + ' to learn more about interactive tables.';\n",
              "          element.innerHTML = '';\n",
              "          dataTable['output_type'] = 'display_data';\n",
              "          await google.colab.output.renderOutput(dataTable, element);\n",
              "          const docLink = document.createElement('div');\n",
              "          docLink.innerHTML = docLinkHtml;\n",
              "          element.appendChild(docLink);\n",
              "        }\n",
              "      </script>\n",
              "    </div>\n",
              "  </div>\n",
              "  "
            ],
            "text/plain": [
              "   userId  movieId  rating             title\n",
              "0       0        0     0.8  Toy Story (1995)\n",
              "1       4        0     0.8  Toy Story (1995)\n",
              "2       6        0     0.9  Toy Story (1995)\n",
              "3      14        0     0.5  Toy Story (1995)\n",
              "4      16        0     0.9  Toy Story (1995)"
            ]
          },
          "metadata": {},
          "execution_count": 22
        }
      ]
    },
    {
      "cell_type": "code",
      "source": [
        "# number of users and items\n",
        "n_users = df['userId'].max() + 1\n",
        "n_items = df['movieId'].max() + 1\n",
        "n_factors = 50\n",
        "\n",
        "# 학습 데이터와 시험 데이터로 분리\n",
        "d_train, d_test = train_test_split(df, test_size = 0.1)\n",
        "\n",
        "# 학습 데이터 세트를 생성한다.\n",
        "x_user_train = np.array(d_train['userId']).reshape(-1, 1)\n",
        "x_item_train = np.array(d_train['movieId']).reshape(-1, 1)\n",
        "y_rating_train = np.array(d_train['rating']).reshape(-1, 1)\n",
        "\n",
        "# 시험 데이터 세트를 생성한다.\n",
        "x_user_test = np.array(d_test['userId']).reshape(-1, 1)\n",
        "x_item_test = np.array(d_test['movieId']).reshape(-1, 1)\n",
        "y_rating_test = np.array(d_test['rating']).reshape(-1, 1)\n",
        "\n",
        "x_input_user = Input(batch_shape = (None, x_user_train.shape[1]))\n",
        "x_input_item = Input(batch_shape = (None, x_item_train.shape[1]))\n",
        "\n",
        "x_user_emb = Embedding(input_dim = n_users, output_dim = n_factors)(x_input_user)\n",
        "x_user_emb = Dropout(rate=0.5)(x_user_emb)\n",
        "x_user_emb = Flatten()(x_user_emb)\n",
        "\n",
        "x_item_emb = Embedding(input_dim = n_items, output_dim = n_factors)(x_input_item)\n",
        "x_item_emb = Dropout(rate=0.5)(x_item_emb)\n",
        "x_item_emb = Flatten()(x_item_emb)\n",
        "\n",
        "y_output = Dot(axes=1)([x_user_emb, x_item_emb])\n",
        "y_output=Activation('hard_sigmoid')(y_output)\n",
        "\n",
        "model = Model([x_input_user, x_input_item], y_output)\n",
        "model.compile(loss='mean_squared_error', optimizer = Adam(learning_rate=0.001))\n",
        "model.summary()\n"
      ],
      "metadata": {
        "colab": {
          "base_uri": "https://localhost:8080/"
        },
        "id": "BIiJM8Mt00YL",
        "outputId": "63b1a9f9-8da7-4986-f565-0596652b0ef6"
      },
      "execution_count": 23,
      "outputs": [
        {
          "output_type": "stream",
          "name": "stdout",
          "text": [
            "Model: \"model_3\"\n",
            "__________________________________________________________________________________________________\n",
            " Layer (type)                   Output Shape         Param #     Connected to                     \n",
            "==================================================================================================\n",
            " input_9 (InputLayer)           [(None, 1)]          0           []                               \n",
            "                                                                                                  \n",
            " input_10 (InputLayer)          [(None, 1)]          0           []                               \n",
            "                                                                                                  \n",
            " embedding_8 (Embedding)        (None, 1, 50)        30500       ['input_9[0][0]']                \n",
            "                                                                                                  \n",
            " embedding_9 (Embedding)        (None, 1, 50)        486200      ['input_10[0][0]']               \n",
            "                                                                                                  \n",
            " dropout (Dropout)              (None, 1, 50)        0           ['embedding_8[0][0]']            \n",
            "                                                                                                  \n",
            " dropout_1 (Dropout)            (None, 1, 50)        0           ['embedding_9[0][0]']            \n",
            "                                                                                                  \n",
            " flatten_1 (Flatten)            (None, 50)           0           ['dropout[0][0]']                \n",
            "                                                                                                  \n",
            " flatten_2 (Flatten)            (None, 50)           0           ['dropout_1[0][0]']              \n",
            "                                                                                                  \n",
            " dot_4 (Dot)                    (None, 1)            0           ['flatten_1[0][0]',              \n",
            "                                                                  'flatten_2[0][0]']              \n",
            "                                                                                                  \n",
            " activation_1 (Activation)      (None, 1)            0           ['dot_4[0][0]']                  \n",
            "                                                                                                  \n",
            "==================================================================================================\n",
            "Total params: 516,700\n",
            "Trainable params: 516,700\n",
            "Non-trainable params: 0\n",
            "__________________________________________________________________________________________________\n"
          ]
        }
      ]
    },
    {
      "cell_type": "code",
      "source": [
        "# 학습\n",
        "hist = model.fit([x_user_train, x_item_train], y_rating_train, \n",
        "                 batch_size=1024, \n",
        "                 epochs = 30,\n",
        "                 validation_data=([x_user_test, x_item_test], y_rating_test))\n",
        "\n"
      ],
      "metadata": {
        "colab": {
          "base_uri": "https://localhost:8080/"
        },
        "id": "CcDKNKBc00Vj",
        "outputId": "5f3d0c63-65de-466c-d170-60783bd78b38"
      },
      "execution_count": 24,
      "outputs": [
        {
          "output_type": "stream",
          "name": "stdout",
          "text": [
            "Epoch 1/30\n",
            "89/89 [==============================] - 2s 16ms/step - loss: 0.0836 - val_loss: 0.0832\n",
            "Epoch 2/30\n",
            "89/89 [==============================] - 1s 15ms/step - loss: 0.0834 - val_loss: 0.0830\n",
            "Epoch 3/30\n",
            "89/89 [==============================] - 1s 15ms/step - loss: 0.0824 - val_loss: 0.0813\n",
            "Epoch 4/30\n",
            "89/89 [==============================] - 1s 14ms/step - loss: 0.0780 - val_loss: 0.0743\n",
            "Epoch 5/30\n",
            "89/89 [==============================] - 1s 15ms/step - loss: 0.0670 - val_loss: 0.0605\n",
            "Epoch 6/30\n",
            "89/89 [==============================] - 1s 14ms/step - loss: 0.0532 - val_loss: 0.0484\n",
            "Epoch 7/30\n",
            "89/89 [==============================] - 1s 15ms/step - loss: 0.0442 - val_loss: 0.0420\n",
            "Epoch 8/30\n",
            "89/89 [==============================] - 1s 15ms/step - loss: 0.0397 - val_loss: 0.0387\n",
            "Epoch 9/30\n",
            "89/89 [==============================] - 1s 12ms/step - loss: 0.0371 - val_loss: 0.0368\n",
            "Epoch 10/30\n",
            "89/89 [==============================] - 1s 14ms/step - loss: 0.0349 - val_loss: 0.0356\n",
            "Epoch 11/30\n",
            "89/89 [==============================] - 1s 11ms/step - loss: 0.0337 - val_loss: 0.0347\n",
            "Epoch 12/30\n",
            "89/89 [==============================] - 1s 11ms/step - loss: 0.0325 - val_loss: 0.0341\n",
            "Epoch 13/30\n",
            "89/89 [==============================] - 1s 14ms/step - loss: 0.0316 - val_loss: 0.0335\n",
            "Epoch 14/30\n",
            "89/89 [==============================] - 1s 15ms/step - loss: 0.0307 - val_loss: 0.0332\n",
            "Epoch 15/30\n",
            "89/89 [==============================] - 1s 15ms/step - loss: 0.0299 - val_loss: 0.0328\n",
            "Epoch 16/30\n",
            "89/89 [==============================] - 1s 15ms/step - loss: 0.0294 - val_loss: 0.0325\n",
            "Epoch 17/30\n",
            "89/89 [==============================] - 1s 15ms/step - loss: 0.0290 - val_loss: 0.0324\n",
            "Epoch 18/30\n",
            "89/89 [==============================] - 1s 15ms/step - loss: 0.0285 - val_loss: 0.0322\n",
            "Epoch 19/30\n",
            "89/89 [==============================] - 1s 12ms/step - loss: 0.0281 - val_loss: 0.0320\n",
            "Epoch 20/30\n",
            "89/89 [==============================] - 1s 15ms/step - loss: 0.0276 - val_loss: 0.0319\n",
            "Epoch 21/30\n",
            "89/89 [==============================] - 1s 12ms/step - loss: 0.0272 - val_loss: 0.0318\n",
            "Epoch 22/30\n",
            "89/89 [==============================] - 1s 13ms/step - loss: 0.0271 - val_loss: 0.0317\n",
            "Epoch 23/30\n",
            "89/89 [==============================] - 1s 12ms/step - loss: 0.0268 - val_loss: 0.0316\n",
            "Epoch 24/30\n",
            "89/89 [==============================] - 1s 15ms/step - loss: 0.0264 - val_loss: 0.0315\n",
            "Epoch 25/30\n",
            "89/89 [==============================] - 1s 15ms/step - loss: 0.0262 - val_loss: 0.0314\n",
            "Epoch 26/30\n",
            "89/89 [==============================] - 1s 15ms/step - loss: 0.0261 - val_loss: 0.0313\n",
            "Epoch 27/30\n",
            "89/89 [==============================] - 1s 13ms/step - loss: 0.0259 - val_loss: 0.0313\n",
            "Epoch 28/30\n",
            "89/89 [==============================] - 1s 14ms/step - loss: 0.0258 - val_loss: 0.0313\n",
            "Epoch 29/30\n",
            "89/89 [==============================] - 1s 13ms/step - loss: 0.0255 - val_loss: 0.0312\n",
            "Epoch 30/30\n",
            "89/89 [==============================] - 1s 11ms/step - loss: 0.0254 - val_loss: 0.0312\n"
          ]
        }
      ]
    },
    {
      "cell_type": "code",
      "source": [
        "# loss 확인\n",
        "plt.plot(hist.history['loss'], label='train')\n",
        "plt.plot(hist.history['val_loss'], label='test')\n",
        "plt.legend()\n",
        "plt.show()\n",
        "\n"
      ],
      "metadata": {
        "colab": {
          "base_uri": "https://localhost:8080/",
          "height": 265
        },
        "id": "76p-3Fe_00TO",
        "outputId": "f24f7aea-9b74-4e70-f6e1-28cb8bda6a42"
      },
      "execution_count": 25,
      "outputs": [
        {
          "output_type": "display_data",
          "data": {
            "image/png": "[encoded data removed]",
            "text/plain": [
              "<Figure size 432x288 with 1 Axes>"
            ]
          },
          "metadata": {
            "needs_background": "light"
          }
        }
      ]
    },
    {
      "cell_type": "code",
      "source": [
        "# 타겟 유저가 보지 않은 영화들에 대해 해당 유저가 부여할 rating을 추정한다.\n",
        "user_id = user_enc.transform([9])[0]         # target user = 9\n",
        "top_n = 20          # 추정 평점이 높은 상위 top_n개 추천\n",
        "\n",
        "# target user가 본 movieId\n",
        "seen_id = set(df[df['userId'] == user_id]['movieId'])\n",
        "\n",
        "# target user가 보지 않은 movieId\n",
        "unseen_id = list(set(df['movieId']) - seen_id)\n",
        "\n",
        "# target user가 보지 않은 영화의 평점을 추정하기 위한 데이터 세트를 생성한다.\n",
        "x_target_item = np.array(unseen_id, dtype=np.int32)\n",
        "x_target_user = np.ones(shape = x_target_item.shape, dtype=np.int32) * user_id\n",
        "\n",
        "# target user가 보지 않은 영화의 평점을 추정한다.\n",
        "x_target_rating = model.predict([x_target_user, x_target_item])\n",
        "\n",
        "# 추정 평점이 높은 순서로 정렬한다. 학습시 rating을 5로 나눠주었기 때문에, 다시 5를 곱해주었다.\n",
        "x_target_df = pd.DataFrame({'userId': user_enc.inverse_transform(x_target_user), \n",
        "                            'movieId': item_enc.inverse_transform(x_target_item),\n",
        "                            'rating': x_target_rating.reshape(-1) * 5})\n",
        "\n",
        "x_target_df = x_target_df.sort_values(by = 'rating', ascending = False)[:top_n]\n",
        "x_target_df[['userId', 'movieId']] = x_target_df[['userId', 'movieId']].astype('int64')\n",
        "x_target_df.head()\n",
        "\n"
      ],
      "metadata": {
        "colab": {
          "base_uri": "https://localhost:8080/",
          "height": 206
        },
        "id": "8PMh1POn00Qf",
        "outputId": "0103d372-ec2b-4630-d0b9-d79236b41357"
      },
      "execution_count": 26,
      "outputs": [
        {
          "output_type": "execute_result",
          "data": {
            "text/html": [
              "\n",
              "  <div id=\"df-1eb9600a-8162-4b3a-974d-5f917440113a\">\n",
              "    <div class=\"colab-df-container\">\n",
              "      <div>\n",
              "<style scoped>\n",
              "    .dataframe tbody tr th:only-of-type {\n",
              "        vertical-align: middle;\n",
              "    }\n",
              "\n",
              "    .dataframe tbody tr th {\n",
              "        vertical-align: top;\n",
              "    }\n",
              "\n",
              "    .dataframe thead th {\n",
              "        text-align: right;\n",
              "    }\n",
              "</style>\n",
              "<table border=\"1\" class=\"dataframe\">\n",
              "  <thead>\n",
              "    <tr style=\"text-align: right;\">\n",
              "      <th></th>\n",
              "      <th>userId</th>\n",
              "      <th>movieId</th>\n",
              "      <th>rating</th>\n",
              "    </tr>\n",
              "  </thead>\n",
              "  <tbody>\n",
              "    <tr>\n",
              "      <th>597</th>\n",
              "      <td>9</td>\n",
              "      <td>750</td>\n",
              "      <td>5.000000</td>\n",
              "    </tr>\n",
              "    <tr>\n",
              "      <th>274</th>\n",
              "      <td>9</td>\n",
              "      <td>318</td>\n",
              "      <td>5.000000</td>\n",
              "    </tr>\n",
              "    <tr>\n",
              "      <th>654</th>\n",
              "      <td>9</td>\n",
              "      <td>858</td>\n",
              "      <td>5.000000</td>\n",
              "    </tr>\n",
              "    <tr>\n",
              "      <th>9554</th>\n",
              "      <td>9</td>\n",
              "      <td>177593</td>\n",
              "      <td>4.935267</td>\n",
              "    </tr>\n",
              "    <tr>\n",
              "      <th>675</th>\n",
              "      <td>9</td>\n",
              "      <td>898</td>\n",
              "      <td>4.927845</td>\n",
              "    </tr>\n",
              "  </tbody>\n",
              "</table>\n",
              "</div>\n",
              "      <button class=\"colab-df-convert\" onclick=\"convertToInteractive('df-1eb9600a-8162-4b3a-974d-5f917440113a')\"\n",
              "              title=\"Convert this dataframe to an interactive table.\"\n",
              "              style=\"display:none;\">\n",
              "        \n",
              "  <svg xmlns=\"http://www.w3.org/2000/svg\" height=\"24px\"viewBox=\"0 0 24 24\"\n",
              "       width=\"24px\">\n",
              "    <path d=\"M0 0h24v24H0V0z\" fill=\"none\"/>\n",
              "    <path d=\"M18.56 5.44l.94 2.06.94-2.06 2.06-.94-2.06-.94-.94-2.06-.94 2.06-2.06.94zm-11 1L8.5 8.5l.94-2.06 2.06-.94-2.06-.94L8.5 2.5l-.94 2.06-2.06.94zm10 10l.94 2.06.94-2.06 2.06-.94-2.06-.94-.94-2.06-.94 2.06-2.06.94z\"/><path d=\"M17.41 7.96l-1.37-1.37c-.4-.4-.92-.59-1.43-.59-.52 0-1.04.2-1.43.59L10.3 9.45l-7.72 7.72c-.78.78-.78 2.05 0 2.83L4 21.41c.39.39.9.59 1.41.59.51 0 1.02-.2 1.41-.59l7.78-7.78 2.81-2.81c.8-.78.8-2.07 0-2.86zM5.41 20L4 18.59l7.72-7.72 1.47 1.35L5.41 20z\"/>\n",
              "  </svg>\n",
              "      </button>\n",
              "      \n",
              "  <style>\n",
              "    .colab-df-container {\n",
              "      display:flex;\n",
              "      flex-wrap:wrap;\n",
              "      gap: 12px;\n",
              "    }\n",
              "\n",
              "    .colab-df-convert {\n",
              "      background-color: #E8F0FE;\n",
              "      border: none;\n",
              "      border-radius: 50%;\n",
              "      cursor: pointer;\n",
              "      display: none;\n",
              "      fill: #1967D2;\n",
              "      height: 32px;\n",
              "      padding: 0 0 0 0;\n",
              "      width: 32px;\n",
              "    }\n",
              "\n",
              "    .colab-df-convert:hover {\n",
              "      background-color: #E2EBFA;\n",
              "      box-shadow: 0px 1px 2px rgba(60, 64, 67, 0.3), 0px 1px 3px 1px rgba(60, 64, 67, 0.15);\n",
              "      fill: #174EA6;\n",
              "    }\n",
              "\n",
              "    [theme=dark] .colab-df-convert {\n",
              "      background-color: #3B4455;\n",
              "      fill: #D2E3FC;\n",
              "    }\n",
              "\n",
              "    [theme=dark] .colab-df-convert:hover {\n",
              "      background-color: #434B5C;\n",
              "      box-shadow: 0px 1px 3px 1px rgba(0, 0, 0, 0.15);\n",
              "      filter: drop-shadow(0px 1px 2px rgba(0, 0, 0, 0.3));\n",
              "      fill: #FFFFFF;\n",
              "    }\n",
              "  </style>\n",
              "\n",
              "      <script>\n",
              "        const buttonEl =\n",
              "          document.querySelector('#df-1eb9600a-8162-4b3a-974d-5f917440113a button.colab-df-convert');\n",
              "        buttonEl.style.display =\n",
              "          google.colab.kernel.accessAllowed ? 'block' : 'none';\n",
              "\n",
              "        async function convertToInteractive(key) {\n",
              "          const element = document.querySelector('#df-1eb9600a-8162-4b3a-974d-5f917440113a');\n",
              "          const dataTable =\n",
              "            await google.colab.kernel.invokeFunction('convertToInteractive',\n",
              "                                                     [key], {});\n",
              "          if (!dataTable) return;\n",
              "\n",
              "          const docLinkHtml = 'Like what you see? Visit the ' +\n",
              "            '<a target=\"_blank\" href=https://colab.research.google.com/notebooks/data_table.ipynb>data table notebook</a>'\n",
              "            + ' to learn more about interactive tables.';\n",
              "          element.innerHTML = '';\n",
              "          dataTable['output_type'] = 'display_data';\n",
              "          await google.colab.output.renderOutput(dataTable, element);\n",
              "          const docLink = document.createElement('div');\n",
              "          docLink.innerHTML = docLinkHtml;\n",
              "          element.appendChild(docLink);\n",
              "        }\n",
              "      </script>\n",
              "    </div>\n",
              "  </div>\n",
              "  "
            ],
            "text/plain": [
              "      userId  movieId    rating\n",
              "597        9      750  5.000000\n",
              "274        9      318  5.000000\n",
              "654        9      858  5.000000\n",
              "9554       9   177593  4.935267\n",
              "675        9      898  4.927845"
            ]
          },
          "metadata": {},
          "execution_count": 26
        }
      ]
    },
    {
      "cell_type": "code",
      "source": [
        "# 추천 결과를 출력한다.\n",
        "print('\\n영화 추천 목록 : User = {}'.format(user_enc.inverse_transform([user_id])[0]))\n",
        "print(\" No {:40s} {:s}\".format('Title', 'Expected rating'))\n",
        "for i, (idx, row) in enumerate(x_target_df.iterrows()):\n",
        "    title = movies[movies['movieId'] == row['movieId']]['title'].values[0]\n",
        "    print(\"{:2d} : {:40s}     {:.4f}\".format(i+1, title[:39], row['rating']))\n",
        "\n"
      ],
      "metadata": {
        "colab": {
          "base_uri": "https://localhost:8080/"
        },
        "id": "NuJE9sBr00N4",
        "outputId": "7e189155-d9bb-4c4c-9a4f-938c96ba0333"
      },
      "execution_count": 27,
      "outputs": [
        {
          "output_type": "stream",
          "name": "stdout",
          "text": [
            "\n",
            "영화 추천 목록 : User = 9\n",
            " No Title                                    Expected rating\n",
            " 1 : Dr. Strangelove or: How I Learned to St      5.0000\n",
            " 2 : Shawshank Redemption, The (1994)             5.0000\n",
            " 3 : Godfather, The (1972)                        5.0000\n",
            " 4 : Three Billboards Outside Ebbing, Missou      4.9353\n",
            " 5 : Philadelphia Story, The (1940)               4.9278\n",
            " 6 : Guess Who's Coming to Dinner (1967)          4.8999\n",
            " 7 : Lawrence of Arabia (1962)                    4.8912\n",
            " 8 : Star Wars: Episode IV - A New Hope (197      4.8811\n",
            " 9 : Schindler's List (1993)                      4.8425\n",
            "10 : Casablanca (1942)                            4.8379\n",
            "11 : Cool Hand Luke (1967)                        4.8143\n",
            "12 : Princess Bride, The (1987)                   4.8118\n",
            "13 : Bridge on the River Kwai, The (1957)         4.8115\n",
            "14 : Ran (1985)                                   4.8001\n",
            "15 : Monty Python and the Holy Grail (1975)       4.7992\n",
            "16 : Streetcar Named Desire, A (1951)             4.7803\n",
            "17 : Rear Window (1954)                           4.7750\n",
            "18 : Gladiator (1992)                             4.7655\n",
            "19 : Godfather: Part II, The (1974)               4.7654\n",
            "20 : Grand Day Out with Wallace and Gromit,       4.7630\n"
          ]
        }
      ]
    },
    {
      "cell_type": "code",
      "source": [
        "# 평가. MSE로 평가한다.\n",
        "# 추천 결과에 대한 신뢰도로 활용할 수 있다.\n",
        "# loss가 local min 지점에 빠질 수 있으므로 여러번 수행한 후 MSE가 작았을 때의 결과를 최종 결과로 선택한다.\n",
        "pred = model.predict([x_user_test, x_item_test])\n",
        "\n"
      ],
      "metadata": {
        "id": "6CW2X7Xk00LO"
      },
      "execution_count": 28,
      "outputs": []
    },
    {
      "cell_type": "code",
      "source": [
        "# MSE를 계산한다.\n",
        "mse = mean_squared_error(pred, y_rating_test)\n",
        "print('MSE =', mse.round(4))\n",
        "\n",
        "from sklearn.metrics import r2_score\n",
        "r2_score(y_rating_test, pred)"
      ],
      "metadata": {
        "colab": {
          "base_uri": "https://localhost:8080/"
        },
        "id": "ZX6wfZBt00G6",
        "outputId": "eb6ac0db-9050-4701-8b10-ebd2f5db4b7f"
      },
      "execution_count": 29,
      "outputs": [
        {
          "output_type": "stream",
          "name": "stdout",
          "text": [
            "MSE = 0.0312\n"
          ]
        },
        {
          "output_type": "execute_result",
          "data": {
            "text/plain": [
              "0.2717218444627615"
            ]
          },
          "metadata": {},
          "execution_count": 29
        }
      ]
    }
  ]
}