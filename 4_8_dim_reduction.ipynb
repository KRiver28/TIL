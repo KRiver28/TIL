{
  "nbformat": 4,
  "nbformat_minor": 0,
  "metadata": {
    "colab": {
      "name": "4-8.dim_reduction.ipynb",
      "provenance": [],
      "collapsed_sections": [],
      "authorship_tag": "ABX9TyPtRwFdMnzJWST30asfIUq6",
      "include_colab_link": true
    },
    "kernelspec": {
      "name": "python3",
      "display_name": "Python 3"
    },
    "language_info": {
      "name": "python"
    }
  },
  "cells": [
    {
      "cell_type": "markdown",
      "metadata": {
        "id": "view-in-github",
        "colab_type": "text"
      },
      "source": [
        "<a href=\"https://colab.research.google.com/github/KRiver28/TIL/blob/master/4_8_dim_reduction.ipynb\" target=\"_parent\"><img src=\"https://colab.research.google.com/assets/colab-badge.svg\" alt=\"Open In Colab\"/></a>"
      ]
    },
    {
      "cell_type": "code",
      "execution_count": 1,
      "metadata": {
        "id": "FxOEAjsxekfZ"
      },
      "outputs": [],
      "source": [
        "from sklearn.datasets import load_breast_cancer\n",
        "from sklearn.decomposition import PCA\n",
        "from sklearn.decomposition import KernelPCA\n",
        "from sklearn.decomposition import TruncatedSVD"
      ]
    },
    {
      "cell_type": "code",
      "source": [
        "# breast cancer 데이터를 가져온다.\n",
        "cancer = load_breast_cancer()\n",
        "x = cancer['data']\n",
        "x.shape"
      ],
      "metadata": {
        "colab": {
          "base_uri": "https://localhost:8080/"
        },
        "id": "yM5AX3FJenQY",
        "outputId": "28d3529f-2839-4b94-81b7-bcb0845750ce"
      },
      "execution_count": 2,
      "outputs": [
        {
          "output_type": "execute_result",
          "data": {
            "text/plain": [
              "(569, 30)"
            ]
          },
          "metadata": {},
          "execution_count": 2
        }
      ]
    },
    {
      "cell_type": "code",
      "source": [
        "print(x[:3, :])"
      ],
      "metadata": {
        "colab": {
          "base_uri": "https://localhost:8080/"
        },
        "id": "ActwdMGYet7r",
        "outputId": "a966b37c-192c-4cc6-d3a8-13fc2c4ca286"
      },
      "execution_count": 3,
      "outputs": [
        {
          "output_type": "stream",
          "name": "stdout",
          "text": [
            "[[1.799e+01 1.038e+01 1.228e+02 1.001e+03 1.184e-01 2.776e-01 3.001e-01\n",
            "  1.471e-01 2.419e-01 7.871e-02 1.095e+00 9.053e-01 8.589e+00 1.534e+02\n",
            "  6.399e-03 4.904e-02 5.373e-02 1.587e-02 3.003e-02 6.193e-03 2.538e+01\n",
            "  1.733e+01 1.846e+02 2.019e+03 1.622e-01 6.656e-01 7.119e-01 2.654e-01\n",
            "  4.601e-01 1.189e-01]\n",
            " [2.057e+01 1.777e+01 1.329e+02 1.326e+03 8.474e-02 7.864e-02 8.690e-02\n",
            "  7.017e-02 1.812e-01 5.667e-02 5.435e-01 7.339e-01 3.398e+00 7.408e+01\n",
            "  5.225e-03 1.308e-02 1.860e-02 1.340e-02 1.389e-02 3.532e-03 2.499e+01\n",
            "  2.341e+01 1.588e+02 1.956e+03 1.238e-01 1.866e-01 2.416e-01 1.860e-01\n",
            "  2.750e-01 8.902e-02]\n",
            " [1.969e+01 2.125e+01 1.300e+02 1.203e+03 1.096e-01 1.599e-01 1.974e-01\n",
            "  1.279e-01 2.069e-01 5.999e-02 7.456e-01 7.869e-01 4.585e+00 9.403e+01\n",
            "  6.150e-03 4.006e-02 3.832e-02 2.058e-02 2.250e-02 4.571e-03 2.357e+01\n",
            "  2.553e+01 1.525e+02 1.709e+03 1.444e-01 4.245e-01 4.504e-01 2.430e-01\n",
            "  3.613e-01 8.758e-02]]\n"
          ]
        }
      ]
    },
    {
      "cell_type": "code",
      "source": [
        "# 1. PCA\n",
        "# ------\n",
        "pca = PCA(n_components=2)\n",
        "x_pca = pca.fit_transform(x)\n",
        "x_pca.shape"
      ],
      "metadata": {
        "colab": {
          "base_uri": "https://localhost:8080/"
        },
        "id": "6rud-itDenNa",
        "outputId": "fa430c5b-16b7-4e0b-9dbd-ac275aa82f2e"
      },
      "execution_count": 4,
      "outputs": [
        {
          "output_type": "execute_result",
          "data": {
            "text/plain": [
              "(569, 2)"
            ]
          },
          "metadata": {},
          "execution_count": 4
        }
      ]
    },
    {
      "cell_type": "code",
      "source": [
        "print(x_pca[:10, :])"
      ],
      "metadata": {
        "colab": {
          "base_uri": "https://localhost:8080/"
        },
        "id": "I-rMttGaeu5_",
        "outputId": "7c7ca6e8-6e1e-4c9b-caa0-3bee004a5ed6"
      },
      "execution_count": 5,
      "outputs": [
        {
          "output_type": "stream",
          "name": "stdout",
          "text": [
            "[[1160.1425737  -293.91754364]\n",
            " [1269.12244319   15.63018184]\n",
            " [ 995.79388896   39.15674324]\n",
            " [-407.18080253  -67.38031982]\n",
            " [ 930.34118015  189.34074158]\n",
            " [-211.59125901  -79.87744626]\n",
            " [ 821.21089989  -47.14966994]\n",
            " [ -25.08997758  -74.18601461]\n",
            " [-191.29283443  -42.12648962]\n",
            " [-238.29286318  -65.38650692]]\n"
          ]
        }
      ]
    },
    {
      "cell_type": "code",
      "source": [
        "# 2. KernelPCA\n",
        "# ------------\n",
        "kpc = KernelPCA(n_components=2)\n",
        "x_kpc = kpc.fit_transform(x)\n",
        "x_kpc.shape"
      ],
      "metadata": {
        "colab": {
          "base_uri": "https://localhost:8080/"
        },
        "id": "WFGeP808enKk",
        "outputId": "e7934d64-1463-46bf-953d-12cab39740e8"
      },
      "execution_count": 6,
      "outputs": [
        {
          "output_type": "execute_result",
          "data": {
            "text/plain": [
              "(569, 2)"
            ]
          },
          "metadata": {},
          "execution_count": 6
        }
      ]
    },
    {
      "cell_type": "code",
      "source": [
        "print(x_kpc[:10, :])"
      ],
      "metadata": {
        "colab": {
          "base_uri": "https://localhost:8080/"
        },
        "id": "pAOxy19JewoU",
        "outputId": "da0372ca-1a39-47ce-ada5-3f1f9f4258b4"
      },
      "execution_count": 7,
      "outputs": [
        {
          "output_type": "stream",
          "name": "stdout",
          "text": [
            "[[1160.1425737  -293.91754364]\n",
            " [1269.12244319   15.63018184]\n",
            " [ 995.79388896   39.15674324]\n",
            " [-407.18080253  -67.38031982]\n",
            " [ 930.34118015  189.34074158]\n",
            " [-211.59125901  -79.87744626]\n",
            " [ 821.21089989  -47.14966994]\n",
            " [ -25.08997758  -74.18601461]\n",
            " [-191.29283443  -42.12648962]\n",
            " [-238.29286318  -65.38650692]]\n"
          ]
        }
      ]
    },
    {
      "cell_type": "code",
      "source": [
        "# 2. SVD\n",
        "# ------\n",
        "svd = TruncatedSVD(n_components=2)\n",
        "x_svd = svd.fit_transform(x)\n",
        "x_svd.shape"
      ],
      "metadata": {
        "colab": {
          "base_uri": "https://localhost:8080/"
        },
        "id": "Sj5XoAiEenH9",
        "outputId": "82d396a3-ccf2-4521-a77a-ebdeda073c8f"
      },
      "execution_count": 8,
      "outputs": [
        {
          "output_type": "execute_result",
          "data": {
            "text/plain": [
              "(569, 2)"
            ]
          },
          "metadata": {},
          "execution_count": 8
        }
      ]
    },
    {
      "cell_type": "code",
      "source": [
        "print(x_svd[:10, :])"
      ],
      "metadata": {
        "colab": {
          "base_uri": "https://localhost:8080/"
        },
        "id": "4rVHljZ4ex-x",
        "outputId": "4ba0ddcd-d9b9-4f18-ad88-9426e1fbacbe"
      },
      "execution_count": 9,
      "outputs": [
        {
          "output_type": "stream",
          "name": "stdout",
          "text": [
            "[[ 2.24197428e+03  3.47715560e+02]\n",
            " [ 2.37240840e+03  5.69016699e+01]\n",
            " [ 2.10184028e+03  1.19476274e+01]\n",
            " [ 6.97432105e+02 -2.12770003e+00]\n",
            " [ 2.04708723e+03 -1.37765113e+02]\n",
            " [ 8.91188570e+02  2.66671573e+01]\n",
            " [ 1.92264430e+03  7.73491891e+01]\n",
            " [ 1.07723728e+03  3.70105110e+01]\n",
            " [ 9.14448040e+02 -9.86474634e+00]\n",
            " [ 8.65899558e+02  9.19698359e+00]]\n"
          ]
        }
      ]
    }
  ]
}